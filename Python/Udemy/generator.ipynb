{
 "metadata": {
  "language_info": {
   "codemirror_mode": {
    "name": "ipython",
    "version": 3
   },
   "file_extension": ".py",
   "mimetype": "text/x-python",
   "name": "python",
   "nbconvert_exporter": "python",
   "pygments_lexer": "ipython3",
   "version": "3.6.3-final"
  },
  "orig_nbformat": 2,
  "kernelspec": {
   "name": "python3",
   "display_name": "Python 3.6.3 64-bit",
   "metadata": {
    "interpreter": {
     "hash": "0a6cd5381a0944319d5b7625be2fded0309c5b0fd49b5b923192f7d330bafa94"
    }
   }
  }
 },
 "nbformat": 4,
 "nbformat_minor": 2,
 "cells": [
  {
   "source": [
    "## ジェネレーター\n",
    "### 処理が高速であるため、forループで回して返す時よりもよい時がある。"
   ],
   "cell_type": "markdown",
   "metadata": {}
  },
  {
   "cell_type": "code",
   "execution_count": 6,
   "metadata": {},
   "outputs": [
    {
     "output_type": "stream",
     "name": "stdout",
     "text": [
      "good morning\ngod afternoon\ngot night\n"
     ]
    }
   ],
   "source": [
    "# for文の場合\n",
    "l = [\"good morning\", \"god afternoon\", \"got night\"]\n",
    "for i in l:\n",
    "    print(i)"
   ]
  },
  {
   "cell_type": "code",
   "execution_count": 1,
   "metadata": {},
   "outputs": [
    {
     "output_type": "stream",
     "name": "stdout",
     "text": [
      "good morning\ngod afternoon\ngot night\n"
     ]
    }
   ],
   "source": [
    "# ジェネレーターではyieldを使い、次の行に行かずに抜ける\n",
    "def greeting():\n",
    "    yield 'good morning'\n",
    "    yield 'god afternoon'\n",
    "    yield 'got night'\n",
    "for g in greeting():\n",
    "    print(g)"
   ]
  },
  {
   "cell_type": "code",
   "execution_count": 7,
   "metadata": {},
   "outputs": [
    {
     "output_type": "stream",
     "name": "stdout",
     "text": [
      "good morning\n@@@@\ngod afternoon\n@@@@\ngot night\n"
     ]
    }
   ],
   "source": [
    "# for文の場合は、一気にforを回すが、ジェネレーターでnextを指定すると、yieldで抜けるので間に処理ができる\n",
    "# ジェネレーターは行われた処理を記憶する。それが関数との違い。\n",
    "g = greeting()\n",
    "print(next(g))\n",
    "print(\"@@@@\")\n",
    "print(next(g))\n",
    "print(\"@@@@\")\n",
    "print(next(g))"
   ]
  },
  {
   "cell_type": "code",
   "execution_count": 10,
   "metadata": {},
   "outputs": [
    {
     "output_type": "stream",
     "name": "stdout",
     "text": [
      "0\n1\n2\n3\n4\n"
     ]
    }
   ],
   "source": [
    "# forバージョン\n",
    "def t():\n",
    "    num = []\n",
    "    for i in range(5):\n",
    "        num.append(i)\n",
    "    return num\n",
    "for i in t():\n",
    "    print(i)"
   ]
  },
  {
   "cell_type": "code",
   "execution_count": 12,
   "metadata": {},
   "outputs": [
    {
     "output_type": "stream",
     "name": "stdout",
     "text": [
      "0\n1\n2\n3\n4\n"
     ]
    }
   ],
   "source": [
    "# 上のfor文はジェネレーターでも書けるので、ジェネレーターで書く\n",
    "def t():\n",
    "    for i in range(5):\n",
    "        yield i\n",
    "for i in t():\n",
    "    print(i)"
   ]
  },
  {
   "source": [
    "## クロージャー"
   ],
   "cell_type": "markdown",
   "metadata": {}
  },
  {
   "cell_type": "code",
   "execution_count": 16,
   "metadata": {},
   "outputs": [
    {
     "output_type": "stream",
     "name": "stdout",
     "text": [
      "3\n"
     ]
    }
   ],
   "source": [
    "# 下の例だとa+bをすぐ実行したくないときなどに使う\n",
    "def outer(a, b):\n",
    "    def inner():\n",
    "        return a + b\n",
    "    # inner()にしない。innerを実行せずに返す。\n",
    "    return inner\n",
    "\n",
    "# ↓実行してもinnerは実行されない\n",
    "f = outer(1, 2)\n",
    "# ↓ここで実行される\n",
    "r = f()\n",
    "print(r)"
   ]
  },
  {
   "cell_type": "code",
   "execution_count": 18,
   "metadata": {},
   "outputs": [
    {
     "output_type": "stream",
     "name": "stdout",
     "text": [
      "314.0\n31415.926535\n"
     ]
    }
   ],
   "source": [
    "def circle_area_func(pi):\n",
    "    def circle_area(radius):\n",
    "        return pi * radius * radius\n",
    "    return circle_area\n",
    "\n",
    "# 初めにpiを決めてしまう。ベースとなるような値。変数は関数を保持している\n",
    "# PI=3.14 などにしてグローバルIDで使うのもいいが、書き換えられないように隠蔽するときなどに使う\n",
    "ca1 = circle_area_func(3.14)\n",
    "ca2 = circle_area_func(3.1415926535)\n",
    "\n",
    "# のちのち用途によって使い分ける。\n",
    "print(ca1(10))\n",
    "print(ca2(100))"
   ]
  },
  {
   "source": [
    "## デコレーター\n",
    "### 関数呼び出し時に、前後で何か処理をしたいときに使う\n",
    "### 一度デコレーターを記述してしまえば、同様の処理を\"@関数\"ですぐ追加できる"
   ],
   "cell_type": "markdown",
   "metadata": {}
  },
  {
   "cell_type": "code",
   "execution_count": 26,
   "metadata": {},
   "outputs": [
    {
     "output_type": "stream",
     "name": "stdout",
     "text": [
      "start\n30\nend\n"
     ]
    }
   ],
   "source": [
    "# 下の例だと、a + b 行う前後になんらかの処理をしたい場合\n",
    "def print_info(func):\n",
    "    def wrapper(*args, **kwargs):\n",
    "        print(\"start\")\n",
    "        # funcはadd_num関数\n",
    "        result = func(*args, **kwargs)\n",
    "        print(\"end\")\n",
    "        return result\n",
    "    return wrapper\n",
    "\n",
    "@print_info\n",
    "def add_num(a, b):\n",
    "    return print(a + b)\n",
    "\n",
    "add_num(10, 20)"
   ]
  },
  {
   "cell_type": "code",
   "execution_count": null,
   "metadata": {},
   "outputs": [],
   "source": []
  }
 ]
}