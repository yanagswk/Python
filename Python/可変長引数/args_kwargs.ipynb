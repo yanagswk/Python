{
 "metadata": {
  "language_info": {
   "codemirror_mode": {
    "name": "ipython",
    "version": 3
   },
   "file_extension": ".py",
   "mimetype": "text/x-python",
   "name": "python",
   "nbconvert_exporter": "python",
   "pygments_lexer": "ipython3",
   "version": "3.7.6-final"
  },
  "orig_nbformat": 2,
  "kernelspec": {
   "name": "python3",
   "display_name": "Python 3"
  }
 },
 "nbformat": 4,
 "nbformat_minor": 2,
 "cells": [
  {
   "source": [
    "## *args (複数の引数をタプルとして受け取る)"
   ],
   "cell_type": "markdown",
   "metadata": {}
  },
  {
   "cell_type": "code",
   "execution_count": 1,
   "metadata": {},
   "outputs": [
    {
     "output_type": "stream",
     "name": "stdout",
     "text": [
      "10\n"
     ]
    }
   ],
   "source": [
    "# 引数に*argsのように、*をつけると任意の数の引数を指定できる\n",
    "def my_sum(*args):\n",
    "    return sum(args)\n",
    "\n",
    "print(my_sum(1, 2, 3, 4))"
   ]
  },
  {
   "cell_type": "code",
   "execution_count": 3,
   "metadata": {},
   "outputs": [
    {
     "output_type": "stream",
     "name": "stdout",
     "text": [
      "args:  (1, 2, 3, 4)\ntype:  <class 'tuple'>\nsum :  10\n"
     ]
    }
   ],
   "source": [
    "# 関数の中では複数の引数がタプルとして受け取られている。例ではsum()関数にタプルを渡して合計を算出している。\n",
    "def my_sum2(*args):\n",
    "    print('args: ', args)\n",
    "    print('type: ', type(args))\n",
    "    print('sum : ', sum(args))\n",
    "my_sum2(1, 2, 3, 4)"
   ]
  },
  {
   "cell_type": "code",
   "execution_count": 4,
   "metadata": {},
   "outputs": [
    {
     "output_type": "stream",
     "name": "stdout",
     "text": [
      "arg1:  0\narg2:  1\nargs:  (2, 3, 4)\n"
     ]
    }
   ],
   "source": [
    "# 位置引数よりうしろ（右側）で指定した値がargsにタプルとして渡される。位置引数のみの場合は空のタプルになる。\n",
    "def func_args(arg1, arg2, *args):\n",
    "    print('arg1: ', arg1)\n",
    "    print('arg2: ', arg2)\n",
    "    print('args: ', args)\n",
    "func_args(0, 1, 2, 3, 4)"
   ]
  },
  {
   "source": [
    "## **kwargs (複数のキーワード引数を辞書として受け取る)"
   ],
   "cell_type": "markdown",
   "metadata": {}
  },
  {
   "cell_type": "code",
   "execution_count": 6,
   "metadata": {},
   "outputs": [
    {
     "output_type": "stream",
     "name": "stdout",
     "text": [
      "kwargs :  {'key1': 1, 'key2': 2, 'key3': 3}\ntype   :  <class 'dict'>\n"
     ]
    }
   ],
   "source": [
    "# 関数の中では引数名がキーkey、値がvalueとなる辞書として受け取られる\n",
    "def func_kwargs(**kwargs):\n",
    "    print('kwargs : ', kwargs)\n",
    "    print('type   : ', type(kwargs))\n",
    "func_kwargs(key1=1, key2=2, key3=3)"
   ]
  },
  {
   "cell_type": "code",
   "execution_count": 8,
   "metadata": {},
   "outputs": [
    {
     "output_type": "stream",
     "name": "stdout",
     "text": [
      "arg1   :  0\narg2   :  1\nkwargs :  {'key1': 1}\n"
     ]
    }
   ],
   "source": [
    "def func_kwargs_positional(arg1, arg2, **kwargs):\n",
    "    print('arg1   : ', arg1)\n",
    "    print('arg2   : ', arg2)\n",
    "    print('kwargs : ', kwargs)\n",
    "func_kwargs_positional(0, 1, key1=1)"
   ]
  },
  {
   "cell_type": "code",
   "execution_count": 9,
   "metadata": {},
   "outputs": [
    {
     "output_type": "stream",
     "name": "stdout",
     "text": [
      "arg1   :  100\narg2   :  200\nkwargs :  {'key1': 1, 'key2': 2}\n"
     ]
    }
   ],
   "source": [
    "# 関数呼び出し時に辞書オブジェクトに**をつけて引数に指定することで、展開してそれぞれの引数として渡すことも可能\n",
    "d = {'key1': 1, 'key2': 2, 'arg1': 100, 'arg2': 200}\n",
    "func_kwargs_positional(**d)"
   ]
  },
  {
   "cell_type": "code",
   "execution_count": null,
   "metadata": {},
   "outputs": [],
   "source": []
  }
 ]
}