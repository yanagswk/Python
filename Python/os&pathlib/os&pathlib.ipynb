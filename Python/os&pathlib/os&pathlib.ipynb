{
 "metadata": {
  "language_info": {
   "codemirror_mode": {
    "name": "ipython",
    "version": 3
   },
   "file_extension": ".py",
   "mimetype": "text/x-python",
   "name": "python",
   "nbconvert_exporter": "python",
   "pygments_lexer": "ipython3",
   "version": "3.6.3-final"
  },
  "orig_nbformat": 2,
  "kernelspec": {
   "name": "python3",
   "display_name": "Python 3"
  }
 },
 "nbformat": 4,
 "nbformat_minor": 2,
 "cells": [
  {
   "source": [
    "# os.path()"
   ],
   "cell_type": "markdown",
   "metadata": {}
  },
  {
   "source": [
    "### os.path.exists()・・・・ファイル及びディレクトリの存在確認\n",
    "### os.path.isdir()・・・・ディレクトリの存在確認\n",
    "### os.path.isfile()・・・・ファイルの存在確認\n",
    "### os.path.adspath()・・・・引数で指定したパスの絶対パスを返す\n"
   ],
   "cell_type": "markdown",
   "metadata": {}
  },
  {
   "cell_type": "code",
   "execution_count": 42,
   "metadata": {},
   "outputs": [
    {
     "output_type": "stream",
     "name": "stdout",
     "text": [
      "実行ファイル名: sample.ipynb\n実行ファイルのパス: c:\\Users\\yanag\\iCloudDrive\\programing\\Python\\os\nexists(): True\nisdir(): True\nisfile(): True\n"
     ]
    }
   ],
   "source": [
    "import os\n",
    "\n",
    "current_file = \"sample.ipynb\"\n",
    "current_dir = os.path.dirname(os.path.abspath(\"__file__\")) # 実行ファイルパス取得\n",
    "file_path = os.path.join(current_dir, test_file)\n",
    "\n",
    "print(f\"実行ファイル名: {current_file}\" )\n",
    "print(f\"実行ファイルのパス: {current_dir}\" )\n",
    "print(f\"exists(): {os.path.exists(file_path)}\")\n",
    "print(f\"isdir(): {os.path.isdir(current_dir)}\")\n",
    "print(f\"isfile(): {os.path.isfile(current_file)}\")"
   ]
  },
  {
   "source": [
    "### os.path.basename()・・・・指定したパスからファイル名のみを取得\n",
    "### os.path.dirname()・・・・ファイル名を取り除いたパスのみを取得"
   ],
   "cell_type": "markdown",
   "metadata": {}
  },
  {
   "cell_type": "code",
   "execution_count": 19,
   "metadata": {},
   "outputs": [
    {
     "output_type": "stream",
     "name": "stdout",
     "text": [
      "path: /usr/local/sample.ipynb\nbasename(): sample.ipynb\ndirname(): /usr/local\n"
     ]
    }
   ],
   "source": [
    "path = \"/usr/local/sample.ipynb\"\n",
    "\n",
    "print(f\"path: {path}\")\n",
    "print(f\"basename(): {os.path.basename(path)}\")\n",
    "print(f\"dirname(): {os.path.dirname(path)}\")"
   ]
  },
  {
   "source": [
    "### os.path.split()・・・・ファイル名を境に分割してタプルにする\n",
    "### os.path.splitext()・・・・拡張子を境に分割してタプルにする\n",
    "### os.path.join()・・・・パスを結合する"
   ],
   "cell_type": "markdown",
   "metadata": {}
  },
  {
   "cell_type": "code",
   "execution_count": 33,
   "metadata": {},
   "outputs": [
    {
     "output_type": "stream",
     "name": "stdout",
     "text": [
      "split(): ('/usr/local', 'sample.ipynb')\nsplit() ディレクトリ名: /usr/local\nsplit() ファイル名: sample.ipynb\nsplitext(): ('/usr/local/sample', '.ipynb')\njoin(): /usr/local\\sample.ipynb\n"
     ]
    }
   ],
   "source": [
    "path2 = \"/usr/local/sample.ipynb\"\n",
    "\n",
    "print(f\"split(): {os.path.split(path)}\")\n",
    "print(f\"split() ディレクトリ名: {os.path.split(path)[0]}\")\n",
    "print(f\"split() ファイル名: {os.path.split(path)[1]}\")\n",
    "\n",
    "print(f\"splitext(): {os.path.splitext(path)}\")\n",
    "\n",
    "print(f\"join(): {os.path.join(os.path.split(path)[0], os.path.split(path)[1])}\")\n",
    "\n",
    "\n"
   ]
  },
  {
   "source": [
    "# os.listdir()\n",
    "### 指定したファイル、ディレクトリの一覧をリストで返す。"
   ],
   "cell_type": "markdown",
   "metadata": {}
  },
  {
   "cell_type": "code",
   "execution_count": 49,
   "metadata": {},
   "outputs": [
    {
     "output_type": "stream",
     "name": "stdout",
     "text": [
      "listdir(): ['sample.ipynb', 'test1.py', 'test2.py', 'test_dir']\n"
     ]
    }
   ],
   "source": [
    "path = os.path.dirname(os.path.abspath(\"__file__\"))\n",
    "\n",
    "print(f\"listdir(): {os.listdir(path)}\")"
   ]
  },
  {
   "source": [
    "### ファイルのみ取得"
   ],
   "cell_type": "markdown",
   "metadata": {}
  },
  {
   "cell_type": "code",
   "execution_count": 51,
   "metadata": {},
   "outputs": [
    {
     "output_type": "stream",
     "name": "stdout",
     "text": [
      "ファイルのみ取得: ['sample.ipynb', 'test1.py', 'test2.py']\n"
     ]
    }
   ],
   "source": [
    "file_list = []\n",
    "for file_name in os.listdir(path):\n",
    "    # isfileをisdirに変えれば、ディレクトリのみになる\n",
    "    if os.path.isfile(file_name):\n",
    "       file_list.append(file_name)\n",
    "print(f\"ファイルのみ取得: {file_list}\")"
   ]
  },
  {
   "cell_type": "code",
   "execution_count": null,
   "metadata": {},
   "outputs": [],
   "source": []
  }
 ]
}