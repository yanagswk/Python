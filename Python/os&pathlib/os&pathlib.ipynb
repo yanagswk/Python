{
 "metadata": {
  "language_info": {
   "codemirror_mode": {
    "name": "ipython",
    "version": 3
   },
   "file_extension": ".py",
   "mimetype": "text/x-python",
   "name": "python",
   "nbconvert_exporter": "python",
   "pygments_lexer": "ipython3",
   "version": "3.6.3-final"
  },
  "orig_nbformat": 2,
  "kernelspec": {
   "name": "python3",
   "display_name": "Python 3.6.3 64-bit",
   "metadata": {
    "interpreter": {
     "hash": "0a6cd5381a0944319d5b7625be2fded0309c5b0fd49b5b923192f7d330bafa94"
    }
   }
  }
 },
 "nbformat": 4,
 "nbformat_minor": 2,
 "cells": [
  {
   "source": [
    "|処理内容| os及びos.path | pathlib | \n",
    "| :-- | :-- | :-- | \n",
    "|カレントディレクトリ取得| os.getcwd() | Path.cwd() |\n",
    "|先頭の`~`をホームディレクトリに置換| os.path.expanduser() | Path.expanduser(), Path.home() |\n",
    "|パスの存在確認| os.path.exists() | Path.exists() |\n",
    "|ディレクトリか判定| os.path.isdir() | Path.is_dir() |\n",
    "|ファイルか判定| os.path.isfile() | Path.is_file() |\n",
    "|シンボリックリンクか判定| os.path.islink() | Path.is_symlink() |\n",
    "|絶対パスか判定| os.path.isabs() | PurePath.is_absolute() |\n",
    "|絶対パスへ変換| os.path.abspath() | Path.resolve() |\n",
    "|ステータス取得| os.stat() | Path.stat(), Path.owner(), Path.group() |\n",
    "|パスを結合| os.path.join() | PurePath.joinpath() |\n",
    "|フォルダを作成| os.mkdir(), os.makedirs() | Path.mkdir() |\n",
    "|フォルダを削除| os.rmdir() | Path.rmdir() |\n",
    "|ファイル名を取得| os.path.basename() | PurePath.name |\n",
    "|親ディレクトリを取得| os.path.dirname() | PurePath.parent |\n",
    "|拡張子を取得| os.path.splitext() | PurePath.suffix |\n",
    "|名前を変更| os.rename() | Path.rename() |\n",
    "|ファイルまたはディレクトリ名前変更| os.replace() | Path.replace() |\n",
    "|ファイルを削除| os.remove(), os.unlink() | Path.unlink() |\n",
    "|同じファイルか判定| os.path.samefile() | Path.samefile() |\n",
    "|権限を変更| os.chmod() | Path.chmod() |"
   ],
   "cell_type": "markdown",
   "metadata": {}
  },
  {
   "cell_type": "code",
   "execution_count": null,
   "metadata": {},
   "outputs": [],
   "source": []
  },
  {
   "source": [
    "# os.path()"
   ],
   "cell_type": "markdown",
   "metadata": {}
  },
  {
   "source": [
    "### os.path.exists()・・・・ファイル及びディレクトリの存在確認\n",
    "### os.path.isdir()・・・・ディレクトリの存在確認\n",
    "### os.path.isfile()・・・・ファイルの存在確認\n",
    "### os.path.adspath()・・・・引数で指定したパスの絶対パスを返す\n"
   ],
   "cell_type": "markdown",
   "metadata": {}
  },
  {
   "cell_type": "code",
   "execution_count": 42,
   "metadata": {},
   "outputs": [
    {
     "output_type": "stream",
     "name": "stdout",
     "text": [
      "実行ファイル名: sample.ipynb\n実行ファイルのパス: c:\\Users\\yanag\\iCloudDrive\\programing\\Python\\os\nexists(): True\nisdir(): True\nisfile(): True\n"
     ]
    }
   ],
   "source": [
    "import os\n",
    "\n",
    "current_file = \"sample.ipynb\"\n",
    "current_dir = os.path.dirname(os.path.abspath(\"__file__\")) # 実行ファイルパス取得\n",
    "file_path = os.path.join(current_dir, test_file)\n",
    "\n",
    "print(f\"実行ファイル名: {current_file}\" )\n",
    "print(f\"実行ファイルのパス: {current_dir}\" )\n",
    "print(f\"exists(): {os.path.exists(file_path)}\")\n",
    "print(f\"isdir(): {os.path.isdir(current_dir)}\")\n",
    "print(f\"isfile(): {os.path.isfile(current_file)}\")"
   ]
  },
  {
   "source": [
    "### os.path.basename()・・・・指定したパスからファイル名のみを取得\n",
    "### os.path.dirname()・・・・ファイル名を取り除いたパスのみを取得"
   ],
   "cell_type": "markdown",
   "metadata": {}
  },
  {
   "cell_type": "code",
   "execution_count": 19,
   "metadata": {},
   "outputs": [
    {
     "output_type": "stream",
     "name": "stdout",
     "text": [
      "path: /usr/local/sample.ipynb\nbasename(): sample.ipynb\ndirname(): /usr/local\n"
     ]
    }
   ],
   "source": [
    "path = \"/usr/local/sample.ipynb\"\n",
    "\n",
    "print(f\"path: {path}\")\n",
    "print(f\"basename(): {os.path.basename(path)}\")\n",
    "print(f\"dirname(): {os.path.dirname(path)}\")"
   ]
  },
  {
   "source": [
    "### os.path.split()・・・・ファイル名を境に分割してタプルにする\n",
    "### os.path.splitext()・・・・拡張子を境に分割してタプルにする\n",
    "### os.path.join()・・・・パスを結合する"
   ],
   "cell_type": "markdown",
   "metadata": {}
  },
  {
   "cell_type": "code",
   "execution_count": 33,
   "metadata": {},
   "outputs": [
    {
     "output_type": "stream",
     "name": "stdout",
     "text": [
      "split(): ('/usr/local', 'sample.ipynb')\nsplit() ディレクトリ名: /usr/local\nsplit() ファイル名: sample.ipynb\nsplitext(): ('/usr/local/sample', '.ipynb')\njoin(): /usr/local\\sample.ipynb\n"
     ]
    }
   ],
   "source": [
    "path2 = \"/usr/local/sample.ipynb\"\n",
    "\n",
    "print(f\"split(): {os.path.split(path)}\")\n",
    "print(f\"split() ディレクトリ名: {os.path.split(path)[0]}\")\n",
    "print(f\"split() ファイル名: {os.path.split(path)[1]}\")\n",
    "\n",
    "print(f\"splitext(): {os.path.splitext(path)}\")\n",
    "\n",
    "print(f\"join(): {os.path.join(os.path.split(path)[0], os.path.split(path)[1])}\")\n",
    "\n",
    "\n"
   ]
  },
  {
   "source": [
    "# os.listdir()\n",
    "### 指定したファイル、ディレクトリの一覧をリストで返す。"
   ],
   "cell_type": "markdown",
   "metadata": {}
  },
  {
   "cell_type": "code",
   "execution_count": 49,
   "metadata": {},
   "outputs": [
    {
     "output_type": "stream",
     "name": "stdout",
     "text": [
      "listdir(): ['sample.ipynb', 'test1.py', 'test2.py', 'test_dir']\n"
     ]
    }
   ],
   "source": [
    "path = os.path.dirname(os.path.abspath(\"__file__\"))\n",
    "\n",
    "print(f\"listdir(): {os.listdir(path)}\")"
   ]
  },
  {
   "source": [
    "### ファイルのみ取得"
   ],
   "cell_type": "markdown",
   "metadata": {}
  },
  {
   "cell_type": "code",
   "execution_count": 51,
   "metadata": {},
   "outputs": [
    {
     "output_type": "stream",
     "name": "stdout",
     "text": [
      "ファイルのみ取得: ['sample.ipynb', 'test1.py', 'test2.py']\n"
     ]
    }
   ],
   "source": [
    "file_list = []\n",
    "for file_name in os.listdir(path):\n",
    "    # isfileをisdirに変えれば、ディレクトリのみになる\n",
    "    if os.path.isfile(file_name):\n",
    "       file_list.append(file_name)\n",
    "print(f\"ファイルのみ取得: {file_list}\")"
   ]
  },
  {
   "source": [
    "# Pathlib"
   ],
   "cell_type": "markdown",
   "metadata": {}
  },
  {
   "source": [
    "### Path.is_file() ・・・・ ファイル判定\n",
    "### Path.is_dir() ・・・・ ディレクトリ判定\n",
    "### Path.exists() ・・・・ pathの存在確認\n",
    "### Path.touch() ・・・・ ファイル作成\n",
    "### Path.unlink() ・・・・ ファイルを削除"
   ],
   "cell_type": "markdown",
   "metadata": {}
  },
  {
   "cell_type": "code",
   "execution_count": 70,
   "metadata": {},
   "outputs": [
    {
     "output_type": "stream",
     "name": "stdout",
     "text": [
      "is_filr():True\np_dir():True\nafter unlink is_filr():False\n"
     ]
    }
   ],
   "source": [
    "import pathlib\n",
    "\n",
    "p_dir = pathlib.Path('temp')\n",
    "p_file = pathlib.Path('temp/file.txt')\n",
    "\n",
    "# ファイル・ディレクトリの存在確認\n",
    "if p_file.exists() and p_dir.exists():\n",
    "    print(\"already exists()\")\n",
    "else:\n",
    "    # ファイル・ディレクトリ作成\n",
    "    p_dir.mkdir(exist_ok=True)\n",
    "    p_file.touch()\n",
    "\n",
    "# ファイル・ディレクトリの判定\n",
    "print(f'is_filr():{p_file.is_file()}')\n",
    "print(f'p_dir():{p_file.is_dir()}')\n",
    "\n",
    "# ファイル削除\n",
    "p_file.unlink()\n",
    "print(f'after unlink is_filr():{p_file.is_file()}')\n"
   ]
  },
  {
   "cell_type": "code",
   "execution_count": 35,
   "metadata": {},
   "outputs": [
    {
     "output_type": "execute_result",
     "data": {
      "text/plain": [
       "True"
      ]
     },
     "metadata": {},
     "execution_count": 35
    }
   ],
   "source": [
    "# つなげて書くこともできる\n",
    "pathlib.Path('temp/new_file2.txt').touch()\n",
    "pathlib.Path('temp/new_file2.txt').exists()"
   ]
  },
  {
   "source": [
    "### Path.mkdir() ・・・・ ディレクトリ作成"
   ],
   "cell_type": "markdown",
   "metadata": {}
  },
  {
   "source": [
    "#### デフォルトでは新規作成するディレクトリと既存ディレクトリの間に\n",
    "#### まだ作成されていない中間ディレクトリがあるとエラーとなる"
   ],
   "cell_type": "markdown",
   "metadata": {}
  },
  {
   "cell_type": "code",
   "execution_count": null,
   "metadata": {},
   "outputs": [],
   "source": [
    "pathlib.Path('temp/dir/sub_dir/sub_dir2').mkdir()\n",
    "# FileNotFoundError: [Errno 2] No such file or directory: 'temp/dir/sub_dir/sub_dir2'"
   ]
  },
  {
   "source": [
    "#### 中間ディレクトリもまとめて作成するには引数parentsをTrueとする"
   ],
   "cell_type": "markdown",
   "metadata": {}
  },
  {
   "cell_type": "code",
   "execution_count": 72,
   "metadata": {},
   "outputs": [
    {
     "output_type": "execute_result",
     "data": {
      "text/plain": [
       "True"
      ]
     },
     "metadata": {},
     "execution_count": 72
    }
   ],
   "source": [
    "pathlib.Path('temp/dir/sub_dir/sub_dir2').mkdir(parents=True)\n",
    "pathlib.Path('temp/dir/sub_dir/sub_dir2').is_dir()"
   ]
  },
  {
   "source": [
    "デフォルトではすでに存在するディレクトリを作成しようとするとエラーとなる。"
   ],
   "cell_type": "markdown",
   "metadata": {}
  },
  {
   "cell_type": "code",
   "execution_count": null,
   "metadata": {},
   "outputs": [],
   "source": [
    "pathlib.Path('temp/dir').mkdir()\n",
    "# FileExistsError: [Errno 17] File exists: 'temp/dir'"
   ]
  },
  {
   "source": [
    "引数exist_okをTrueとすると既存のディレクトリを対象としてもエラーにならない。"
   ],
   "cell_type": "markdown",
   "metadata": {}
  },
  {
   "cell_type": "code",
   "execution_count": null,
   "metadata": {},
   "outputs": [],
   "source": [
    "pathlib.Path('temp/dir').mkdir(exist_ok=True)"
   ]
  },
  {
   "source": [
    "引数exist_okをTrueとしてもパスの末尾がディレクトリではない場合はエラーとなる"
   ],
   "cell_type": "markdown",
   "metadata": {}
  },
  {
   "cell_type": "code",
   "execution_count": 48,
   "metadata": {},
   "outputs": [],
   "source": [
    "pathlib.Path('temp/dir/file').touch()\n",
    "\n",
    "# pathlib.Path('temp/dir/file').mkdir(exist_ok=True)\n",
    "# FileExistsError: [Errno 17] File exists: 'temp/dir/file'"
   ]
  },
  {
   "source": [
    "### Path.rmdir() ・・・・ ディレクトリを削除"
   ],
   "cell_type": "markdown",
   "metadata": {}
  },
  {
   "cell_type": "code",
   "execution_count": 73,
   "metadata": {},
   "outputs": [
    {
     "output_type": "stream",
     "name": "stdout",
     "text": [
      "before rmdir() : True\nafter rmdir()  : False\n"
     ]
    }
   ],
   "source": [
    "p_sub_dir = pathlib.Path('temp/dir/sub_dir/sub_dir2')\n",
    "p_sub_dir.mkdir(exist_ok=True)\n",
    "print(f'before rmdir() : {p_sub_dir.is_dir()}')\n",
    "# ディレクトリ削除\n",
    "p_sub_dir.rmdir()\n",
    "print(f'after rmdir()  : {p_sub_dir.is_dir()}')"
   ]
  },
  {
   "source": [
    "rmdir()が削除できるのは中身が空のディレクトリのみ。ファイルやサブディレクトリを含むディレクトリは削除できない"
   ],
   "cell_type": "markdown",
   "metadata": {}
  },
  {
   "cell_type": "code",
   "execution_count": null,
   "metadata": {},
   "outputs": [],
   "source": [
    "pathlib.Path('temp').rmdir()\n",
    "# OSError: [Errno 66] Directory not empty: 'temp'"
   ]
  },
  {
   "source": [
    "空でないディレクトリを中身ごと削除するにはshutilモジュールのshutil.rmtree()を使う。"
   ],
   "cell_type": "markdown",
   "metadata": {}
  },
  {
   "cell_type": "code",
   "execution_count": 66,
   "metadata": {},
   "outputs": [
    {
     "output_type": "stream",
     "name": "stdout",
     "text": [
      "False\n"
     ]
    }
   ],
   "source": [
    "import shutil\n",
    "p = pathlib.Path('temp')\n",
    "shutil.rmtree(p)\n",
    "print(p.exists())"
   ]
  },
  {
   "source": [
    "### Path.joinpath() / parent ・・・・ パスの連結・追加"
   ],
   "cell_type": "markdown",
   "metadata": {}
  },
  {
   "source": [
    "Pathオブジェクトに対して/演算子を使うとパスが連結される"
   ],
   "cell_type": "markdown",
   "metadata": {}
  },
  {
   "cell_type": "code",
   "execution_count": 80,
   "metadata": {},
   "outputs": [
    {
     "output_type": "execute_result",
     "data": {
      "text/plain": [
       "True"
      ]
     },
     "metadata": {},
     "execution_count": 80
    }
   ],
   "source": [
    "p_dir = pathlib.Path('temp')\n",
    "# /演算子で結合\n",
    "p_sub_dir_file = p_dir / 'file2.txt'\n",
    "p_sub_dir_file.touch()\n",
    "p_sub_dir_file.is_file()\n"
   ]
  },
  {
   "source": [
    "joinpath()メソッドでも同様。複数連結する場合は引数を複数指定する。os.path.join()に相当する。"
   ],
   "cell_type": "markdown",
   "metadata": {}
  },
  {
   "cell_type": "code",
   "execution_count": 87,
   "metadata": {},
   "outputs": [
    {
     "output_type": "stream",
     "name": "stdout",
     "text": [
      "True\n"
     ]
    }
   ],
   "source": [
    "p_dir = pathlib.Path('temp')\n",
    "p_sub_dir_file = p_dir.joinpath('sub_dir', 'file2.txt')\n",
    "p_sub_dir_file.is_file()"
   ]
  },
  {
   "source": [],
   "cell_type": "markdown",
   "metadata": {}
  },
  {
   "source": [
    "### parent ・・・・ 親ディレクトリに移動"
   ],
   "cell_type": "markdown",
   "metadata": {}
  },
  {
   "cell_type": "code",
   "execution_count": 95,
   "metadata": {},
   "outputs": [
    {
     "output_type": "stream",
     "name": "stdout",
     "text": [
      "parent: temp\n"
     ]
    }
   ],
   "source": [
    "p_dir = pathlib.Path('temp/dir')\n",
    "print(f'parent: {p_dir.parent}')"
   ]
  },
  {
   "source": [
    "相対パス..を連結することで親ディレクトリ（上位ディレクトリ）への移動することもできる。"
   ],
   "cell_type": "markdown",
   "metadata": {}
  },
  {
   "cell_type": "code",
   "execution_count": 101,
   "metadata": {},
   "outputs": [
    {
     "output_type": "stream",
     "name": "stdout",
     "text": [
      "temp\\dir\\..\\file.txt\n"
     ]
    }
   ],
   "source": [
    "p_file_join = p_dir.joinpath('..', 'file.txt')\n",
    "print(p_file_join)"
   ]
  },
  {
   "source": [
    "パスが参照するファイルが同一であるかを判定するsamefile()メソッドで確認すると、  \n",
    "..を使わないPathオブジェクトと同一のファイルを参照していることが確認できる。  \n",
    "この場合は==演算子では一致しないので注意。"
   ],
   "cell_type": "markdown",
   "metadata": {}
  },
  {
   "cell_type": "code",
   "execution_count": 102,
   "metadata": {},
   "outputs": [
    {
     "output_type": "stream",
     "name": "stdout",
     "text": [
      "temp\\file.txt\nTrue\nFalse\n"
     ]
    }
   ],
   "source": [
    "print(p_file)\n",
    "# samefileでパスが同一であるかを判定\n",
    "print(p_file.samefile(p_file_join))\n",
    "print(p_file == p_file_join)カレント"
   ]
  },
  {
   "source": [
    "### cwd() ・・・・ カレントディレクトリを取得"
   ],
   "cell_type": "markdown",
   "metadata": {}
  },
  {
   "cell_type": "code",
   "execution_count": 109,
   "metadata": {},
   "outputs": [
    {
     "output_type": "stream",
     "name": "stdout",
     "text": [
      "cwd(): d:\\programing\\個人用\\Python\\os\nd:\\programing\\個人用\\Python\\os\n"
     ]
    }
   ],
   "source": [
    "p_file = pathlib.Path('temp/file.txt')\n",
    "print(f'cwd(): {p_file.cwd()}')\n",
    "\n",
    "# 以下でも可\n",
    "print(pathlib.Path.cwd())"
   ]
  },
  {
   "source": [
    "### resolve() ・・・・ 相対パスから絶対パスへ変換"
   ],
   "cell_type": "markdown",
   "metadata": {}
  },
  {
   "cell_type": "code",
   "execution_count": 111,
   "metadata": {},
   "outputs": [
    {
     "output_type": "stream",
     "name": "stdout",
     "text": [
      "resolve: D:\\programing\\個人用\\Python\\os\\temp\\dir\nresolve: D:\\programing\\個人用\\Python\\os\\temp\\file.txt\n"
     ]
    }
   ],
   "source": [
    "p_dir = pathlib.Path('temp/dir')\n",
    "print(f'resolve: {p_dir.resolve()}')\n",
    "\n",
    "# 相対パスに..が含まれている場合、正しく解釈された上で除去されて絶対パスに変換される\n",
    "p_file_join = p_dir.joinpath('..', 'file.txt')\n",
    "print(f'resolve: {p_file_join.resolve()}')"
   ]
  },
  {
   "source": [
    "### is_absolute() ・・・・ 絶対パスか判定"
   ],
   "cell_type": "markdown",
   "metadata": {}
  },
  {
   "cell_type": "code",
   "execution_count": 115,
   "metadata": {},
   "outputs": [
    {
     "output_type": "stream",
     "name": "stdout",
     "text": [
      "is_absolute(): True\n"
     ]
    }
   ],
   "source": [
    "current_path = pathlib.Path.cwd()\n",
    "print(f'is_absolute(): {current_path.is_absolute()}')"
   ]
  }
 ]
}