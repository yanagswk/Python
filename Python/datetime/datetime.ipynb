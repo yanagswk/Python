{
 "metadata": {
  "language_info": {
   "codemirror_mode": {
    "name": "ipython",
    "version": 3
   },
   "file_extension": ".py",
   "mimetype": "text/x-python",
   "name": "python",
   "nbconvert_exporter": "python",
   "pygments_lexer": "ipython3",
   "version": "3.7.6-final"
  },
  "orig_nbformat": 2,
  "kernelspec": {
   "name": "python3",
   "display_name": "Python 3"
  }
 },
 "nbformat": 4,
 "nbformat_minor": 2,
 "cells": [
  {
   "cell_type": "code",
   "execution_count": 2,
   "metadata": {},
   "outputs": [],
   "source": [
    "import datetime as dt"
   ]
  },
  {
   "source": [
    "## datetime\n",
    "### datetime(year, month, day, hour=0, minute=0, second=0, microsecond=0, tzinfo=None)"
   ],
   "cell_type": "markdown",
   "metadata": {}
  },
  {
   "cell_type": "code",
   "execution_count": 16,
   "metadata": {},
   "outputs": [
    {
     "output_type": "stream",
     "name": "stdout",
     "text": [
      "today       : 2020-11-21 10:30:45.205699\nyear        : 2020\nmonth       : 11\nday         : 11\nhour        : 12\nminute      : 15\nmicrosecond : 2000\ndatetime → date : 2020-11-21\n"
     ]
    }
   ],
   "source": [
    "dt_now = dt.datetime.now()\n",
    "t = dt.datetime(2020, 11, 11, 12, 15, 20, 2000)\n",
    "\n",
    "print(f'today       : {dt.datetime.now()}')\n",
    "print(f'year        : {t.year}')\n",
    "print(f'month       : {t.month}')\n",
    "print(f'day         : {t.day}')\n",
    "print(f'hour        : {t.hour}')\n",
    "print(f'minute      : {t.minute}')\n",
    "print(f'microsecond : {t.microsecond}')\n",
    "\n",
    "# datetimeオブジェクトは、date()メソッドでdateオブジェクトに変換可能\n",
    "print(f'datetime → date : {dt_now.date()}')"
   ]
  },
  {
   "source": [
    "## date\n",
    "### date(year, month, day)\n",
    "### すべて必須で省略できない"
   ],
   "cell_type": "markdown",
   "metadata": {}
  },
  {
   "cell_type": "code",
   "execution_count": 21,
   "metadata": {},
   "outputs": [
    {
     "output_type": "stream",
     "name": "stdout",
     "text": [
      "year  : 2020\nmonth : 11\nday   : 15\n"
     ]
    }
   ],
   "source": [
    "d = dt.date(2020, 11, 15)\n",
    "\n",
    "print(f'year  : {d.year}')\n",
    "print(f'month : {d.month}')\n",
    "print(f'day   : {d.day}')"
   ]
  },
  {
   "source": [
    "## Time\n",
    "### time(hour=0, minute=0, second=0, microsecond=0, tzinfo=None)\n",
    "### すべて省略可能。省略した場合は、0になる。"
   ],
   "cell_type": "markdown",
   "metadata": {}
  },
  {
   "cell_type": "code",
   "execution_count": 10,
   "metadata": {},
   "outputs": [
    {
     "output_type": "stream",
     "name": "stdout",
     "text": [
      "12:15:30.002000\nhour        : 12\nminute      : 15\nsecond      : 30\nmicrosecond : 2000\ntzinfo      : None\n"
     ]
    }
   ],
   "source": [
    "t = dt.time(12, 15, 30, 2000)\n",
    "\n",
    "print(t)\n",
    "print(f'hour        : {t.hour}')\n",
    "print(f'minute      : {t.minute}')\n",
    "print(f'second      : {t.second}')\n",
    "print(f'microsecond : {t.microsecond}')\n",
    "print(f'tzinfo      : {t.tzinfo}')"
   ]
  },
  {
   "source": [
    "## timedelta\n",
    "### 2つの日時の時間差、経過時間を表すオブジェクト\n",
    "### timedelta(days=0, seconds=0, microseconds=0, milliseconds=0, minutes=0, hours=0, weeks=0)"
   ],
   "cell_type": "markdown",
   "metadata": {}
  },
  {
   "cell_type": "code",
   "execution_count": 30,
   "metadata": {},
   "outputs": [
    {
     "output_type": "stream",
     "name": "stdout",
     "text": [
      "days         : 2020-10-29 12:11:00\nseconds      : 2020-10-30 12:10:59\nmicroseconds : 2020-10-30 12:10:59.999999\nmilliseconds : 2020-10-30 12:10:59.999000\nminutes      : 2020-10-30 12:10:00\nhours        : 2020-10-30 11:11:00\nweeks        : 2020-10-23 12:11:00\n"
     ]
    }
   ],
   "source": [
    "t = dt.datetime(2020, 10, 30, 12, 11)\n",
    "\n",
    "print(f'days         : {t - dt.timedelta(days=1)}')\n",
    "print(f'seconds      : {t - dt.timedelta(seconds=1)}')\n",
    "print(f'microseconds : {t - dt.timedelta(microseconds=1)}')\n",
    "print(f'milliseconds : {t - dt.timedelta(milliseconds=1)}')\n",
    "print(f'minutes      : {t - dt.timedelta(minutes=1)}')\n",
    "print(f'hours        : {t - dt.timedelta(hours=1)}')\n",
    "print(f'weeks        : {t - dt.timedelta(weeks=1)}')\n"
   ]
  },
  {
   "source": [
    "## strftime(日付、時間から文字列への変更)\n",
    "## strptime(文字列から日付、時間への変換)\n",
    "### 任意の書籍フォーマットの文字列に変換できる"
   ],
   "cell_type": "markdown",
   "metadata": {}
  },
  {
   "source": [
    "* %d : 0埋めした10進数で表記した月中の日にち\n",
    "* %m : 0埋めした10進数で表記した月\n",
    "* %y : 0埋めした10進数で表記した西暦の下2桁\n",
    "* %Y : 0埋めした10進数で表記した西暦4桁\n",
    "* %H : 0埋めした10進数で表記した時 （24時間表記）\n",
    "* %I : 0埋めした10進数で表記した時 （12時間表記）\n",
    "* %M : 0埋めした10進数で表記した分\n",
    "* %S : 0埋めした10進数で表記した秒\n",
    "* %f : 0埋めした10進数で表記したマイクロ秒（6桁）\n",
    "* %A : ロケールの曜日名\n",
    "* %a : ロケールの曜日名（短縮形）\n",
    "* %B : ロケールの月名\n",
    "* %b : ロケールの月名（短縮形）\n",
    "* %j : 0埋めした10進数で表記した年中の日にち（正月が'001'）\n",
    "* %U : 0埋めした10進数で表記した年中の週番号 （週の始まりは日曜日）\n",
    "* %W : 0埋めした10進数で表記した年中の週番号 （週の始まりは月曜日）"
   ],
   "cell_type": "markdown",
   "metadata": {}
  },
  {
   "cell_type": "code",
   "execution_count": 58,
   "metadata": {},
   "outputs": [
    {
     "output_type": "stream",
     "name": "stdout",
     "text": [
      "strftime      : 2020-11-21 11:37:36\nstrftime      : 2020-11-21 11:37:36\nstrftime.type : <class 'str'>\nf.strftime    : 2020-11-21 11:37:36\nf.type        : <class 'str'>\nstrptime      : 2020-01-01 10:00:00\nstrptime.type : <class 'datetime.datetime'>\n"
     ]
    }
   ],
   "source": [
    "dt_now = dt.datetime.today()\n",
    "\n",
    "print(f\"strftime      : {dt_now.strftime('%Y-%m-%d %H:%M:%S')}\")\n",
    "print(f\"strftime      : {dt.datetime.strftime(dt_now, '%Y-%m-%d %H:%M:%S')}\")\n",
    "print(f\"strftime.type : {type(dt_now.strftime('%Y-%m-%d %H:%M:%S'))}\")\n",
    "# python3.6から導入されたf-stringを利用しても、文字列に変換できる\n",
    "f_string = f\"{dt_now:%Y-%m-%d %H:%M:%S}\"\n",
    "print(f\"f.strftime    : {f_string}\")\n",
    "print(f\"f.type        : {type(f_string)}\")\n",
    "print(f\"strptime      : {dt.datetime.strptime(date_str, '%Y/%m/%d %H:%M:%S')}\")\n",
    "print(f\"strptime.type : {type(dt.datetime.strptime(date_str, '%Y/%m/%d %H:%M:%S'))}\")"
   ]
  },
  {
   "source": [
    "## relativedelta\n",
    "### 月単位の演算ができる "
   ],
   "cell_type": "markdown",
   "metadata": {}
  },
  {
   "cell_type": "code",
   "execution_count": 76,
   "metadata": {},
   "outputs": [
    {
     "output_type": "stream",
     "name": "stdout",
     "text": [
      "today              : 2020-11-21 11:55:18.885748\n翌月               : 2020-12-21 11:55:18.885748\n翌月+１週間+10時   : 2020-12-28 10:55:18.885748\n11ヶ月後           : 2021-10-21 11:55:18.885748\n"
     ]
    }
   ],
   "source": [
    "from dateutil.relativedelta import relativedelta\n",
    "\n",
    "dt_now = dt.datetime.today()\n",
    "print(f'today              : {dt_now}')\n",
    "print(f'翌月               : {dt_now + relativedelta(months=1)}')\n",
    "print(f'翌月+１週間+10時   : {dt_now + relativedelta(months=1, weeks=1, hour=10)}')\n",
    "print(f'11ヶ月後           : {dt_now + relativedelta(years=1, months=-1)}')\n"
   ]
  }
 ]
}