{
 "metadata": {
  "language_info": {
   "codemirror_mode": {
    "name": "ipython",
    "version": 3
   },
   "file_extension": ".py",
   "mimetype": "text/x-python",
   "name": "python",
   "nbconvert_exporter": "python",
   "pygments_lexer": "ipython3",
   "version": "3.6.3-final"
  },
  "orig_nbformat": 2,
  "kernelspec": {
   "name": "python3",
   "display_name": "Python 3.6.3 64-bit",
   "metadata": {
    "interpreter": {
     "hash": "0a6cd5381a0944319d5b7625be2fded0309c5b0fd49b5b923192f7d330bafa94"
    }
   }
  }
 },
 "nbformat": 4,
 "nbformat_minor": 2,
 "cells": [
  {
   "source": [
    "## try-except"
   ],
   "cell_type": "markdown",
   "metadata": {}
  },
  {
   "cell_type": "code",
   "execution_count": 18,
   "metadata": {},
   "outputs": [
    {
     "output_type": "stream",
     "name": "stdout",
     "text": [
      "エラー内容→: division by zero\nこんにちは\n"
     ]
    }
   ],
   "source": [
    "# try-exceptは、エラー表示をするが、プログラムを終了せずに実行できる。\n",
    "try:\n",
    "    x = 10 / 0\n",
    "# except 例外名 as 変数名:とすることで、変数に例外オブジェクトを格納してしようできる。\n",
    "# eにはerrorの原因が表示される。\n",
    "except ZeroDivisionError as e:\n",
    "    # print(\"e.args:\", e.args)\n",
    "    print(\"エラー内容→:\", e)\n",
    "\n",
    "print('こんにちは')"
   ]
  },
  {
   "cell_type": "code",
   "execution_count": 61,
   "metadata": {},
   "outputs": [
    {
     "output_type": "stream",
     "name": "stdout",
     "text": [
      "IndexError→list index out of range\nfinallyが実行されました。\n処理終了\n"
     ]
    }
   ],
   "source": [
    "test_list = [1, 2, 3]\n",
    "i = 5\n",
    "# del test_list\n",
    "try:\n",
    "    test_list[i]\n",
    "    # test_list[0]\n",
    "# tryでIndexErrorが出た時だけ、exceptの処理をする。ほかのerrorがでたときは、exceptは実行されない。\n",
    "# eにはerrorの原因が表示される。\n",
    "# exceptはいくつでも設定できる。\n",
    "except IndexError as e:\n",
    "    print('IndexError→{}'.format(e))\n",
    "except NameError as e:\n",
    "    print('NameError: {}'.format(e))\n",
    "# Exceptionはどのエラーにも対応しているが、あまりいい書き方ではない。\n",
    "except Exception as e:\n",
    "    print(\"other{}\".format(e))\n",
    "# tryが成功したときのみ、elseが実行される。\n",
    "else:\n",
    "    print('tryが成功したので、elseを実行しました。')\n",
    "# try-exceptでなにがあっても、最後に必ず実行される。\n",
    "finally:\n",
    "    print('finallyが実行されました。')\n",
    "print(\"処理終了\")"
   ]
  },
  {
   "source": [
    "## raise\n",
    "### 例外を意図的に発生させ、プログラムを終了する"
   ],
   "cell_type": "markdown",
   "metadata": {}
  },
  {
   "cell_type": "code",
   "execution_count": 33,
   "metadata": {},
   "outputs": [
    {
     "output_type": "error",
     "ename": "Exception",
     "evalue": "Trueではありません。Falseでした。",
     "traceback": [
      "\u001b[1;31m---------------------------------------------------------------------------\u001b[0m",
      "\u001b[1;31mException\u001b[0m                                 Traceback (most recent call last)",
      "\u001b[1;32m<ipython-input-33-301360ae0569>\u001b[0m in \u001b[0;36m<module>\u001b[1;34m\u001b[0m\n\u001b[0;32m      2\u001b[0m \u001b[0mtest\u001b[0m \u001b[1;33m=\u001b[0m \u001b[1;32mFalse\u001b[0m\u001b[1;33m\u001b[0m\u001b[0m\n\u001b[0;32m      3\u001b[0m \u001b[1;32mif\u001b[0m \u001b[1;32mnot\u001b[0m \u001b[0mtest\u001b[0m\u001b[1;33m:\u001b[0m\u001b[1;33m\u001b[0m\u001b[0m\n\u001b[1;32m----> 4\u001b[1;33m     \u001b[1;32mraise\u001b[0m \u001b[0mException\u001b[0m\u001b[1;33m(\u001b[0m\u001b[1;34m'Trueではありません。{}でした。'\u001b[0m\u001b[1;33m.\u001b[0m\u001b[0mformat\u001b[0m\u001b[1;33m(\u001b[0m\u001b[0mtest\u001b[0m\u001b[1;33m)\u001b[0m\u001b[1;33m)\u001b[0m\u001b[1;33m\u001b[0m\u001b[0m\n\u001b[0m",
      "\u001b[1;31mException\u001b[0m: Trueではありません。Falseでした。"
     ]
    }
   ],
   "source": [
    "\n",
    "test = False\n",
    "if not test:\n",
    "    raise Exception('Trueではありません。{}でした。'.format(test))\n"
   ]
  },
  {
   "cell_type": "code",
   "execution_count": 31,
   "metadata": {},
   "outputs": [
    {
     "output_type": "error",
     "ename": "OriginError",
     "evalue": "11では15になりません。",
     "traceback": [
      "\u001b[1;31m---------------------------------------------------------------------------\u001b[0m",
      "\u001b[1;31mOriginError\u001b[0m                               Traceback (most recent call last)",
      "\u001b[1;32m<ipython-input-31-6aae75653efc>\u001b[0m in \u001b[0;36m<module>\u001b[1;34m\u001b[0m\n\u001b[0;32m      8\u001b[0m \u001b[0mnum\u001b[0m \u001b[1;33m=\u001b[0m \u001b[1;36m11\u001b[0m\u001b[1;33m\u001b[0m\u001b[0m\n\u001b[0;32m      9\u001b[0m \u001b[1;32mif\u001b[0m \u001b[0mnum\u001b[0m \u001b[1;33m+\u001b[0m \u001b[1;36m5\u001b[0m \u001b[1;33m!=\u001b[0m \u001b[1;36m15\u001b[0m\u001b[1;33m:\u001b[0m\u001b[1;33m\u001b[0m\u001b[0m\n\u001b[1;32m---> 10\u001b[1;33m     \u001b[1;32mraise\u001b[0m \u001b[0mOriginError\u001b[0m\u001b[1;33m(\u001b[0m\u001b[0mnum\u001b[0m\u001b[1;33m)\u001b[0m\u001b[1;33m\u001b[0m\u001b[0m\n\u001b[0m",
      "\u001b[1;31mOriginError\u001b[0m: 11では15になりません。"
     ]
    }
   ],
   "source": [
    "# Exceptionを継承させてoriginalのerrorを作ることも可能。\n",
    "class OriginError(Exception):\n",
    "    def __init__(self, key):\n",
    "        self.key = key\n",
    "    \n",
    "    def __str__(self):\n",
    "        return \"{}では15になりません。\".format(self.key)\n",
    "\n",
    "num = 11\n",
    "if num + 5 != 15:\n",
    "    raise OriginError(num)\n"
   ]
  },
  {
   "cell_type": "code",
   "execution_count": 64,
   "metadata": {},
   "outputs": [
    {
     "output_type": "error",
     "ename": "UppercaseError",
     "evalue": "APPLE",
     "traceback": [
      "\u001b[1;31m---------------------------------------------------------------------------\u001b[0m",
      "\u001b[1;31mUppercaseError\u001b[0m                            Traceback (most recent call last)",
      "\u001b[1;32m<ipython-input-64-3ad79d4395f9>\u001b[0m in \u001b[0;36m<module>\u001b[1;34m\u001b[0m\n\u001b[0;32m      7\u001b[0m         \u001b[1;32mif\u001b[0m \u001b[0mword\u001b[0m\u001b[1;33m.\u001b[0m\u001b[0misupper\u001b[0m\u001b[1;33m(\u001b[0m\u001b[1;33m)\u001b[0m\u001b[1;33m:\u001b[0m\u001b[1;33m\u001b[0m\u001b[0m\n\u001b[0;32m      8\u001b[0m             \u001b[1;32mraise\u001b[0m \u001b[0mUppercaseError\u001b[0m\u001b[1;33m(\u001b[0m\u001b[0mword\u001b[0m\u001b[1;33m)\u001b[0m\u001b[1;33m\u001b[0m\u001b[0m\n\u001b[1;32m----> 9\u001b[1;33m \u001b[0mcheck\u001b[0m\u001b[1;33m(\u001b[0m\u001b[1;33m)\u001b[0m\u001b[1;33m\u001b[0m\u001b[0m\n\u001b[0m\u001b[0;32m     10\u001b[0m \u001b[1;33m\u001b[0m\u001b[0m\n",
      "\u001b[1;32m<ipython-input-64-3ad79d4395f9>\u001b[0m in \u001b[0;36mcheck\u001b[1;34m()\u001b[0m\n\u001b[0;32m      6\u001b[0m     \u001b[1;32mfor\u001b[0m \u001b[0mword\u001b[0m \u001b[1;32min\u001b[0m \u001b[0mworks\u001b[0m\u001b[1;33m:\u001b[0m\u001b[1;33m\u001b[0m\u001b[0m\n\u001b[0;32m      7\u001b[0m         \u001b[1;32mif\u001b[0m \u001b[0mword\u001b[0m\u001b[1;33m.\u001b[0m\u001b[0misupper\u001b[0m\u001b[1;33m(\u001b[0m\u001b[1;33m)\u001b[0m\u001b[1;33m:\u001b[0m\u001b[1;33m\u001b[0m\u001b[0m\n\u001b[1;32m----> 8\u001b[1;33m             \u001b[1;32mraise\u001b[0m \u001b[0mUppercaseError\u001b[0m\u001b[1;33m(\u001b[0m\u001b[0mword\u001b[0m\u001b[1;33m)\u001b[0m\u001b[1;33m\u001b[0m\u001b[0m\n\u001b[0m\u001b[0;32m      9\u001b[0m \u001b[0mcheck\u001b[0m\u001b[1;33m(\u001b[0m\u001b[1;33m)\u001b[0m\u001b[1;33m\u001b[0m\u001b[0m\n\u001b[0;32m     10\u001b[0m \u001b[1;33m\u001b[0m\u001b[0m\n",
      "\u001b[1;31mUppercaseError\u001b[0m: APPLE"
     ]
    }
   ],
   "source": [
    "# 独自の例外も作れる\n",
    "class UppercaseError(Exception):\n",
    "    pass\n",
    "\n",
    "def check():\n",
    "    works = ['APPLE', \"orange\", 'banana']\n",
    "    for word in works:\n",
    "        if word.isupper():\n",
    "            raise UppercaseError(word)\n",
    "check()\n",
    "\n"
   ]
  }
 ]
}