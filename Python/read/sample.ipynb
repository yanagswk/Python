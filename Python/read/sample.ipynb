{
 "metadata": {
  "language_info": {
   "codemirror_mode": {
    "name": "ipython",
    "version": 3
   },
   "file_extension": ".py",
   "mimetype": "text/x-python",
   "name": "python",
   "nbconvert_exporter": "python",
   "pygments_lexer": "ipython3",
   "version": "3.6.3-final"
  },
  "orig_nbformat": 2,
  "kernelspec": {
   "name": "python3",
   "display_name": "Python 3"
  }
 },
 "nbformat": 4,
 "nbformat_minor": 2,
 "cells": [
  {
   "cell_type": "code",
   "execution_count": 3,
   "metadata": {},
   "outputs": [
    {
     "output_type": "stream",
     "name": "stdout",
     "text": [
      "language\n\n"
     ]
    }
   ],
   "source": [
    "# readline()は一行読み込む。\n",
    "with open(\"test.txt\", 'r') as f:\n",
    "    line = f.readline()\n",
    "    \n",
    "    print(line)"
   ]
  },
  {
   "cell_type": "code",
   "execution_count": 4,
   "metadata": {},
   "outputs": [
    {
     "output_type": "stream",
     "name": "stdout",
     "text": [
      "language\npython\nruby\njava\nswift\njavascript\nphp\n"
     ]
    }
   ],
   "source": [
    "# read()はファイル全体を文字列として取得する。\n",
    "with open(\"test.txt\", 'r') as f:\n",
    "    line = f.read()\n",
    "    print(line)"
   ]
  },
  {
   "cell_type": "code",
   "execution_count": 6,
   "metadata": {},
   "outputs": [
    {
     "output_type": "stream",
     "name": "stdout",
     "text": [
      "['language\\n', 'python\\n', 'ruby\\n', 'java\\n', 'swift\\n', 'javascript\\n', 'php']\n"
     ]
    }
   ],
   "source": [
    "# readlines()でファイル全体を行ごとに分割したリストを取得する。\n",
    "with open(\"test.txt\", 'r') as f:\n",
    "    lines = f.readlines()\n",
    "    print(lines)"
   ]
  },
  {
   "cell_type": "code",
   "execution_count": 10,
   "metadata": {},
   "outputs": [
    {
     "output_type": "stream",
     "name": "stdout",
     "text": [
      "language\npython\nruby\njava\nswift\njavascript\nphp\n"
     ]
    }
   ],
   "source": [
    "# for文を回すと一行ずつ処理ができる。\n",
    "with open(\"test.txt\") as f:\n",
    "    for row in f:\n",
    "        # strip()で引数なしだと、両端の空白文字、改行(\\n)、タブ(\\t)、全角スペースが削除される。\n",
    "        # split()だとリストになる。\n",
    "        print(row.strip())"
   ]
  },
  {
   "cell_type": "code",
   "execution_count": null,
   "metadata": {},
   "outputs": [],
   "source": []
  }
 ]
}