{
 "cells": [
  {
   "cell_type": "markdown",
   "metadata": {},
   "source": [
    "# 初学者向けPandas100本ノックver1.0.2\n",
    "##### Shift + Enter で各セルのコードが実行されます\n",
    "・print(ans[ 問題番号 ]) で回答コード例を表示  \n",
    "・Python3エンジニア認定データ分析試験にも沿った問題内容   \n",
    "・Pandasの各メソッドの説明は以下のサイトが分かりやすいです  \n",
    " 　[note.nknk.me](https://note.nkmk.me/pandas/)  \n",
    "・\"Data for Titanic passengers\" from [VANDERBILT UNIVERSITY](https://biostat.app.vumc.org/wiki/Main/DataSets)  \n",
    "  \n",
    "作成日:2020年9月24日  \n",
    "最終更新日:2020年10月2日  \n",
    "再配布・改編不可  \n",
    "作成者：[kunishou](https://qiita.com/kunishou)"
   ]
  },
  {
   "cell_type": "code",
   "execution_count": 1,
   "metadata": {},
   "outputs": [
    {
     "output_type": "stream",
     "name": "stdout",
     "text": [
      "[answer0]\n\nこんな感じで回答コード例がここに表示されます。\n各問題の回答コード例を表示するときはprintの前の\n#を消して実行して下さい。\n\nコード例をセル内にコピー&ペーストし\n実行すると、正解のデータが表示されます\n"
     ]
    }
   ],
   "source": [
    "# Shift + Enterで題材データ、回答コードを読み込んで下さい\n",
    "\n",
    "import pandas as pd\n",
    "import glob\n",
    "\n",
    "#題材データをdfに読み込み(タイタニック号の乗客データ、テストの点数データ 等)\n",
    "def initialize1():\n",
    "    df = pd.read_csv('../input/titanic3.csv')\n",
    "    return df\n",
    "\n",
    "def initialize2():\n",
    "    df = pd.read_csv('../input/data1.csv')\n",
    "    return df\n",
    "\n",
    "df = initialize1()\n",
    "df2 = initialize2()\n",
    "df3 = pd.read_csv('../input/data1_2.csv')\n",
    "df4 = pd.read_csv('../input/data1_3.csv')\n",
    "df5 = pd.read_csv('../input/data2.csv',encoding='cp932')\n",
    "\n",
    "#回答コードをansリストに格納\n",
    "path = sorted(glob.glob('../input/a_' + '*.txt'))\n",
    "\n",
    "ans = []\n",
    "\n",
    "for _ in range(len(path)):\n",
    "    with open(path[_], 'r',encoding='utf-8') as f:\n",
    "        ans.append(f.read())\n",
    "        \n",
    "print(ans[0])"
   ]
  },
  {
   "cell_type": "markdown",
   "metadata": {},
   "source": [
    "# Pandas基礎 (1 - 13)"
   ]
  },
  {
   "cell_type": "code",
   "execution_count": 4,
   "metadata": {},
   "outputs": [
    {
     "name": "stdout",
     "output_type": "stream",
     "text": "[answer1]\n\ndf.head()\n\n\n[tips]\n.head()はデフォルトで先頭5行表示\n()に表示したい行数を入れる\n先頭10行表示は .head(10)\n"
    },
    {
     "data": {
      "text/html": "<div>\n<style scoped>\n    .dataframe tbody tr th:only-of-type {\n        vertical-align: middle;\n    }\n\n    .dataframe tbody tr th {\n        vertical-align: top;\n    }\n\n    .dataframe thead th {\n        text-align: right;\n    }\n</style>\n<table border=\"1\" class=\"dataframe\">\n  <thead>\n    <tr style=\"text-align: right;\">\n      <th></th>\n      <th>pclass</th>\n      <th>survived</th>\n      <th>name</th>\n      <th>sex</th>\n      <th>age</th>\n      <th>sibsp</th>\n      <th>parch</th>\n      <th>ticket</th>\n      <th>fare</th>\n      <th>cabin</th>\n      <th>embarked</th>\n      <th>boat</th>\n      <th>body</th>\n      <th>home.dest</th>\n    </tr>\n  </thead>\n  <tbody>\n    <tr>\n      <th>0</th>\n      <td>1</td>\n      <td>1</td>\n      <td>Allen, Miss. Elisabeth Walton</td>\n      <td>female</td>\n      <td>29.00</td>\n      <td>0</td>\n      <td>0</td>\n      <td>24160</td>\n      <td>211.3375</td>\n      <td>B5</td>\n      <td>S</td>\n      <td>2</td>\n      <td>NaN</td>\n      <td>St Louis, MO</td>\n    </tr>\n    <tr>\n      <th>1</th>\n      <td>1</td>\n      <td>1</td>\n      <td>Allison, Master. Hudson Trevor</td>\n      <td>male</td>\n      <td>0.92</td>\n      <td>1</td>\n      <td>2</td>\n      <td>113781</td>\n      <td>151.5500</td>\n      <td>C22 C26</td>\n      <td>S</td>\n      <td>11</td>\n      <td>NaN</td>\n      <td>Montreal, PQ / Chesterville, ON</td>\n    </tr>\n    <tr>\n      <th>2</th>\n      <td>1</td>\n      <td>0</td>\n      <td>Allison, Miss. Helen Loraine</td>\n      <td>female</td>\n      <td>2.00</td>\n      <td>1</td>\n      <td>2</td>\n      <td>113781</td>\n      <td>151.5500</td>\n      <td>C22 C26</td>\n      <td>S</td>\n      <td>NaN</td>\n      <td>NaN</td>\n      <td>Montreal, PQ / Chesterville, ON</td>\n    </tr>\n    <tr>\n      <th>3</th>\n      <td>1</td>\n      <td>0</td>\n      <td>Allison, Mr. Hudson Joshua Creighton</td>\n      <td>male</td>\n      <td>30.00</td>\n      <td>1</td>\n      <td>2</td>\n      <td>113781</td>\n      <td>151.5500</td>\n      <td>C22 C26</td>\n      <td>S</td>\n      <td>NaN</td>\n      <td>135.0</td>\n      <td>Montreal, PQ / Chesterville, ON</td>\n    </tr>\n    <tr>\n      <th>4</th>\n      <td>1</td>\n      <td>0</td>\n      <td>Allison, Mrs. Hudson J C (Bessie Waldo Daniels)</td>\n      <td>female</td>\n      <td>25.00</td>\n      <td>1</td>\n      <td>2</td>\n      <td>113781</td>\n      <td>151.5500</td>\n      <td>C22 C26</td>\n      <td>S</td>\n      <td>NaN</td>\n      <td>NaN</td>\n      <td>Montreal, PQ / Chesterville, ON</td>\n    </tr>\n  </tbody>\n</table>\n</div>",
      "text/plain": "   pclass  survived                                             name     sex  \\\n0       1         1                    Allen, Miss. Elisabeth Walton  female   \n1       1         1                   Allison, Master. Hudson Trevor    male   \n2       1         0                     Allison, Miss. Helen Loraine  female   \n3       1         0             Allison, Mr. Hudson Joshua Creighton    male   \n4       1         0  Allison, Mrs. Hudson J C (Bessie Waldo Daniels)  female   \n\n     age  sibsp  parch  ticket      fare    cabin embarked boat   body  \\\n0  29.00      0      0   24160  211.3375       B5        S    2    NaN   \n1   0.92      1      2  113781  151.5500  C22 C26        S   11    NaN   \n2   2.00      1      2  113781  151.5500  C22 C26        S  NaN    NaN   \n3  30.00      1      2  113781  151.5500  C22 C26        S  NaN  135.0   \n4  25.00      1      2  113781  151.5500  C22 C26        S  NaN    NaN   \n\n                         home.dest  \n0                     St Louis, MO  \n1  Montreal, PQ / Chesterville, ON  \n2  Montreal, PQ / Chesterville, ON  \n3  Montreal, PQ / Chesterville, ON  \n4  Montreal, PQ / Chesterville, ON  "
     },
     "execution_count": 4,
     "metadata": {},
     "output_type": "execute_result"
    }
   ],
   "source": [
    "# 【1】\n",
    "# dfに読み込んだデータの最初の5行を表示\n",
    "# print(ans[1]) #回答表示\n",
    "df = initialize1() #初期化\n",
    "df.head()\n"
   ]
  },
  {
   "cell_type": "code",
   "execution_count": 9,
   "metadata": {},
   "outputs": [
    {
     "data": {
      "text/html": "<div>\n<style scoped>\n    .dataframe tbody tr th:only-of-type {\n        vertical-align: middle;\n    }\n\n    .dataframe tbody tr th {\n        vertical-align: top;\n    }\n\n    .dataframe thead th {\n        text-align: right;\n    }\n</style>\n<table border=\"1\" class=\"dataframe\">\n  <thead>\n    <tr style=\"text-align: right;\">\n      <th></th>\n      <th>pclass</th>\n      <th>survived</th>\n      <th>name</th>\n      <th>sex</th>\n      <th>age</th>\n      <th>sibsp</th>\n      <th>parch</th>\n      <th>ticket</th>\n      <th>fare</th>\n      <th>cabin</th>\n      <th>embarked</th>\n      <th>boat</th>\n      <th>body</th>\n      <th>home.dest</th>\n    </tr>\n  </thead>\n  <tbody>\n    <tr>\n      <th>1304</th>\n      <td>3</td>\n      <td>0</td>\n      <td>Zabour, Miss. Hileni</td>\n      <td>female</td>\n      <td>14.5</td>\n      <td>1</td>\n      <td>0</td>\n      <td>2665</td>\n      <td>14.4542</td>\n      <td>NaN</td>\n      <td>C</td>\n      <td>NaN</td>\n      <td>328.0</td>\n      <td>NaN</td>\n    </tr>\n    <tr>\n      <th>1305</th>\n      <td>3</td>\n      <td>0</td>\n      <td>Zabour, Miss. Thamine</td>\n      <td>female</td>\n      <td>NaN</td>\n      <td>1</td>\n      <td>0</td>\n      <td>2665</td>\n      <td>14.4542</td>\n      <td>NaN</td>\n      <td>C</td>\n      <td>NaN</td>\n      <td>NaN</td>\n      <td>NaN</td>\n    </tr>\n    <tr>\n      <th>1306</th>\n      <td>3</td>\n      <td>0</td>\n      <td>Zakarian, Mr. Mapriededer</td>\n      <td>male</td>\n      <td>26.5</td>\n      <td>0</td>\n      <td>0</td>\n      <td>2656</td>\n      <td>7.2250</td>\n      <td>NaN</td>\n      <td>C</td>\n      <td>NaN</td>\n      <td>304.0</td>\n      <td>NaN</td>\n    </tr>\n    <tr>\n      <th>1307</th>\n      <td>3</td>\n      <td>0</td>\n      <td>Zakarian, Mr. Ortin</td>\n      <td>male</td>\n      <td>27.0</td>\n      <td>0</td>\n      <td>0</td>\n      <td>2670</td>\n      <td>7.2250</td>\n      <td>NaN</td>\n      <td>C</td>\n      <td>NaN</td>\n      <td>NaN</td>\n      <td>NaN</td>\n    </tr>\n    <tr>\n      <th>1308</th>\n      <td>3</td>\n      <td>0</td>\n      <td>Zimmerman, Mr. Leo</td>\n      <td>male</td>\n      <td>29.0</td>\n      <td>0</td>\n      <td>0</td>\n      <td>315082</td>\n      <td>7.8750</td>\n      <td>NaN</td>\n      <td>S</td>\n      <td>NaN</td>\n      <td>NaN</td>\n      <td>NaN</td>\n    </tr>\n  </tbody>\n</table>\n</div>",
      "text/plain": "      pclass  survived                       name     sex   age  sibsp  parch  \\\n1304       3         0       Zabour, Miss. Hileni  female  14.5      1      0   \n1305       3         0      Zabour, Miss. Thamine  female   NaN      1      0   \n1306       3         0  Zakarian, Mr. Mapriededer    male  26.5      0      0   \n1307       3         0        Zakarian, Mr. Ortin    male  27.0      0      0   \n1308       3         0         Zimmerman, Mr. Leo    male  29.0      0      0   \n\n      ticket     fare cabin embarked boat   body home.dest  \n1304    2665  14.4542   NaN        C  NaN  328.0       NaN  \n1305    2665  14.4542   NaN        C  NaN    NaN       NaN  \n1306    2656   7.2250   NaN        C  NaN  304.0       NaN  \n1307    2670   7.2250   NaN        C  NaN    NaN       NaN  \n1308  315082   7.8750   NaN        S  NaN    NaN       NaN  "
     },
     "execution_count": 9,
     "metadata": {},
     "output_type": "execute_result"
    }
   ],
   "source": [
    "# 【2】\n",
    "# dfに読み込んだデータの最後の5行を表示\n",
    "# print(ans[2]) #回答表示\n",
    "df = initialize1() #初期化\n",
    "\n",
    "df.tail()"
   ]
  },
  {
   "cell_type": "code",
   "execution_count": 14,
   "metadata": {},
   "outputs": [
    {
     "name": "stdout",
     "output_type": "stream",
     "text": "[answer3]\n\ndf.shape\n"
    },
    {
     "data": {
      "text/plain": "(1309, 14)"
     },
     "execution_count": 14,
     "metadata": {},
     "output_type": "execute_result"
    }
   ],
   "source": [
    "# 【3】\n",
    "# dfのDataFrameサイズを確認\n",
    "# print(ans[3]) #回答表示\n",
    "df = initialize1() #初期化\n",
    "\n",
    "df.shape"
   ]
  },
  {
   "cell_type": "code",
   "execution_count": 19,
   "metadata": {},
   "outputs": [
    {
     "name": "stdout",
     "output_type": "stream",
     "text": "[answer4]\n\ndf2 = pd.read_csv('../input/data1.csv')\ndf2.head()\n\n\n[Tips]\n・csvの読み込みはread_csv\n・必要に応じてencoding=''を指定する\nutf-8\nshift_jis (日本語)\ncp932 (Windows拡張文字含む日本語)\n\nex)\ndf2 = pd.read_csv('../input/data1.csv'.encoding='utf-8')\n"
    },
    {
     "data": {
      "text/html": "<div>\n<style scoped>\n    .dataframe tbody tr th:only-of-type {\n        vertical-align: middle;\n    }\n\n    .dataframe tbody tr th {\n        vertical-align: top;\n    }\n\n    .dataframe thead th {\n        text-align: right;\n    }\n</style>\n<table border=\"1\" class=\"dataframe\">\n  <thead>\n    <tr style=\"text-align: right;\">\n      <th></th>\n      <th>name</th>\n      <th>class</th>\n      <th>English</th>\n      <th>Mathmatics</th>\n      <th>History</th>\n    </tr>\n  </thead>\n  <tbody>\n    <tr>\n      <th>0</th>\n      <td>A</td>\n      <td>1</td>\n      <td>80</td>\n      <td>55</td>\n      <td>65</td>\n    </tr>\n    <tr>\n      <th>1</th>\n      <td>B</td>\n      <td>1</td>\n      <td>55</td>\n      <td>100</td>\n      <td>83</td>\n    </tr>\n    <tr>\n      <th>2</th>\n      <td>C</td>\n      <td>2</td>\n      <td>65</td>\n      <td>70</td>\n      <td>95</td>\n    </tr>\n    <tr>\n      <th>3</th>\n      <td>D</td>\n      <td>1</td>\n      <td>40</td>\n      <td>63</td>\n      <td>70</td>\n    </tr>\n    <tr>\n      <th>4</th>\n      <td>E</td>\n      <td>2</td>\n      <td>76</td>\n      <td>82</td>\n      <td>79</td>\n    </tr>\n  </tbody>\n</table>\n</div>",
      "text/plain": "  name  class  English  Mathmatics  History\n0    A      1       80          55       65\n1    B      1       55         100       83\n2    C      2       65          70       95\n3    D      1       40          63       70\n4    E      2       76          82       79"
     },
     "execution_count": 19,
     "metadata": {},
     "output_type": "execute_result"
    }
   ],
   "source": [
    "# 【4】\n",
    "# inputフォルダ内のdata1.csvファイルを\n",
    "# 読み込みdf2に格納して、最初の5行を表示\n",
    "# print(ans[4]) #回答表示\n",
    "\n",
    "df2 = pd.read_csv('../input/data1.csv')\n",
    "df2.head()"
   ]
  },
  {
   "cell_type": "code",
   "execution_count": 23,
   "metadata": {},
   "outputs": [
    {
     "name": "stdout",
     "output_type": "stream",
     "text": "[answer5]\n\ndf.sort_values('fare')\n\n\n[Tips]\n・要素でソートするときはsort_valuesを使用\n・デフォルトでは昇順\n・降順でソートしたい場合は ascending=False を指定\n・ソートする列を複数指定可能\n\nex)\n降順でソート\ndf.sort_values('fare', ascending=False)\n\n複数列のでソート\ndf.sort_values(['fare','age'])\n"
    },
    {
     "data": {
      "text/html": "<div>\n<style scoped>\n    .dataframe tbody tr th:only-of-type {\n        vertical-align: middle;\n    }\n\n    .dataframe tbody tr th {\n        vertical-align: top;\n    }\n\n    .dataframe thead th {\n        text-align: right;\n    }\n</style>\n<table border=\"1\" class=\"dataframe\">\n  <thead>\n    <tr style=\"text-align: right;\">\n      <th></th>\n      <th>pclass</th>\n      <th>survived</th>\n      <th>name</th>\n      <th>sex</th>\n      <th>age</th>\n      <th>sibsp</th>\n      <th>parch</th>\n      <th>ticket</th>\n      <th>fare</th>\n      <th>cabin</th>\n      <th>embarked</th>\n      <th>boat</th>\n      <th>body</th>\n      <th>home.dest</th>\n    </tr>\n  </thead>\n  <tbody>\n    <tr>\n      <th>363</th>\n      <td>2</td>\n      <td>0</td>\n      <td>Campbell, Mr. William</td>\n      <td>male</td>\n      <td>NaN</td>\n      <td>0</td>\n      <td>0</td>\n      <td>239853</td>\n      <td>0.0000</td>\n      <td>NaN</td>\n      <td>S</td>\n      <td>NaN</td>\n      <td>NaN</td>\n      <td>Belfast</td>\n    </tr>\n    <tr>\n      <th>223</th>\n      <td>1</td>\n      <td>0</td>\n      <td>Parr, Mr. William Henry Marsh</td>\n      <td>male</td>\n      <td>NaN</td>\n      <td>0</td>\n      <td>0</td>\n      <td>112052</td>\n      <td>0.0000</td>\n      <td>NaN</td>\n      <td>S</td>\n      <td>NaN</td>\n      <td>NaN</td>\n      <td>Belfast</td>\n    </tr>\n    <tr>\n      <th>170</th>\n      <td>1</td>\n      <td>1</td>\n      <td>Ismay, Mr. Joseph Bruce</td>\n      <td>male</td>\n      <td>49.0</td>\n      <td>0</td>\n      <td>0</td>\n      <td>112058</td>\n      <td>0.0000</td>\n      <td>B52 B54 B56</td>\n      <td>S</td>\n      <td>C</td>\n      <td>NaN</td>\n      <td>Liverpool</td>\n    </tr>\n    <tr>\n      <th>1254</th>\n      <td>3</td>\n      <td>1</td>\n      <td>Tornquist, Mr. William Henry</td>\n      <td>male</td>\n      <td>25.0</td>\n      <td>0</td>\n      <td>0</td>\n      <td>LINE</td>\n      <td>0.0000</td>\n      <td>NaN</td>\n      <td>S</td>\n      <td>15</td>\n      <td>NaN</td>\n      <td>NaN</td>\n    </tr>\n    <tr>\n      <th>896</th>\n      <td>3</td>\n      <td>0</td>\n      <td>Johnson, Mr. Alfred</td>\n      <td>male</td>\n      <td>49.0</td>\n      <td>0</td>\n      <td>0</td>\n      <td>LINE</td>\n      <td>0.0000</td>\n      <td>NaN</td>\n      <td>S</td>\n      <td>NaN</td>\n      <td>NaN</td>\n      <td>NaN</td>\n    </tr>\n    <tr>\n      <th>...</th>\n      <td>...</td>\n      <td>...</td>\n      <td>...</td>\n      <td>...</td>\n      <td>...</td>\n      <td>...</td>\n      <td>...</td>\n      <td>...</td>\n      <td>...</td>\n      <td>...</td>\n      <td>...</td>\n      <td>...</td>\n      <td>...</td>\n      <td>...</td>\n    </tr>\n    <tr>\n      <th>302</th>\n      <td>1</td>\n      <td>1</td>\n      <td>Ward, Miss. Anna</td>\n      <td>female</td>\n      <td>35.0</td>\n      <td>0</td>\n      <td>0</td>\n      <td>PC 17755</td>\n      <td>512.3292</td>\n      <td>NaN</td>\n      <td>C</td>\n      <td>3</td>\n      <td>NaN</td>\n      <td>NaN</td>\n    </tr>\n    <tr>\n      <th>50</th>\n      <td>1</td>\n      <td>1</td>\n      <td>Cardeza, Mrs. James Warburton Martinez (Charlo...</td>\n      <td>female</td>\n      <td>58.0</td>\n      <td>0</td>\n      <td>1</td>\n      <td>PC 17755</td>\n      <td>512.3292</td>\n      <td>B51 B53 B55</td>\n      <td>C</td>\n      <td>3</td>\n      <td>NaN</td>\n      <td>Germantown, Philadelphia, PA</td>\n    </tr>\n    <tr>\n      <th>49</th>\n      <td>1</td>\n      <td>1</td>\n      <td>Cardeza, Mr. Thomas Drake Martinez</td>\n      <td>male</td>\n      <td>36.0</td>\n      <td>0</td>\n      <td>1</td>\n      <td>PC 17755</td>\n      <td>512.3292</td>\n      <td>B51 B53 B55</td>\n      <td>C</td>\n      <td>3</td>\n      <td>NaN</td>\n      <td>Austria-Hungary / Germantown, Philadelphia, PA</td>\n    </tr>\n    <tr>\n      <th>183</th>\n      <td>1</td>\n      <td>1</td>\n      <td>Lesurer, Mr. Gustave J</td>\n      <td>male</td>\n      <td>35.0</td>\n      <td>0</td>\n      <td>0</td>\n      <td>PC 17755</td>\n      <td>512.3292</td>\n      <td>B101</td>\n      <td>C</td>\n      <td>3</td>\n      <td>NaN</td>\n      <td>NaN</td>\n    </tr>\n    <tr>\n      <th>1225</th>\n      <td>3</td>\n      <td>0</td>\n      <td>Storey, Mr. Thomas</td>\n      <td>male</td>\n      <td>60.5</td>\n      <td>0</td>\n      <td>0</td>\n      <td>3701</td>\n      <td>NaN</td>\n      <td>NaN</td>\n      <td>S</td>\n      <td>NaN</td>\n      <td>261.0</td>\n      <td>NaN</td>\n    </tr>\n  </tbody>\n</table>\n<p>1309 rows × 14 columns</p>\n</div>",
      "text/plain": "      pclass  survived                                               name  \\\n363        2         0                              Campbell, Mr. William   \n223        1         0                      Parr, Mr. William Henry Marsh   \n170        1         1                            Ismay, Mr. Joseph Bruce   \n1254       3         1                       Tornquist, Mr. William Henry   \n896        3         0                                Johnson, Mr. Alfred   \n...      ...       ...                                                ...   \n302        1         1                                   Ward, Miss. Anna   \n50         1         1  Cardeza, Mrs. James Warburton Martinez (Charlo...   \n49         1         1                 Cardeza, Mr. Thomas Drake Martinez   \n183        1         1                             Lesurer, Mr. Gustave J   \n1225       3         0                                 Storey, Mr. Thomas   \n\n         sex   age  sibsp  parch    ticket      fare        cabin embarked  \\\n363     male   NaN      0      0    239853    0.0000          NaN        S   \n223     male   NaN      0      0    112052    0.0000          NaN        S   \n170     male  49.0      0      0    112058    0.0000  B52 B54 B56        S   \n1254    male  25.0      0      0      LINE    0.0000          NaN        S   \n896     male  49.0      0      0      LINE    0.0000          NaN        S   \n...      ...   ...    ...    ...       ...       ...          ...      ...   \n302   female  35.0      0      0  PC 17755  512.3292          NaN        C   \n50    female  58.0      0      1  PC 17755  512.3292  B51 B53 B55        C   \n49      male  36.0      0      1  PC 17755  512.3292  B51 B53 B55        C   \n183     male  35.0      0      0  PC 17755  512.3292         B101        C   \n1225    male  60.5      0      0      3701       NaN          NaN        S   \n\n     boat   body                                       home.dest  \n363   NaN    NaN                                         Belfast  \n223   NaN    NaN                                         Belfast  \n170     C    NaN                                       Liverpool  \n1254   15    NaN                                             NaN  \n896   NaN    NaN                                             NaN  \n...   ...    ...                                             ...  \n302     3    NaN                                             NaN  \n50      3    NaN                    Germantown, Philadelphia, PA  \n49      3    NaN  Austria-Hungary / Germantown, Philadelphia, PA  \n183     3    NaN                                             NaN  \n1225  NaN  261.0                                             NaN  \n\n[1309 rows x 14 columns]"
     },
     "execution_count": 23,
     "metadata": {},
     "output_type": "execute_result"
    }
   ],
   "source": [
    "# 【5】\n",
    "# dfのfareの列で昇順に並び替えて表示\n",
    "print(ans[5]) #回答表示\n",
    "df = initialize1() #初期化\n",
    "\n",
    "df.sort_values('fare')"
   ]
  },
  {
   "cell_type": "code",
   "execution_count": 28,
   "metadata": {},
   "outputs": [
    {
     "output_type": "stream",
     "name": "stdout",
     "text": [
      "[answer6]\n\ndf_copy = df.copy()\ndf_copy.head()\n\n\n[Tips]\n① df_copy = df と ② df_copy = df.copy では\n挙動が異なるので注意が必要。\n\n①の場合、df_copyはdfを参照しているだけのため、\ndf側の値を変えると、df_copy側の値も変わる\n(dfとdf_copyは連動)。\n\ndf側の値の変更をdf_copy側に反映させたくない\n場合には②のcopy()を使う(dfとdf_copyは独立)。\n"
     ]
    },
    {
     "output_type": "error",
     "ename": "ValueError",
     "evalue": "The truth value of a DataFrame is ambiguous. Use a.empty, a.bool(), a.item(), a.any() or a.all().",
     "traceback": [
      "\u001b[1;31m---------------------------------------------------------------------------\u001b[0m",
      "\u001b[1;31mValueError\u001b[0m                                Traceback (most recent call last)",
      "\u001b[1;32m<ipython-input-28-4475181eed7f>\u001b[0m in \u001b[0;36m<module>\u001b[1;34m\u001b[0m\n\u001b[0;32m      5\u001b[0m \u001b[1;33m\u001b[0m\u001b[0m\n\u001b[0;32m      6\u001b[0m \u001b[1;32mimport\u001b[0m \u001b[0mcopy\u001b[0m\u001b[1;33m\u001b[0m\u001b[1;33m\u001b[0m\u001b[0m\n\u001b[1;32m----> 7\u001b[1;33m \u001b[0mdf_copy\u001b[0m \u001b[1;33m=\u001b[0m \u001b[0mdf\u001b[0m\u001b[1;33m.\u001b[0m\u001b[0mcopy\u001b[0m\u001b[1;33m(\u001b[0m\u001b[0mdf\u001b[0m\u001b[1;33m)\u001b[0m\u001b[1;33m\u001b[0m\u001b[1;33m\u001b[0m\u001b[0m\n\u001b[0m\u001b[0;32m      8\u001b[0m \u001b[0mdf_copy\u001b[0m\u001b[1;33m.\u001b[0m\u001b[0mhead\u001b[0m\u001b[1;33m(\u001b[0m\u001b[1;33m)\u001b[0m\u001b[1;33m\u001b[0m\u001b[1;33m\u001b[0m\u001b[0m\n\u001b[0;32m      9\u001b[0m \u001b[1;33m\u001b[0m\u001b[0m\n",
      "\u001b[1;32m~\\anaconda3\\lib\\site-packages\\pandas\\core\\generic.py\u001b[0m in \u001b[0;36mcopy\u001b[1;34m(self, deep)\u001b[0m\n\u001b[0;32m   5809\u001b[0m         \u001b[0mdtype\u001b[0m\u001b[1;33m:\u001b[0m \u001b[0mobject\u001b[0m\u001b[1;33m\u001b[0m\u001b[1;33m\u001b[0m\u001b[0m\n\u001b[0;32m   5810\u001b[0m         \"\"\"\n\u001b[1;32m-> 5811\u001b[1;33m         \u001b[0mdata\u001b[0m \u001b[1;33m=\u001b[0m \u001b[0mself\u001b[0m\u001b[1;33m.\u001b[0m\u001b[0m_data\u001b[0m\u001b[1;33m.\u001b[0m\u001b[0mcopy\u001b[0m\u001b[1;33m(\u001b[0m\u001b[0mdeep\u001b[0m\u001b[1;33m=\u001b[0m\u001b[0mdeep\u001b[0m\u001b[1;33m)\u001b[0m\u001b[1;33m\u001b[0m\u001b[1;33m\u001b[0m\u001b[0m\n\u001b[0m\u001b[0;32m   5812\u001b[0m         \u001b[1;32mreturn\u001b[0m \u001b[0mself\u001b[0m\u001b[1;33m.\u001b[0m\u001b[0m_constructor\u001b[0m\u001b[1;33m(\u001b[0m\u001b[0mdata\u001b[0m\u001b[1;33m)\u001b[0m\u001b[1;33m.\u001b[0m\u001b[0m__finalize__\u001b[0m\u001b[1;33m(\u001b[0m\u001b[0mself\u001b[0m\u001b[1;33m)\u001b[0m\u001b[1;33m\u001b[0m\u001b[1;33m\u001b[0m\u001b[0m\n\u001b[0;32m   5813\u001b[0m \u001b[1;33m\u001b[0m\u001b[0m\n",
      "\u001b[1;32m~\\anaconda3\\lib\\site-packages\\pandas\\core\\internals\\managers.py\u001b[0m in \u001b[0;36mcopy\u001b[1;34m(self, deep)\u001b[0m\n\u001b[0;32m    779\u001b[0m         \"\"\"\n\u001b[0;32m    780\u001b[0m         \u001b[1;31m# this preserves the notion of view copying of axes\u001b[0m\u001b[1;33m\u001b[0m\u001b[1;33m\u001b[0m\u001b[1;33m\u001b[0m\u001b[0m\n\u001b[1;32m--> 781\u001b[1;33m         \u001b[1;32mif\u001b[0m \u001b[0mdeep\u001b[0m\u001b[1;33m:\u001b[0m\u001b[1;33m\u001b[0m\u001b[1;33m\u001b[0m\u001b[0m\n\u001b[0m\u001b[0;32m    782\u001b[0m             \u001b[1;31m# hit in e.g. tests.io.json.test_pandas\u001b[0m\u001b[1;33m\u001b[0m\u001b[1;33m\u001b[0m\u001b[1;33m\u001b[0m\u001b[0m\n\u001b[0;32m    783\u001b[0m \u001b[1;33m\u001b[0m\u001b[0m\n",
      "\u001b[1;32m~\\anaconda3\\lib\\site-packages\\pandas\\core\\generic.py\u001b[0m in \u001b[0;36m__nonzero__\u001b[1;34m(self)\u001b[0m\n\u001b[0;32m   1477\u001b[0m     \u001b[1;32mdef\u001b[0m \u001b[0m__nonzero__\u001b[0m\u001b[1;33m(\u001b[0m\u001b[0mself\u001b[0m\u001b[1;33m)\u001b[0m\u001b[1;33m:\u001b[0m\u001b[1;33m\u001b[0m\u001b[1;33m\u001b[0m\u001b[0m\n\u001b[0;32m   1478\u001b[0m         raise ValueError(\n\u001b[1;32m-> 1479\u001b[1;33m             \u001b[1;34mf\"The truth value of a {type(self).__name__} is ambiguous. \"\u001b[0m\u001b[1;33m\u001b[0m\u001b[1;33m\u001b[0m\u001b[0m\n\u001b[0m\u001b[0;32m   1480\u001b[0m             \u001b[1;34m\"Use a.empty, a.bool(), a.item(), a.any() or a.all().\"\u001b[0m\u001b[1;33m\u001b[0m\u001b[1;33m\u001b[0m\u001b[0m\n\u001b[0;32m   1481\u001b[0m         )\n",
      "\u001b[1;31mValueError\u001b[0m: The truth value of a DataFrame is ambiguous. Use a.empty, a.bool(), a.item(), a.any() or a.all()."
     ]
    }
   ],
   "source": [
    "# 【6】\n",
    "# df_copyにdfをコピーして、最初の5行を表示\n",
    "print(ans[6]) #回答表示\n",
    "df = initialize1() #初期化\n",
    "\n",
    "import copy\n",
    "df_copy = df.copy(df)\n",
    "df_copy.head()"
   ]
  },
  {
   "cell_type": "code",
   "execution_count": 27,
   "metadata": {},
   "outputs": [
    {
     "output_type": "stream",
     "name": "stdout",
     "text": [
      "[answer7]\n\nprint(df.dtypes)\nprint(df['cabin'].dtype)\n\n\n[Tips]\n・DataFrameのすべての列のデータ型を確認したい場合は dtypes\n・DataFrameの一部の列のデータ型を確認したい場合は dtype\n\n※複数のコードの結果を表示したい場合、printを使用\n(printをつけない場合、1行目のdtypesの結果しか表示されない)\n-----解答-----\npclass         int64\nsurvived       int64\nname          object\nsex           object\nage          float64\nsibsp          int64\nparch          int64\nticket        object\nfare         float64\ncabin         object\nembarked      object\nboat          object\nbody         float64\nhome.dest     object\ndtype: object\nobject\n"
     ]
    }
   ],
   "source": [
    "# 【7】\n",
    "# ① dfの各列のデータ型を確認\n",
    "# ② dfのcabinの列のデータ型を確認\n",
    "print(ans[7]) #回答表示\n",
    "df = initialize1() #初期化\n",
    "\n",
    "print(\"-----解答-----\")\n",
    "print(df.dtypes)\n",
    "print(df[\"cabin\"].dtype)"
   ]
  },
  {
   "cell_type": "code",
   "execution_count": 26,
   "metadata": {},
   "outputs": [
    {
     "output_type": "stream",
     "name": "stdout",
     "text": [
      "[answer8]\n\nprint(df['pclass'].dtype)\ndf['pclass'] = df['pclass'].astype(str)\nprint(df['pclass'].dtype)\n\n\n[Tips]\n・データ型を変更する場合は astype を使用\n・問題40の列同士の結合では、数値列と文字列を\n結合しますが、データ型が異なると結合が上手く\nいきません。両方の列のデータ型が同じになるように\nastypeを使用してデータ型の変換をします。\n-----解答-----\nint64\nobject\n"
     ]
    }
   ],
   "source": [
    "# 【8】\n",
    "# ① dfのpclassの列のデータ型をdtypeで確認\n",
    "# ② 数値型から文字型に変換し、データ型をdtypeで確認\n",
    "print(ans[8]) #回答表示\n",
    "df = initialize1() #初期化\n",
    "\n",
    "print(\"-----解答-----\")\n",
    "print(df[\"pclass\"].dtype)\n",
    "df[\"pclass\"] = df[\"pclass\"].astype('str')\n",
    "print(df_pcl.dtype)"
   ]
  },
  {
   "cell_type": "code",
   "execution_count": 31,
   "metadata": {},
   "outputs": [
    {
     "output_type": "stream",
     "name": "stdout",
     "text": [
      "[answer9]\n\nlen(df)\n\n\n[Tips]\ndataframeのレコード数(行数)を知りたい時は\nlen()を使用\n-----解答-----\n1309\n(1309, 14)\n"
     ]
    }
   ],
   "source": [
    "# 【9】\n",
    "# dfのレコード数(行数)を確認\n",
    "print(ans[9]) #回答表示\n",
    "df = initialize1() #初期化\n",
    "\n",
    "print(\"-----解答-----\")\n",
    "\n",
    "print(len(df))\n",
    "print(df.shape)"
   ]
  },
  {
   "cell_type": "code",
   "execution_count": 33,
   "metadata": {},
   "outputs": [
    {
     "output_type": "stream",
     "name": "stdout",
     "text": [
      "[answer10]\n\ndf.info()\n\n\n[Tips]\n・レコード数(行数)、各列のデータ型、欠損値の有無の\n　確認にはinfo()を使用\n・RangeIndexがレコード数\n・Data columnsがカラム数\n・Non-Null Countがレコードが入ってる数\n・今回、1309レコードだがcabinのNon-Null Countは\n　295なので1309-295のレコードについては欠損している\n-----解答-----\n<class 'pandas.core.frame.DataFrame'>\nRangeIndex: 1309 entries, 0 to 1308\nData columns (total 14 columns):\n #   Column     Non-Null Count  Dtype  \n---  ------     --------------  -----  \n 0   pclass     1309 non-null   int64  \n 1   survived   1309 non-null   int64  \n 2   name       1309 non-null   object \n 3   sex        1309 non-null   object \n 4   age        1046 non-null   float64\n 5   sibsp      1309 non-null   int64  \n 6   parch      1309 non-null   int64  \n 7   ticket     1309 non-null   object \n 8   fare       1308 non-null   float64\n 9   cabin      295 non-null    object \n 10  embarked   1307 non-null   object \n 11  boat       486 non-null    object \n 12  body       121 non-null    float64\n 13  home.dest  745 non-null    object \ndtypes: float64(3), int64(4), object(7)\nmemory usage: 143.3+ KB\n"
     ]
    }
   ],
   "source": [
    "# 【10】\n",
    "# dfのレコード数(行数)、各列のデータ型、欠損値の有無を確認\n",
    "print(ans[10]) #回答表示\n",
    "df = initialize1() #初期化\n",
    "\n",
    "print(\"-----解答-----\")\n",
    "df.info()"
   ]
  },
  {
   "cell_type": "code",
   "execution_count": 36,
   "metadata": {},
   "outputs": [
    {
     "output_type": "stream",
     "name": "stdout",
     "text": [
      "[answer11]\n\nprint(df['sex'].unique())\nprint(df['cabin'].unique())\n\n\n[Tips]\n列に含まれる要素の確認にはunique()を使用\n-----解答-----\n['female' 'male']\n['B5' 'C22 C26' 'E12' 'D7' 'A36' 'C101' nan 'C62 C64' 'B35' 'A23'\n 'B58 B60' 'D15' 'C6' 'D35' 'C148' 'C97' 'B49' 'C99' 'C52' 'T' 'A31' 'C7'\n 'C103' 'D22' 'E33' 'A21' 'B10' 'B4' 'E40' 'B38' 'E24' 'B51 B53 B55'\n 'B96 B98' 'C46' 'E31' 'E8' 'B61' 'B77' 'A9' 'C89' 'A14' 'E58' 'E49' 'E52'\n 'E45' 'B22' 'B26' 'C85' 'E17' 'B71' 'B20' 'A34' 'C86' 'A16' 'A20' 'A18'\n 'C54' 'C45' 'D20' 'A29' 'C95' 'E25' 'C111' 'C23 C25 C27' 'E36' 'D34'\n 'D40' 'B39' 'B41' 'B102' 'C123' 'E63' 'C130' 'B86' 'C92' 'A5' 'C51' 'B42'\n 'C91' 'C125' 'D10 D12' 'B82 B84' 'E50' 'D33' 'C83' 'B94' 'D49' 'D45'\n 'B69' 'B11' 'E46' 'C39' 'B18' 'D11' 'C93' 'B28' 'C49' 'B52 B54 B56' 'E60'\n 'C132' 'B37' 'D21' 'D19' 'C124' 'D17' 'B101' 'D28' 'D6' 'D9' 'B80' 'C106'\n 'B79' 'C47' 'D30' 'C90' 'E38' 'C78' 'C30' 'C118' 'D36' 'D48' 'D47' 'C105'\n 'B36' 'B30' 'D43' 'B24' 'C2' 'C65' 'B73' 'C104' 'C110' 'C50' 'B3' 'A24'\n 'A32' 'A11' 'A10' 'B57 B59 B63 B66' 'C28' 'E44' 'A26' 'A6' 'A7' 'C31'\n 'A19' 'B45' 'E34' 'B78' 'B50' 'C87' 'C116' 'C55 C57' 'D50' 'E68' 'E67'\n 'C126' 'C68' 'C70' 'C53' 'B19' 'D46' 'D37' 'D26' 'C32' 'C80' 'C82' 'C128'\n 'E39 E41' 'D' 'F4' 'D56' 'F33' 'E101' 'E77' 'F2' 'D38' 'F' 'F G63'\n 'F E57' 'F E46' 'F G73' 'E121' 'F E69' 'E10' 'G6' 'F38']\n"
     ]
    }
   ],
   "source": [
    "# 【11】\n",
    "# dfのsex,cabinの列の要素を確認\n",
    "print(ans[11]) #回答表示\n",
    "df = initialize1() #初期化\n",
    "\n",
    "print(\"-----解答-----\")\n",
    "print(df[\"sex\"].unique())\n",
    "print(df[\"cabin\"].unique())"
   ]
  },
  {
   "cell_type": "code",
   "execution_count": 50,
   "metadata": {},
   "outputs": [
    {
     "output_type": "stream",
     "name": "stdout",
     "text": [
      "[answer12]\n\ndf.columns.tolist()\n\n\n[Tips]\n・列名を一覧表示にはcolumnsを使用\n・.tolist()を付けることでlist形式に変換\n・ndarray形式で表示する場合は.valuesを使用\n\ndf.columns.values\n-----解答-----\n"
     ]
    },
    {
     "output_type": "execute_result",
     "data": {
      "text/plain": [
       "<bound method IndexOpsMixin.tolist of Index(['pclass', 'survived', 'name', 'sex', 'age', 'sibsp', 'parch', 'ticket',\n",
       "       'fare', 'cabin', 'embarked', 'boat', 'body', 'home.dest'],\n",
       "      dtype='object')>"
      ]
     },
     "metadata": {},
     "execution_count": 50
    }
   ],
   "source": [
    "# 【12】\n",
    "# dfの列名一覧をlist形式で表示\n",
    "print(ans[12]) #回答表示\n",
    "df = initialize1() #初期化\n",
    "\n",
    "print(\"-----解答-----\")\n",
    "df.columns.tolist"
   ]
  },
  {
   "cell_type": "code",
   "execution_count": null,
   "metadata": {},
   "outputs": [],
   "source": [
    "# 【13】\n",
    "# dfのインデックス一覧をndaaray形式で表示\n",
    "#print(ans[13]) #回答表示\n",
    "df = initialize1() #初期化#\n",
    "\n",
    "\n",
    "\n"
   ]
  },
  {
   "cell_type": "markdown",
   "metadata": {},
   "source": [
    "# データ抽出 (14 - 32)"
   ]
  },
  {
   "cell_type": "code",
   "execution_count": null,
   "metadata": {},
   "outputs": [],
   "source": [
    "# 【14】\n",
    "# dfのnameの列のみ表示\n",
    "#print(ans[14]) #回答表示\n",
    "df = initialize1() #初期化\n",
    "\n",
    "\n",
    "\n"
   ]
  },
  {
   "cell_type": "code",
   "execution_count": null,
   "metadata": {},
   "outputs": [],
   "source": [
    "# 【15】\n",
    "# dfのnameとsexの列のみ表示\n",
    "#print(ans[15]) #回答表示\n",
    "df = initialize1() #初期化\n",
    "\n",
    "\n",
    "\n"
   ]
  },
  {
   "cell_type": "code",
   "execution_count": null,
   "metadata": {},
   "outputs": [],
   "source": [
    "# 【16】\n",
    "# dfのindex(行)の4行目までを表示\n",
    "#print(ans[16]) #回答表示\n",
    "df = initialize1() #初期化\n",
    "\n",
    "\n",
    "\n"
   ]
  },
  {
   "cell_type": "code",
   "execution_count": null,
   "metadata": {},
   "outputs": [],
   "source": [
    "# 【17】\n",
    "# dfのindex(行)の4行目から10行目までを表示\n",
    "#print(ans[17]) #回答表示\n",
    "df = initialize1() #初期化\n",
    "\n",
    "\n",
    "\n"
   ]
  },
  {
   "cell_type": "code",
   "execution_count": null,
   "metadata": {},
   "outputs": [],
   "source": [
    "# 【18】\n",
    "# locを使ってdf全体を表示\n",
    "#print(ans[18]) #回答表示\n",
    "df = initialize1() #初期化\n",
    "\n",
    "\n",
    "\n"
   ]
  },
  {
   "cell_type": "code",
   "execution_count": null,
   "metadata": {},
   "outputs": [],
   "source": [
    "# 【19】\n",
    "# locを使ってdfのfare列をすべて表示\n",
    "#print(ans[19]) #回答表示\n",
    "df = initialize1() #初期化\n",
    "\n",
    "\n",
    "\n"
   ]
  },
  {
   "cell_type": "code",
   "execution_count": null,
   "metadata": {},
   "outputs": [],
   "source": [
    "# 【20】\n",
    "# locを使ってdfのfare列の10行目まで表示\n",
    "#print(ans[20]) #回答表示\n",
    "df = initialize1() #初期化\n",
    "\n",
    "\n",
    "\n"
   ]
  },
  {
   "cell_type": "code",
   "execution_count": null,
   "metadata": {
    "scrolled": true
   },
   "outputs": [],
   "source": [
    "# 【21】\n",
    "# locを使ってdfのnameとticketの列をすべて表示\n",
    "#print(ans[21]) #回答表示\n",
    "df = initialize1() #初期化\n",
    "\n",
    "\n",
    "\n"
   ]
  },
  {
   "cell_type": "code",
   "execution_count": null,
   "metadata": {},
   "outputs": [],
   "source": [
    "# 【22】\n",
    "# locを使ってdfのnameからcabinまでの列をすべて表示\n",
    "#print(ans[22]) #回答表示\n",
    "df = initialize1() #初期化\n",
    "\n",
    "\n",
    "\n"
   ]
  },
  {
   "cell_type": "code",
   "execution_count": null,
   "metadata": {},
   "outputs": [],
   "source": [
    "# 【23】\n",
    "# ilocを使ってdfのage列を5行目まで表示\n",
    "#print(ans[23]) #回答表示\n",
    "df = initialize1() #初期化\n",
    "\n",
    "\n",
    "\n"
   ]
  },
  {
   "cell_type": "code",
   "execution_count": null,
   "metadata": {},
   "outputs": [],
   "source": [
    "# 【24】\n",
    "# dfのname,age,sexの列のみ抽出しdf_copyに格納\n",
    "# その後outputフォルダにcsvファイルで出力\n",
    "# 出力ファイル名はsmaple.csv\n",
    "#print(ans[24]) #回答表示\n",
    "df = initialize1() #初期化\n",
    "\n",
    "\n",
    "\n"
   ]
  },
  {
   "cell_type": "code",
   "execution_count": null,
   "metadata": {},
   "outputs": [],
   "source": [
    "# 【25】\n",
    "# dfのage列の値が30以上のデータのみ抽出\n",
    "#print(ans[25]) #回答表示\n",
    "df = initialize1() #初期化\n",
    "\n",
    "\n",
    "\n"
   ]
  },
  {
   "cell_type": "code",
   "execution_count": null,
   "metadata": {},
   "outputs": [],
   "source": [
    "# 【26】\n",
    "# dfのsex列がfemaleのデータのみ抽出\n",
    "#print(ans[26]) #回答表示\n",
    "df = initialize1() #初期化\n",
    "\n",
    "\n",
    "\n"
   ]
  },
  {
   "cell_type": "code",
   "execution_count": null,
   "metadata": {},
   "outputs": [],
   "source": [
    "# 【27】\n",
    "# dfのsex列がfemaleでかつageが40以上のデータのみ抽出\n",
    "#print(ans[27]) #回答表示\n",
    "df = initialize1() #初期化\n",
    "\n",
    "\n",
    "\n"
   ]
  },
  {
   "cell_type": "code",
   "execution_count": null,
   "metadata": {},
   "outputs": [],
   "source": [
    "# 【28】\n",
    "# queryを用いてdfのsex列がfemaleでかつageが40以上のデータのみ抽出\n",
    "#print(ans[28]) #回答表示\n",
    "df = initialize1() #初期化\n",
    "\n",
    "\n",
    "\n"
   ]
  },
  {
   "cell_type": "code",
   "execution_count": null,
   "metadata": {},
   "outputs": [],
   "source": [
    "# 【29】\n",
    "# dfのname列に文字列「Mrs」が含まれるデータを表示\n",
    "#print(ans[29]) #回答表示\n",
    "df = initialize1() #初期化\n",
    "\n",
    "\n",
    "\n"
   ]
  },
  {
   "cell_type": "code",
   "execution_count": null,
   "metadata": {},
   "outputs": [],
   "source": [
    "# 【30】\n",
    "# dfの中で文字型の列のみを表示\n",
    "#print(ans[30]) #回答表示\n",
    "df = initialize1() #初期化\n",
    "\n",
    "\n",
    "\n"
   ]
  },
  {
   "cell_type": "code",
   "execution_count": null,
   "metadata": {},
   "outputs": [],
   "source": [
    "# 【31】\n",
    "# dfの各列の要素数の確認\n",
    "#print(ans[31]) #回答表示\n",
    "df = initialize1() #初期化\n",
    "\n",
    "\n",
    "\n"
   ]
  },
  {
   "cell_type": "code",
   "execution_count": null,
   "metadata": {},
   "outputs": [],
   "source": [
    "# 【32】\n",
    "# dfのembarked列の要素と出現回数の確認\n",
    "#print(ans[32]) #回答表示\n",
    "df = initialize1() #初期化\n",
    "\n",
    "\n",
    "\n"
   ]
  },
  {
   "cell_type": "markdown",
   "metadata": {},
   "source": [
    "# データ加工 (33 - 58)"
   ]
  },
  {
   "cell_type": "code",
   "execution_count": null,
   "metadata": {},
   "outputs": [],
   "source": [
    "# 【33】\n",
    "# dfのindex名が「3」のage列を\n",
    "# 30から40に変更し、先頭の5行を表示\n",
    "#print(ans[33]) #回答表示\n",
    "df = initialize1() #初期化\n",
    "\n",
    "\n",
    "\n"
   ]
  },
  {
   "cell_type": "code",
   "execution_count": null,
   "metadata": {},
   "outputs": [],
   "source": [
    "# 【34】\n",
    "# dfのsex列にてmale→0、femlae→1に\n",
    "# 変更し、先頭の5行を表示\n",
    "#print(ans[34]) #回答表示\n",
    "df = initialize1() #初期化\n",
    "\n",
    "\n",
    "\n"
   ]
  },
  {
   "cell_type": "code",
   "execution_count": null,
   "metadata": {
    "scrolled": true
   },
   "outputs": [],
   "source": [
    "# 【35】\n",
    "# dfのfare列に100を足して、\n",
    "# 先頭の5行を表示\n",
    "#print(ans[35]) #回答表示\n",
    "df = initialize1() #初期化\n",
    "\n",
    "\n",
    "\n"
   ]
  },
  {
   "cell_type": "code",
   "execution_count": null,
   "metadata": {},
   "outputs": [],
   "source": [
    "# 【36】\n",
    "# dfのfare列を2を掛けて、\n",
    "# 先頭の5行を表示\n",
    "#print(ans[36]) #回答表示\n",
    "df = initialize1() #初期化\n",
    "\n",
    "\n",
    "\n"
   ]
  },
  {
   "cell_type": "code",
   "execution_count": null,
   "metadata": {},
   "outputs": [],
   "source": [
    "# 【37】\n",
    "# dfのfare列を小数点以下で丸める\n",
    "#print(ans[37]) #回答表示\n",
    "df = initialize1() #初期化\n",
    "\n",
    "\n",
    "\n"
   ]
  },
  {
   "cell_type": "code",
   "execution_count": null,
   "metadata": {},
   "outputs": [],
   "source": [
    "# 【38】\n",
    "# dfに列名「test」で値がすべて1の\n",
    "# カラムを追加し、先頭の5行を表示\n",
    "#print(ans[38]) #回答表示\n",
    "df = initialize1() #初期化\n",
    "\n",
    "\n",
    "\n"
   ]
  },
  {
   "cell_type": "code",
   "execution_count": null,
   "metadata": {},
   "outputs": [],
   "source": [
    "# 【39】\n",
    "# dfにcabinとembarkedの列を「_」で\n",
    "# 結合した列を追加(列名は「test」)し、\n",
    "# 先頭の5行を表示\n",
    "#print(ans[39]) #回答表示\n",
    "df = initialize1() #初期化\n",
    "\n",
    "\n",
    "\n"
   ]
  },
  {
   "cell_type": "code",
   "execution_count": null,
   "metadata": {},
   "outputs": [],
   "source": [
    "# 【40】\n",
    "# dfにageとembarkedの列を「_」で\n",
    "# 結合した列を追加(列名は「test」)し、\n",
    "# 先頭の5行を表示\n",
    "#print(ans[40]) #回答表示\n",
    "df = initialize1() #初期化\n",
    "\n",
    "\n",
    "\n"
   ]
  },
  {
   "cell_type": "code",
   "execution_count": null,
   "metadata": {},
   "outputs": [],
   "source": [
    "# 【41】\n",
    "# dfからbodyの列を削除し、最初の5行を表示\n",
    "#print(ans[41]) #回答表示\n",
    "df = initialize1() #初期化\n",
    "\n",
    "\n",
    "\n"
   ]
  },
  {
   "cell_type": "code",
   "execution_count": null,
   "metadata": {},
   "outputs": [],
   "source": [
    "# 【42】\n",
    "# dfからインデックス名「3」の行を削除し、最初の5行を表示\n",
    "#print(ans[42]) #回答表示\n",
    "df = initialize1() #初期化\n",
    "\n",
    "\n",
    "\n"
   ]
  },
  {
   "cell_type": "code",
   "execution_count": null,
   "metadata": {},
   "outputs": [],
   "source": [
    "# 【43】\n",
    "# df2の列名を'name', 'class', 'Biology', 'Physics', 'Chemistry'に変更\n",
    "# df2の最初の5行を表示\n",
    "#print(ans[43]) #回答表示\n",
    "df2 = initialize2() #初期化\n",
    "\n",
    "\n",
    "\n"
   ]
  },
  {
   "cell_type": "code",
   "execution_count": null,
   "metadata": {},
   "outputs": [],
   "source": [
    "# 【44】\n",
    "# df2の列名を'English'をBiology'に変更\n",
    "# df2の最初の5行を表示\n",
    "#print(ans[44]) #回答表示\n",
    "df2 = initialize2() #初期化\n",
    "\n",
    "\n",
    "\n",
    "\n"
   ]
  },
  {
   "cell_type": "code",
   "execution_count": null,
   "metadata": {},
   "outputs": [],
   "source": [
    "# 【45】\n",
    "# df2のインデックス名「1」を「10」に変更\n",
    "# df2の最初の5行を表示\n",
    "#print(ans[45]) #回答表示\n",
    "df2 = initialize2() #初期化\n",
    "\n",
    "\n",
    "\n"
   ]
  },
  {
   "cell_type": "code",
   "execution_count": null,
   "metadata": {},
   "outputs": [],
   "source": [
    "# 【46】\n",
    "# dfのすべての列の欠損値数を確認\n",
    "#print(ans[46]) #回答表示\n",
    "df = initialize1() #初期化\n",
    "\n",
    "\n",
    "\n"
   ]
  },
  {
   "cell_type": "code",
   "execution_count": null,
   "metadata": {},
   "outputs": [],
   "source": [
    "# 【47】\n",
    "# dfのage列の欠損値に30を代入\n",
    "# その後、ageの欠損値数を確認\n",
    "#print(ans[47]) #回答表示\n",
    "df = initialize1() #初期化\n",
    "\n",
    "\n",
    "\n"
   ]
  },
  {
   "cell_type": "code",
   "execution_count": null,
   "metadata": {},
   "outputs": [],
   "source": [
    "# 【48】\n",
    "# dfでひとつでも欠損値がある行を削除\n",
    "# その後、dfの欠損値数を確認\n",
    "#print(ans[48]) #回答表示\n",
    "df = initialize1() #初期化\n",
    "\n",
    "\n",
    "\n"
   ]
  },
  {
   "cell_type": "code",
   "execution_count": null,
   "metadata": {},
   "outputs": [],
   "source": [
    "# 【49】\n",
    "# dfのsurvivedの列をndarray形式(配列)で表示\n",
    "#print(ans[49]) #回答表示\n",
    "df = initialize1() #初期化\n",
    "\n",
    "\n",
    "\n"
   ]
  },
  {
   "cell_type": "code",
   "execution_count": null,
   "metadata": {},
   "outputs": [],
   "source": [
    "# 【50】\n",
    "# dfの行をシャッフルして表示\n",
    "#print(ans[50]) #回答表示\n",
    "df = initialize1() #初期化\n",
    "\n",
    "\n",
    "\n"
   ]
  },
  {
   "cell_type": "code",
   "execution_count": null,
   "metadata": {},
   "outputs": [],
   "source": [
    "# 【51】\n",
    "# dfの行をシャッフルし、インデックスを振り直して表示\n",
    "#print(ans[51]) #回答表示\n",
    "df = initialize1() #初期化\n",
    "\n",
    "\n",
    "\n"
   ]
  },
  {
   "cell_type": "code",
   "execution_count": null,
   "metadata": {},
   "outputs": [],
   "source": [
    "# 【52】\n",
    "# ①df2の重複行数をカウント\n",
    "# ②df2の重複行を削除し、df2を表示\n",
    "#print(ans[52]) #回答表示\n",
    "df2 = initialize2() #初期化\n",
    "\n",
    "\n",
    "\n"
   ]
  },
  {
   "cell_type": "code",
   "execution_count": null,
   "metadata": {},
   "outputs": [],
   "source": [
    "# 【53】\n",
    "# dfのnameの列をすべて大文字に変換し表示\n",
    "#print(ans[53]) #回答表示\n",
    "df = initialize1() #初期化\n",
    "\n",
    "\n",
    "\n"
   ]
  },
  {
   "cell_type": "code",
   "execution_count": null,
   "metadata": {},
   "outputs": [],
   "source": [
    "# 【54】\n",
    "# dfのnameの列をすべて小文字に変換し表示\n",
    "#print(ans[54]) #回答表示\n",
    "df = initialize1() #初期化\n",
    "\n",
    "\n",
    "\n"
   ]
  },
  {
   "cell_type": "code",
   "execution_count": null,
   "metadata": {},
   "outputs": [],
   "source": [
    "# 【55】\n",
    "# dfのsex列に含まれる「female」という単語を\n",
    "# 「Python」に置換。その後、1行目の\n",
    "# 「female」が「Python」に置き換わったことを確認\n",
    "#print(ans[55]) #回答表示\n",
    "df = initialize1() #初期化\n",
    "\n",
    "\n",
    "\n"
   ]
  },
  {
   "cell_type": "code",
   "execution_count": null,
   "metadata": {},
   "outputs": [],
   "source": [
    "# 【56】\n",
    "# dfのname列1行目の「Allen, Miss. Elisabeth Walton」の\n",
    "# 「Elisabeth」を消去(import reをインポート)\n",
    "#print(ans[56]) #回答表示\n",
    "df = initialize1() #初期化\n",
    "\n",
    "\n",
    "\n"
   ]
  },
  {
   "cell_type": "code",
   "execution_count": null,
   "metadata": {},
   "outputs": [],
   "source": [
    "# 【57】\n",
    "# df5の都道府県列と市区町村列を空白がないように\n",
    "# 「_」で結合(新規列名は「test2」)し、先頭5行を表示\n",
    "# ※df5の「test」列は通常通り結合した場合の結果\n",
    "#print(ans[57]) #回答表示\n",
    "\n",
    "\n",
    "\n"
   ]
  },
  {
   "cell_type": "code",
   "execution_count": null,
   "metadata": {},
   "outputs": [],
   "source": [
    "# 【58】\n",
    "# df2の行と列を入れ替えて表示\n",
    "#print(ans[58]) #回答表示\n",
    "df2 = initialize2() #初期化\n",
    "\n",
    "\n",
    "\n"
   ]
  },
  {
   "cell_type": "markdown",
   "metadata": {},
   "source": [
    "# マージと連結(59 - 65)"
   ]
  },
  {
   "cell_type": "code",
   "execution_count": null,
   "metadata": {},
   "outputs": [],
   "source": [
    "# 【59】\n",
    "# df2にdf3を左結合し、df2に格納\n",
    "#print(ans[59]) #回答表示\n",
    "df2 = initialize2() #初期化\n",
    "\n",
    "\n",
    "\n"
   ]
  },
  {
   "cell_type": "code",
   "execution_count": null,
   "metadata": {},
   "outputs": [],
   "source": [
    "# 【60】\n",
    "# df2にdf3を右結合し、df2に格納\n",
    "#print(ans[60]) #回答表示\n",
    "df2 = initialize2() #初期化\n",
    "\n",
    "\n",
    "\n"
   ]
  },
  {
   "cell_type": "code",
   "execution_count": null,
   "metadata": {},
   "outputs": [],
   "source": [
    "# 【61】\n",
    "# df2にdf3を内部結合し、df2に格納\n",
    "#print(ans[61]) #回答表示\n",
    "df2 = initialize2() #初期化\n",
    "\n",
    "\n",
    "\n"
   ]
  },
  {
   "cell_type": "code",
   "execution_count": null,
   "metadata": {},
   "outputs": [],
   "source": [
    "# 【62】\n",
    "# df2にdf3を外部結合し、df2に格納\n",
    "#print(ans[62]) #回答表示\n",
    "df2 = initialize2() #初期化\n",
    "\n",
    "\n",
    "\n"
   ]
  },
  {
   "cell_type": "code",
   "execution_count": null,
   "metadata": {},
   "outputs": [],
   "source": [
    "# 【63】\n",
    "# df2とdf4を列方向に連結し、df2に格納\n",
    "#print(ans[63]) #回答表示\n",
    "df2 = initialize2() #初期化\n",
    "\n",
    "\n",
    "\n"
   ]
  },
  {
   "cell_type": "code",
   "execution_count": null,
   "metadata": {},
   "outputs": [],
   "source": [
    "# 【64】\n",
    "# df2とdf4を列方向に連結後、重複している\n",
    "# name列の片方を削除し、df2に格納\n",
    "#print(ans[64]) #回答表示\n",
    "df2 = initialize2() #初期化\n",
    "\n",
    "\n",
    "\n"
   ]
  },
  {
   "cell_type": "code",
   "execution_count": null,
   "metadata": {},
   "outputs": [],
   "source": [
    "# 【65】\n",
    "# df2とdf2を行方向に連結し、df2に格納\n",
    "#print(ans[65]) #回答表示\n",
    "df2 = initialize2() #初期化\n",
    "\n",
    "\n",
    "\n"
   ]
  },
  {
   "cell_type": "markdown",
   "metadata": {},
   "source": [
    "# 統計 (66 - 79)"
   ]
  },
  {
   "cell_type": "code",
   "execution_count": null,
   "metadata": {},
   "outputs": [],
   "source": [
    "# 【66】\n",
    "# dfのage列の平均値を確認\n",
    "#print(ans[66]) #回答表示\n",
    "df = initialize1() #初期化\n",
    "\n",
    "\n",
    "\n"
   ]
  },
  {
   "cell_type": "code",
   "execution_count": null,
   "metadata": {},
   "outputs": [],
   "source": [
    "# 【67】\n",
    "# dfのage列の中央値を確認\n",
    "#print(ans[67]) #回答表示\n",
    "df = initialize1() #初期化\n",
    "\n",
    "\n",
    "\n"
   ]
  },
  {
   "cell_type": "code",
   "execution_count": null,
   "metadata": {},
   "outputs": [],
   "source": [
    "# 【68】\n",
    "# ①df2の生徒ごとの合計点（行方向の合計）\n",
    "# ②df2の科目ごとの点数の総和（列方向の合計）\n",
    "#print(ans[68]) #回答表示\n",
    "df2 = initialize2() #初期化\n",
    "\n",
    "\n",
    "\n"
   ]
  },
  {
   "cell_type": "code",
   "execution_count": null,
   "metadata": {},
   "outputs": [],
   "source": [
    "# 【69】\n",
    "# df2のEnglishで得点の最大値\n",
    "#print(ans[69]) #回答表示\n",
    "df2 = initialize2() #初期化\n",
    "\n",
    "\n",
    "\n"
   ]
  },
  {
   "cell_type": "code",
   "execution_count": null,
   "metadata": {},
   "outputs": [],
   "source": [
    "# 【70】\n",
    "# df2のEnglishで得点の最小値\n",
    "#print(ans[70]) #回答表示\n",
    "df2 = initialize2() #初期化\n",
    "\n",
    "\n",
    "\n"
   ]
  },
  {
   "cell_type": "code",
   "execution_count": null,
   "metadata": {},
   "outputs": [],
   "source": [
    "# 【71】\n",
    "# df2においてclassでグルーピングし、クラスごとの科目の\n",
    "# 最大値、最小値、平均値を求める(name列は削除しておく)\n",
    "#print(ans[71]) #回答表示\n",
    "df2 = initialize2() #初期化\n",
    "\n",
    "\n",
    "\n"
   ]
  },
  {
   "cell_type": "code",
   "execution_count": null,
   "metadata": {},
   "outputs": [],
   "source": [
    "# 【72】\n",
    "# dfの基本統計量を確認(describe)\n",
    "#print(ans[72]) #回答表示\n",
    "df = initialize1() #初期化\n",
    "\n",
    "\n",
    "\n"
   ]
  },
  {
   "cell_type": "code",
   "execution_count": null,
   "metadata": {},
   "outputs": [],
   "source": [
    "# 【73】\n",
    "# dfの各列間の(Pearson)相関係数を確認\n",
    "#print(ans[73]) #回答表示\n",
    "df = initialize1() #初期化\n",
    "\n",
    "\n",
    "\n"
   ]
  },
  {
   "cell_type": "code",
   "execution_count": null,
   "metadata": {},
   "outputs": [],
   "source": [
    "# 【74】\n",
    "# scikit-learnを用いてdf2のEnglish、Mathmatics、History列を標準化する\n",
    "# (from sklearn.preprocessing import StandardScalerをインポート)\n",
    "#print(ans[74]) #回答表示\n",
    "df2 = initialize2() #初期化\n",
    "\n",
    "\n",
    "\n"
   ]
  },
  {
   "cell_type": "code",
   "execution_count": null,
   "metadata": {},
   "outputs": [],
   "source": [
    "# 【75】\n",
    "# scikit-learnを用いてdf2のEnglish列を標準化する\n",
    "# (from sklearn.preprocessing import StandardScalerをインポート)\n",
    "#print(ans[75]) #回答表示\n",
    "df2 = initialize2() #初期化\n",
    "\n",
    "\n",
    "\n"
   ]
  },
  {
   "cell_type": "code",
   "execution_count": null,
   "metadata": {},
   "outputs": [],
   "source": [
    "# 【76】\n",
    "# scikit-learnを用いてdf2のEnglish、Mathmatics、History列を\n",
    "# Min-Maxスケーリングする\n",
    "# (from sklearn.preprocessing import StandardScalerをインポート)\n",
    "#print(ans[76]) #回答表示\n",
    "df2 = initialize2() #初期化\n",
    "\n",
    "\n",
    "\n"
   ]
  },
  {
   "cell_type": "code",
   "execution_count": null,
   "metadata": {},
   "outputs": [],
   "source": [
    "# 【77】\n",
    "# dfのfare列の最大値、最小値の行名を取得\n",
    "#print(ans[77]) #回答表示\n",
    "df = initialize1() #初期化\n",
    "\n",
    "\n",
    "\n"
   ]
  },
  {
   "cell_type": "code",
   "execution_count": null,
   "metadata": {},
   "outputs": [],
   "source": [
    "# 【78】\n",
    "# dfのfare列の0、25、50、75、100パーセンタイルを取得\n",
    "#print(ans[78]) #回答表示\n",
    "df = initialize1() #初期化\n",
    "\n",
    "\n",
    "\n"
   ]
  },
  {
   "cell_type": "code",
   "execution_count": null,
   "metadata": {},
   "outputs": [],
   "source": [
    "# 【79】\n",
    "# ①dfのage列の最頻値を取得\n",
    "# ②value_counts()にてage列の要素数を\n",
    "# 確認し、①の結果の妥当性を確認\n",
    "#print(ans[79]) #回答表示\n",
    "df = initialize1() #初期化\n",
    "\n",
    "\n",
    "\n"
   ]
  },
  {
   "cell_type": "markdown",
   "metadata": {},
   "source": [
    "# ラベリング (80 - 81)"
   ]
  },
  {
   "cell_type": "code",
   "execution_count": null,
   "metadata": {},
   "outputs": [],
   "source": [
    "# 【80】\n",
    "# dfのsex列をラベルエンコーディングし、\n",
    "# dfの先頭5行を表示\n",
    "# (from sklearn.preprocessing import LabelEncoderをインポート)\n",
    "#print(ans[80]) #回答表示\n",
    "df = initialize1() #初期化\n",
    "\n",
    "\n",
    "\n"
   ]
  },
  {
   "cell_type": "code",
   "execution_count": null,
   "metadata": {},
   "outputs": [],
   "source": [
    "# 【81】\n",
    "# dfのsex列をOne-hotエンコーディングし、\n",
    "# dfの先頭5行を表示\n",
    "#print(ans[81]) #回答表示\n",
    "df = initialize1() #初期化\n",
    "\n",
    "\n",
    "\n"
   ]
  },
  {
   "cell_type": "markdown",
   "metadata": {},
   "source": [
    "# Pandasプロット (82 - 89)\n",
    "Pandasプロットの機能については以下のサイトの説明が分かりやすいです  \n",
    "[自調自考の旅](https://own-search-and-study.xyz/2016/08/03/pandas%E3%81%AEplot%E3%81%AE%E5%85%A8%E5%BC%95%E6%95%B0%E3%82%92%E4%BD%BF%E3%81%84%E3%81%93%E3%81%AA%E3%81%99/)"
   ]
  },
  {
   "cell_type": "code",
   "execution_count": null,
   "metadata": {},
   "outputs": [],
   "source": [
    "# 【82】\n",
    "# dfのすべての数値列のヒストグラムを表示\n",
    "#print(ans[82]) #回答表示\n",
    "df = initialize1() #初期化\n",
    "\n",
    "\n",
    "\n"
   ]
  },
  {
   "cell_type": "code",
   "execution_count": null,
   "metadata": {},
   "outputs": [],
   "source": [
    "# 【83】\n",
    "# dfのage列をヒストグラムで表示\n",
    "#print(ans[83]) #回答表示\n",
    "df = initialize1() #初期化\n",
    "\n",
    "\n",
    "\n"
   ]
  },
  {
   "cell_type": "code",
   "execution_count": null,
   "metadata": {},
   "outputs": [],
   "source": [
    "# 【84】\n",
    "# df2のname列の要素ごとの3科目合計得点を棒グラフで表示\n",
    "#print(ans[84]) #回答表示\n",
    "df2 = initialize2() #初期化\n",
    "\n",
    "\n",
    "\n"
   ]
  },
  {
   "cell_type": "code",
   "execution_count": null,
   "metadata": {},
   "outputs": [],
   "source": [
    "# 【85】\n",
    "# df2のname列の要素ごとの3科目を棒グラフで\n",
    "# 並べて表示\n",
    "#print(ans[85]) #回答表示\n",
    "df2 = initialize2() #初期化\n",
    "\n",
    "\n",
    "\n"
   ]
  },
  {
   "cell_type": "code",
   "execution_count": null,
   "metadata": {},
   "outputs": [],
   "source": [
    "# 【86】\n",
    "# df2のname列の要素ごとの3科目を積み上げ棒グラフで表示\n",
    "#print(ans[86]) #回答表示\n",
    "df2 = initialize2() #初期化\n",
    "\n",
    "\n",
    "\n"
   ]
  },
  {
   "cell_type": "code",
   "execution_count": null,
   "metadata": {},
   "outputs": [],
   "source": [
    "# 【87】\n",
    "# dfの各列間の散布図を表示\n",
    "# (from pandas.plotting import scatter_matrixをインポート)\n",
    "#print(ans[87]) #回答表示\n",
    "df = initialize1() #初期化\n",
    "\n",
    "\n",
    "\n"
   ]
  },
  {
   "cell_type": "code",
   "execution_count": null,
   "metadata": {},
   "outputs": [],
   "source": [
    "# 【88】\n",
    "# dfのage列とfare列で散布図を作成\n",
    "#print(ans[88]) #回答表示\n",
    "df = initialize1() #初期化\n",
    "\n",
    "\n",
    "\n"
   ]
  },
  {
   "cell_type": "code",
   "execution_count": null,
   "metadata": {},
   "outputs": [],
   "source": [
    "# 【89】\n",
    "# 【88】で描画したグラフに「age-fare scatter」という\n",
    "# グラフタイトルをつける\n",
    "#print(ans[89]) #回答表示\n",
    "df = initialize1() #初期化\n",
    "\n",
    "\n",
    "\n"
   ]
  },
  {
   "cell_type": "markdown",
   "metadata": {},
   "source": [
    "# タイタニック号の生存者予測 (90 - 100)  \n",
    "これまで触れてきたタイタニック号の乗客データを使用して、乗客の生存有無を  \n",
    "予測してみます。  \n",
    "  \n",
    "※90～100については順番通りにやらないと上手く動作しません"
   ]
  },
  {
   "cell_type": "code",
   "execution_count": null,
   "metadata": {},
   "outputs": [],
   "source": [
    "# 【90】ラベルエンコーディング\n",
    "# df_copyのsexとembarked列をラベルエンコーディング\n",
    "# (from sklearn.preprocessing import LabelEncoderをインポート)\n",
    "# (df_copyはdfをコピーしたもの)\n",
    "#print(ans[90]) #回答表示\n",
    "df_copy =df.copy()\n",
    "\n",
    "\n",
    "\n"
   ]
  },
  {
   "cell_type": "code",
   "execution_count": null,
   "metadata": {},
   "outputs": [],
   "source": [
    "# 【91】欠損値確認\n",
    "# df_copyの欠損値を確認\n",
    "#print(ans[91]) #回答表示\n",
    "\n",
    "\n",
    "\n"
   ]
  },
  {
   "cell_type": "code",
   "execution_count": null,
   "metadata": {},
   "outputs": [],
   "source": [
    "# 【92】欠損値補完\n",
    "# df_copyのage、fare列の欠損値を各列の平均値で補完\n",
    "#print(ans[92]) #回答表示\n",
    "\n",
    "\n",
    "\n"
   ]
  },
  {
   "cell_type": "code",
   "execution_count": null,
   "metadata": {},
   "outputs": [],
   "source": [
    "# 【93】不要列の削除\n",
    "# df_copyの中で機械学習で使用しない不要な行を削除\n",
    "# (name, ticket, cabin, boat, body, home.destを削除)\n",
    "#print(ans[93]) #回答表示\n",
    "\n",
    "\n",
    "\n"
   ]
  },
  {
   "cell_type": "code",
   "execution_count": null,
   "metadata": {},
   "outputs": [],
   "source": [
    "# 【94】ndarray形式への変換\n",
    "# ①df_copyのpclass、age、sex、fare、embarkedの列を抽出し、ndarray形式に変換\n",
    "# ②df_copyのsurvivedの列を抽出し、ndarray形式に変換\n",
    "# (①をfeatures、②をtargetという変数にそれぞれ格納)\n",
    "#print(ans[94]) #回答表示\n",
    "\n",
    "\n",
    "\n"
   ]
  },
  {
   "cell_type": "code",
   "execution_count": null,
   "metadata": {},
   "outputs": [],
   "source": [
    "# 【95】学習データとテストデータに分割\n",
    "# 【94】で作成したfeatrues、targetを学習データとテストデータに分割\n",
    "# (from sklearn.model_selection import  train_test_splitをインポート)\n",
    "# ※分割時のパラメータは次を指定 test_size=0.3 random_state=0\n",
    "#print(ans[95]) #回答表示\n",
    "\n",
    "\n",
    "\n"
   ]
  },
  {
   "cell_type": "code",
   "execution_count": null,
   "metadata": {},
   "outputs": [],
   "source": [
    "# 【96】学習の実行\n",
    "# 学習データ(features、target)を用いランダムフォレストにて学習を実行\n",
    "# (from sklearn.ensemble import RandomForestClassifierをインポート)\n",
    "# ※パラメータは次を指定 n_estimators=100 random_state=0\n",
    "#print(ans[96]) #回答表示\n",
    "\n",
    "\n",
    "\n"
   ]
  },
  {
   "cell_type": "code",
   "execution_count": null,
   "metadata": {},
   "outputs": [],
   "source": [
    "# 【97】予測の実行\n",
    "# test_Xデータの乗客の生存を予測\n",
    "#print(ans[97]) #回答表示\n",
    "\n",
    "\n",
    "\n"
   ]
  },
  {
   "cell_type": "code",
   "execution_count": null,
   "metadata": {},
   "outputs": [],
   "source": [
    "# 【98】予測精度の確認\n",
    "# 予測結果がtest_y(生存有無の答え)とどれぐらい\n",
    "# 整合していたかを確認(評価指標はaccuracy)\n",
    "# (from sklearn.metrics import accuracy_scoreをインポート)\n",
    "#print(ans[98]) #回答表示\n",
    "\n",
    "\n",
    "\n"
   ]
  },
  {
   "cell_type": "code",
   "execution_count": null,
   "metadata": {},
   "outputs": [],
   "source": [
    "# 【99】重要度の確認\n",
    "# 学習における各列(特徴量)の\n",
    "# 重要度を表示\n",
    "#print(ans[99]) #回答表示\n",
    "\n",
    "\n",
    "\n"
   ]
  },
  {
   "cell_type": "code",
   "execution_count": null,
   "metadata": {},
   "outputs": [],
   "source": [
    "# 【100】予測結果のcsv出力\n",
    "# test_Xの予測結果をcsvでoutputフォルダに出力(ファイル名は「submission.csv」)\n",
    "# (headerは不要)\n",
    "#print(ans[100]) #回答表示\n",
    "\n",
    "\n",
    "\n"
   ]
  },
  {
   "cell_type": "markdown",
   "metadata": {},
   "source": [
    "# ノックお疲れ様でした\n",
    "各セルのoutput表示をすべてクリアにしたい場合は、ツールバーの  \n",
    "「Kernel」→「Restart & Clear Output」を実行して下さい。"
   ]
  }
 ],
 "metadata": {
  "kernelspec": {
   "display_name": "Python 3",
   "language": "python",
   "name": "python3"
  },
  "language_info": {
   "codemirror_mode": {
    "name": "ipython",
    "version": 3
   },
   "file_extension": ".py",
   "mimetype": "text/x-python",
   "name": "python",
   "nbconvert_exporter": "python",
   "pygments_lexer": "ipython3",
   "version": "3.7.6-final"
  }
 },
 "nbformat": 4,
 "nbformat_minor": 4
}