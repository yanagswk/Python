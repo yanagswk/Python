{
 "metadata": {
  "language_info": {
   "codemirror_mode": {
    "name": "ipython",
    "version": 3
   },
   "file_extension": ".py",
   "mimetype": "text/x-python",
   "name": "python",
   "nbconvert_exporter": "python",
   "pygments_lexer": "ipython3",
   "version": "3.7.6-final"
  },
  "orig_nbformat": 2,
  "kernelspec": {
   "name": "python3",
   "display_name": "Python 3"
  }
 },
 "nbformat": 4,
 "nbformat_minor": 2,
 "cells": [
  {
   "source": [
    "## json\n",
    "### dump : dictをJSONファイルとして保存\n",
    "### dumps: dictをJSON文字列にする"
   ],
   "cell_type": "markdown",
   "metadata": {}
  },
  {
   "cell_type": "code",
   "execution_count": 64,
   "metadata": {},
   "outputs": [
    {
     "output_type": "stream",
     "name": "stdout",
     "text": [
      "{'employee': [{'id': 111, 'name': 'Mike'}, {'id': 222, 'name': 'Mika'}]}\n{\"employee\": [{\"id\": 111, \"name\": \"Mike\"}, {\"id\": 222, \"name\": \"Mika\"}]}\n"
     ]
    },
    {
     "output_type": "execute_result",
     "data": {
      "text/plain": [
       "{'employee': [{'id': 111, 'name': 'Mike'}, {'id': 222, 'name': 'Mika'}]}"
      ]
     },
     "metadata": {},
     "execution_count": 64
    }
   ],
   "source": [
    "# json\n",
    "import json\n",
    "\n",
    "ex_dict = {\n",
    "    \"employee\":\n",
    "        [\n",
    "            {\"id\": 111, \"name\": \"Mike\"},   \n",
    "            {\"id\": 222, \"name\": \"Mika\"},   \n",
    "        ]\n",
    "}\n",
    "\n",
    "print(ex_dict)\n",
    "# jsonのデータフォーマット()にする。(ダブルクォーテーションになる。)\n",
    "print(json.dumps(ex_dict))\n",
    "\n",
    "# pythonのコードのなかで読み込むときはdumpsやloadsのようにsがつく。\n",
    "a = json.dumps(ex_dict)\n",
    "json.loads(a)"
   ]
  },
  {
   "source": [
    "### load : JSONファイルをdictとして読み込む\n",
    "### loads: JSON文字列をdictに変換"
   ],
   "cell_type": "markdown",
   "metadata": {}
  },
  {
   "cell_type": "code",
   "execution_count": 65,
   "metadata": {},
   "outputs": [
    {
     "output_type": "stream",
     "name": "stdout",
     "text": [
      "load     : {'employee': [{'id': 111, 'name': 'Mike'}, {'id': 222, 'name': 'Mika'}]}\nload.type: <class 'dict'>\n"
     ]
    }
   ],
   "source": [
    "# jsonファイルを読み込む\n",
    "with open(\"test.json\", \"r\") as f:\n",
    "    # 読み込むときはload\n",
    "    py_dict = json.load(f)\n",
    "    print(f'load     : {py_dict}')\n",
    "    print(f'load.type: {type(py_dict)}')"
   ]
  },
  {
   "cell_type": "code",
   "execution_count": 66,
   "metadata": {},
   "outputs": [
    {
     "output_type": "stream",
     "name": "stdout",
     "text": [
      "loads     : {'employee': [{'id': 111, 'name': 'Mike'}, {'id': 222, 'name': 'Mika'}]}\nloads.type: <class 'dict'>\n"
     ]
    }
   ],
   "source": [
    "# dict\n",
    "ex_dict = {\"employee\":[{\"id\": 111, \"name\": \"Mike\"}, {\"id\": 222, \"name\": \"Mika\"}]}\n",
    "# dictからJSON文字列に変換\n",
    "json_dict = json.dumps(ex_dict)\n",
    "# 辞書に変換\n",
    "print(f'loads     : {json.loads(json_dict)}')\n",
    "print(f'loads.type: {type(json.loads(json_dict))}')"
   ]
  },
  {
   "cell_type": "code",
   "execution_count": 28,
   "metadata": {},
   "outputs": [],
   "source": []
  },
  {
   "source": [
    "## urllib.request\n",
    "### GET   : データの参照\n",
    "### POST  : データの新規登録\n",
    "### PUT   : データの更新\n",
    "### DELETE: データの削除"
   ],
   "cell_type": "markdown",
   "metadata": {}
  },
  {
   "cell_type": "code",
   "execution_count": 67,
   "metadata": {},
   "outputs": [
    {
     "output_type": "stream",
     "name": "stdout",
     "text": [
      "{'args': {}, 'headers': {'Accept-Encoding': 'identity', 'Host': 'httpbin.org', 'User-Agent': 'Python-urllib/3.7', 'X-Amzn-Trace-Id': 'Root=1-5fcba5ab-41dbf989722719cd2f5ce069'}, 'origin': '114.187.167.22', 'url': 'http://httpbin.org/get'}\n<class 'dict'>\nhttp://httpbin.org/get?key1=value1&key2=value2\n"
     ]
    }
   ],
   "source": [
    "import urllib.request\n",
    "import json\n",
    "\n",
    "# GET\n",
    "payload = {'key1': 'value1', 'key2': 'value2'}\n",
    "url = 'http://httpbin.org/get'\n",
    "# pythonで使えるようにdict形で返す\n",
    "with urllib.request.urlopen(url) as f:\n",
    "    py_code = json.loads(f.read().decode('utf-8'))\n",
    "    print(py_code)\n",
    "    print(type(py_code))\n",
    "\n",
    "# GETでデータを送る場合は、最初に?をつけて、keyとvalueをいれて、&でつなぐ\n",
    "url = 'http://httpbin.org/get' + '?' + urllib.parse.urlencode(payload)\n",
    "print(url)"
   ]
  },
  {
   "cell_type": "code",
   "execution_count": 68,
   "metadata": {},
   "outputs": [
    {
     "output_type": "stream",
     "name": "stdout",
     "text": [
      "{'args': {}, 'data': '', 'files': {}, 'form': {'{\"key1\": \"value1\", \"key2\": \"value2\"}': ''}, 'headers': {'Accept-Encoding': 'identity', 'Content-Length': '36', 'Content-Type': 'application/x-www-form-urlencoded', 'Host': 'httpbin.org', 'User-Agent': 'Python-urllib/3.7', 'X-Amzn-Trace-Id': 'Root=1-5fcba5ab-385cfc8252ff999a5dc82087'}, 'json': None, 'origin': '114.187.167.22', 'url': 'http://httpbin.org/post'}\n"
     ]
    }
   ],
   "source": [
    "# POST\n",
    "# PUTとDELETEの場合は、POSTのところをPUTとDELETEに変えるだけ\n",
    "\n",
    "payload = {'key1': 'value1', 'key2': 'value2'}\n",
    "\n",
    "\n",
    "payload = json.dumps(payload).encode('utf-8')\n",
    "req = urllib.request.Request('http://httpbin.org/post', data=payload, method='POST')\n",
    "with urllib.request.urlopen(req) as f:\n",
    "    print(json.loads(f.read().decode('utf-8')))"
   ]
  },
  {
   "source": [
    "## requests\n",
    "### urllib.requestよりも楽にできる。"
   ],
   "cell_type": "markdown",
   "metadata": {}
  },
  {
   "cell_type": "code",
   "execution_count": 70,
   "metadata": {},
   "outputs": [
    {
     "output_type": "stream",
     "name": "stdout",
     "text": [
      "status_code: 200\ntext: {\n  \"args\": {\n    \"key1\": \"value1\", \n    \"key2\": \"value2\"\n  }, \n  \"headers\": {\n    \"Accept\": \"*/*\", \n    \"Accept-Encoding\": \"gzip, deflate\", \n    \"Host\": \"httpbin.org\", \n    \"User-Agent\": \"python-requests/2.22.0\", \n    \"X-Amzn-Trace-Id\": \"Root=1-5fcba5ba-0650e23548fe400233f3d7a7\"\n  }, \n  \"origin\": \"114.187.167.22\", \n  \"url\": \"http://httpbin.org/get?key1=value1&key2=value2\"\n}\n\n<class 'str'>\njson(): {'args': {'key1': 'value1', 'key2': 'value2'}, 'headers': {'Accept': '*/*', 'Accept-Encoding': 'gzip, deflate', 'Host': 'httpbin.org', 'User-Agent': 'python-requests/2.22.0', 'X-Amzn-Trace-Id': 'Root=1-5fcba5ba-0650e23548fe400233f3d7a7'}, 'origin': '114.187.167.22', 'url': 'http://httpbin.org/get?key1=value1&key2=value2'}\n<class 'dict'>\n"
     ]
    }
   ],
   "source": [
    "import requests\n",
    "\n",
    "# GET\n",
    "\n",
    "payload = {'key1': 'value1', 'key2': 'value2'}\n",
    "\n",
    "# paramsでパラメーターを指定\n",
    "r = requests.get('http://httpbin.org/get', params=payload, timeout=1)\n",
    "\n",
    "# ステータスコード \n",
    "print(f'status_code: {r.status_code}')\n",
    "# テキストで取得\n",
    "print(f'text: {r.text}')\n",
    "print(type(r.text))\n",
    "\n",
    "print(f'json(): {r.json()}')\n",
    "print(type(r.json()))"
   ]
  },
  {
   "cell_type": "code",
   "execution_count": 59,
   "metadata": {},
   "outputs": [
    {
     "output_type": "stream",
     "name": "stdout",
     "text": [
      "status_code: 200\ntext: {\n  \"args\": {}, \n  \"data\": \"\", \n  \"files\": {}, \n  \"form\": {\n    \"key3\": \"value3\", \n    \"key4\": \"value4\"\n  }, \n  \"headers\": {\n    \"Accept\": \"*/*\", \n    \"Accept-Encoding\": \"gzip, deflate\", \n    \"Content-Length\": \"23\", \n    \"Content-Type\": \"application/x-www-form-urlencoded\", \n    \"Host\": \"httpbin.org\", \n    \"User-Agent\": \"python-requests/2.22.0\", \n    \"X-Amzn-Trace-Id\": \"Root=1-5fcb51f0-0f640866158766f756f55ace\"\n  }, \n  \"json\": null, \n  \"origin\": \"114.187.167.22\", \n  \"url\": \"http://httpbin.org/post\"\n}\n\njson(): {'args': {}, 'data': '', 'files': {}, 'form': {'key3': 'value3', 'key4': 'value4'}, 'headers': {'Accept': '*/*', 'Accept-Encoding': 'gzip, deflate', 'Content-Length': '23', 'Content-Type': 'application/x-www-form-urlencoded', 'Host': 'httpbin.org', 'User-Agent': 'python-requests/2.22.0', 'X-Amzn-Trace-Id': 'Root=1-5fcb51f0-0f640866158766f756f55ace'}, 'json': None, 'origin': '114.187.167.22', 'url': 'http://httpbin.org/post'}\n"
     ]
    }
   ],
   "source": [
    "# POST\n",
    "# PUTとDELETEの場合は、POSTをかえるだけ\n",
    "\n",
    "payload = {'key3': 'value3', 'key4': 'value4'}\n",
    "\n",
    "# dataにパラメーターを指定\n",
    "r = requests.post('http://httpbin.org/post', data=payload)\n",
    "\n",
    "print(f'status_code: {r.status_code}')\n",
    "print(f'text: {r.text}')\n",
    "print(f'json(): {r.json()}')"
   ]
  },
  {
   "cell_type": "code",
   "execution_count": null,
   "metadata": {},
   "outputs": [],
   "source": []
  }
 ]
}