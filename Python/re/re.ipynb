{
 "metadata": {
  "language_info": {
   "codemirror_mode": {
    "name": "ipython",
    "version": 3
   },
   "file_extension": ".py",
   "mimetype": "text/x-python",
   "name": "python",
   "nbconvert_exporter": "python",
   "pygments_lexer": "ipython3",
   "version": "3.7.6-final"
  },
  "orig_nbformat": 2,
  "kernelspec": {
   "name": "python3",
   "display_name": "Python 3"
  }
 },
 "nbformat": 4,
 "nbformat_minor": 2,
 "cells": [
  {
   "cell_type": "markdown",
   "metadata": {},
   "source": [
    "# 正規表現のメタ文字、特殊シーケンス"
   ]
  },
  {
   "cell_type": "markdown",
   "metadata": {},
   "source": [
    "|メタ文字|意味|\n",
    "| --- | --- |\n",
    "| . |改行以外の1文字(DOTALLフラグで改行も含む)|\n",
    "| ^ |文字列の先頭(MULTILINEフラグで各行の先頭にもマッチ)|\n",
    "| $ |文字列の末尾(MULTILINEフラグで各行の末尾にもマッチ)|\n",
    "| * |直前のパターンを0回以上繰り返し|\n",
    "| + |直前のパターンを1回以上繰り返し|\n",
    "| ? |直前のパターンを0回または1回繰り返し|\n",
    "| {m} |直前のパターンをm回繰り返し|\n",
    "| {m, n} |直前のパターンをm～n回繰り返し|\n",
    "| [] |文字の集合[]内のいずれか1文字にマッチ|\n",
    "| | |OR(または) A|BでAまたはBのいずれかのパターンにマッチ|"
   ]
  },
  {
   "cell_type": "markdown",
   "metadata": {},
   "source": [
    "|特殊シーケンス|意味|\n",
    "| --- | --- |\n",
    "|\\d|数字|\n",
    "|\\D|数字以外|\n",
    "|\\s|Unicode空白文字|\n",
    "|\\S|Unicode空白文字以外|\n",
    "|\\w|アルファベットと数字|\n",
    "|\\W|アルファベットと数字以外|"
   ]
  },
  {
   "cell_type": "markdown",
   "metadata": {},
   "source": [
    "## match()\n",
    "### 文字列の先頭がマッチするかチェックする。マッチする場合は、マッチオブジェクトを返す。\n",
    "### match()が調べるのは先頭のみで、先頭にマッチしない場合はNoneを返す。"
   ]
  },
  {
   "cell_type": "code",
   "execution_count": 35,
   "metadata": {},
   "outputs": [
    {
     "name": "stdout",
     "output_type": "stream",
     "text": [
      "対象文字: aaa@xxx.com, bbb@yyy.com, ccc@zzz.net\n[a-z]+@[a-z]+\\.com: <re.Match object; span=(0, 11), match='aaa@xxx.com'>\n[a-z]+@[a-z]+\\.net: None\naaa@xxx.com\n"
     ]
    }
   ],
   "source": [
    "import re\n",
    "s = 'aaa@xxx.com, bbb@yyy.com, ccc@zzz.net'\n",
    "print(f'対象文字: {s}')\n",
    "\n",
    "m = re.match(r'[a-z]+@[a-z]+\\.com', s)\n",
    "print(f'[a-z]+@[a-z]+\\.com: {m}')\n",
    "\n",
    "n = re.match(r'[a-z]+@[a-z]+\\.net', s)\n",
    "print(f'[a-z]+@[a-z]+\\.net: {n}')\n"
   ]
  },
  {
   "cell_type": "markdown",
   "metadata": {},
   "source": [
    "\n"
   ]
  },
  {
   "cell_type": "code",
   "execution_count": 26,
   "metadata": {},
   "outputs": [
    {
     "name": "stdout",
     "output_type": "stream",
     "text": [
      "match: <re.Match object; span=(0, 4), match='Does'>\nmatch2: <re.Match object; span=(0, 0), match=''>\n"
     ]
    }
   ],
   "source": [
    "pattern = 'Does'\n",
    "pattern2 = \"\"\n",
    "text = 'Does this text match the pattern?'\n",
    "match = re.match(pattern, text)\n",
    "match2 = re.match(pattern2, text)\n",
    "\n",
    "print(f'match: {match}')\n",
    "print(f'match2: {match2}')\n"
   ]
  },
  {
   "cell_type": "markdown",
   "metadata": {},
   "source": [
    "## search()\n",
    "### 先頭に限らずマッチするかチェックする。マッチする場合は、マッチオブジェクトを返す。\n",
    "### マッチする部分が複数ある場合は、最初のマッチ部分のみが返される。"
   ]
  },
  {
   "cell_type": "code",
   "execution_count": 43,
   "metadata": {},
   "outputs": [
    {
     "name": "stdout",
     "output_type": "stream",
     "text": [
      "text: aaa@xxx.com, bbb@yyy.com, ccc@zzz.net\n[a-z]+@[a-z]+\\.com: <re.Match object; span=(26, 37), match='ccc@zzz.net'>\n[a-z]+@[a-z]+\\.net: <re.Match object; span=(0, 11), match='aaa@xxx.com'>\n"
     ]
    }
   ],
   "source": [
    "text = 'aaa@xxx.com, bbb@yyy.com, ccc@zzz.net'\n",
    "print(f'text: {s}')\n",
    "\n",
    "m = re.search(r'[a-z]+@[a-z]+\\.net', s)\n",
    "print(f'[a-z]+@[a-z]+\\.com: {m}')\n",
    "\n",
    "n = re.search(r'[a-z]+@[a-z]+\\.com', s)\n",
    "print(f'[a-z]+@[a-z]+\\.net: {n}')"
   ]
  },
  {
   "cell_type": "code",
   "execution_count": 25,
   "metadata": {},
   "outputs": [
    {
     "name": "stdout",
     "output_type": "stream",
     "text": [
      "search: <re.Match object; span=(15, 21), match='search'>\nsearch2: None\n"
     ]
    }
   ],
   "source": [
    "pattern = 'search'\n",
    "pattern2 = \"Search\"\n",
    "text = 'Does this text search the pattern?'\n",
    "search = re.search(pattern, text)\n",
    "search2 = re.search(pattern2, text)\n",
    "\n",
    "print(f'search: {search}')\n",
    "print(f'search2: {search2}')"
   ]
  },
  {
   "cell_type": "markdown",
   "metadata": {},
   "source": [
    "## fullmatch()\n",
    "### 文字列全体がマッチするかチェックする。マッチする場合は、マッチオブジェクトを返す。\n",
    "### マッチしない部分がある場合はNoneを返す。"
   ]
  },
  {
   "cell_type": "code",
   "execution_count": 17,
   "metadata": {},
   "outputs": [
    {
     "name": "stdout",
     "output_type": "stream",
     "text": [
      "aaa@xxx.com: <re.Match object; span=(0, 11), match='aaa@xxx.com'>\n!!!aaa@xxx.com!!!: None\n!!!aaa@xxx.com!!!: None\n"
     ]
    }
   ],
   "source": [
    "s = 'aaa@xxx.com'\n",
    "r = '!!!aaa@xxx.com!!!'\n",
    "\n",
    "m = re.fullmatch(r'[a-z]+@[a-z]+\\.com', s)\n",
    "print(f'aaa@xxx.com: {m}')\n",
    "\n",
    "n = re.fullmatch(r'[a-z]+@[a-z]+\\.com', r)\n",
    "print(f'!!!aaa@xxx.com!!!: {n}')\n",
    "\n",
    "# fullmatch()はpython3.4で追加。それまでは、matchと末尾にマッチするメタ文字「$」を利用する。\n",
    "o = re.match(r'[a-z]+@[a-z]+\\.com$', r)\n",
    "print(f'!!!aaa@xxx.com!!!: {o}')\n"
   ]
  },
  {
   "cell_type": "markdown",
   "metadata": {},
   "source": [
    "## findall()\n",
    "### マッチする部分すべてをリストで取得\n",
    "### リストの要素はマッチオブジェクトではなく文字列なので注意"
   ]
  },
  {
   "cell_type": "code",
   "execution_count": 19,
   "metadata": {},
   "outputs": [
    {
     "name": "stdout",
     "output_type": "stream",
     "text": [
      "findall(): ['aaa@xxx.com', 'bbb@yyy.com', 'ccc@zzz.net']\nマッチした部分: 3\n"
     ]
    }
   ],
   "source": [
    "s = 'aaa@xxx.com, bbb@yyy.com, ccc@zzz.net'\n",
    "\n",
    "result = re.findall(r'[a-z]+@[a-z]+\\.[a-z]+', s)\n",
    "print(f'findall(): {result}')\n",
    "\n",
    "# マッチした部分が何個あるかはlen()を使う。\n",
    "print(f'マッチした部分: {len(result)}')"
   ]
  },
  {
   "cell_type": "markdown",
   "metadata": {},
   "source": [
    "## finditer()\n",
    "### マッチする部分すべてをイテレータで取得\n",
    "### マッチした部分の位置(インデックス)なども取得できる。\n",
    "### for文などで中身が一つずつ取り出せる。"
   ]
  },
  {
   "cell_type": "code",
   "execution_count": 29,
   "metadata": {},
   "outputs": [
    {
     "name": "stdout",
     "output_type": "stream",
     "text": [
      "finditer: <callable_iterator object at 0x00000229548B8F88>\n<re.Match object; span=(0, 11), match='aaa@xxx.com'>\n<re.Match object; span=(13, 24), match='bbb@yyy.com'>\n<re.Match object; span=(26, 37), match='ccc@zzz.net'>\n"
     ]
    }
   ],
   "source": [
    "s = 'aaa@xxx.com, bbb@yyy.com, ccc@zzz.net'\n",
    "\n",
    "result = re.finditer(r'[a-z]+@[a-z]+\\.[a-z]+', s)\n",
    "print(f'finditer: {result}')\n",
    "\n",
    "for match in result:\n",
    "    print(match)"
   ]
  },
  {
   "cell_type": "markdown",
   "metadata": {},
   "source": [
    "## sub()\n",
    "### 完全一致ではなく正規表現にマッチした文字列を置換したい場合はreモジュールのsub()関数を使う。\n",
    "### replace()やtranslate()では置換元文字列に完全一致した場合に置換される。"
   ]
  },
  {
   "cell_type": "code",
   "execution_count": 30,
   "metadata": {},
   "outputs": [
    {
     "name": "stdout",
     "output_type": "stream",
     "text": [
      "sub(): new-address, new-address, ccc@zzz.net\n"
     ]
    }
   ],
   "source": [
    "s = 'aaa@xxx.com, bbb@yyy.com, ccc@zzz.net'\n",
    "\n",
    "result = re.sub(r'[a-z]+@[a-z]+\\.com', 'new-address', s)\n",
    "print(f'sub(): {result}')"
   ]
  },
  {
   "cell_type": "markdown",
   "metadata": {},
   "source": [
    "## comile()\n",
    "### 正規表現パターンを事前にコンパイルする。"
   ]
  },
  {
   "cell_type": "code",
   "execution_count": 47,
   "metadata": {},
   "outputs": [
    {
     "name": "stdout",
     "output_type": "stream",
     "text": [
      "text: Does this text match the pattern?\nre.compile('this'): match\nre.compile('that'): not match\n"
     ]
    }
   ],
   "source": [
    "regexes = [re.compile(p) for p in ['this', 'that']]\n",
    "text = 'Does this text match the pattern?'\n",
    "print(f'text: {text}')\n",
    "\n",
    "for regexe in regexes:\n",
    "    if regexe.search(text):\n",
    "        print(f'{regexe}: match')\n",
    "    else:\n",
    "        print(f'{regexe}: not match')\n"
   ]
  },
  {
   "cell_type": "markdown",
   "metadata": {},
   "source": [
    "## マッチオブジェクト  \n",
    "|メソッド|意味|\n",
    "| --- | --- |\n",
    "| group() | マッチした文字列を返す |\n",
    "| start() | マッチした文字列の開始位置を返す。 |\n",
    "| end() | マッチした文字列の終了位置を返す。 |\n",
    "| span() | マッチした文字列の開始終了位置のタプルを返す。 |"
   ]
  },
  {
   "cell_type": "code",
   "execution_count": 39,
   "metadata": {},
   "outputs": [
    {
     "name": "stdout",
     "output_type": "stream",
     "text": [
      "group(): abcedf\nstart(): 6\nend(): 12\nspan(): (6, 12)\n"
     ]
    }
   ],
   "source": [
    "text = \"123456abcedf789ghi\"\n",
    "matchobj = re.search(r'[a-z]+', text)\n",
    "\n",
    "print(f'group(): {matchobj.group()}')\n",
    "print(f'start(): {matchobj.start()}')\n",
    "print(f'end(): {matchobj.end()}')\n",
    "print(f'span(): {matchobj.span()}')"
   ]
  },
  {
   "cell_type": "code",
   "execution_count": null,
   "metadata": {},
   "outputs": [],
   "source": []
  }
 ]
}