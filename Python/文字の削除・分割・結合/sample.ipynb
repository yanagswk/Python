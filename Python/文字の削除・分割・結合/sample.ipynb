{
 "metadata": {
  "language_info": {
   "codemirror_mode": {
    "name": "ipython",
    "version": 3
   },
   "file_extension": ".py",
   "mimetype": "text/x-python",
   "name": "python",
   "nbconvert_exporter": "python",
   "pygments_lexer": "ipython3",
   "version": "3.7.6-final"
  },
  "orig_nbformat": 2,
  "kernelspec": {
   "name": "python3",
   "display_name": "Python 3"
  }
 },
 "nbformat": 4,
 "nbformat_minor": 2,
 "cells": [
  {
   "source": [
    "# strip()\n",
    "### 文字列の両端（先頭、末尾）の指定した文字を削除するにはstrip()を使う。\n",
    "### 文字を指定しない場合は、半角スペース、全角スペース、改行、改ページ、タブなどの「空白文字」を削除。"
   ],
   "cell_type": "markdown",
   "metadata": {}
  },
  {
   "cell_type": "code",
   "execution_count": 22,
   "metadata": {},
   "outputs": [
    {
     "output_type": "stream",
     "name": "stdout",
     "text": [
      "num1:  \t a b c d \n\nnum1.strip(): a b c d\n"
     ]
    }
   ],
   "source": [
    "num1 = ' \\t a b c d \\n'\n",
    "\n",
    "print(f\"num1: {num1}\")\n",
    "print(f\"num1.strip(): {num1.strip()}\")"
   ]
  },
  {
   "source": [
    "### 引数に文字列を指定すると、その文字列に含まれる文字が両端から削除される。\n",
    "### 指定した文字列に一致する文字列ではなく、指定した文字列に含まれる文字が削除される。例えば'abc'でも'cba'でも結果は同じ。"
   ],
   "cell_type": "markdown",
   "metadata": {}
  },
  {
   "cell_type": "code",
   "execution_count": 27,
   "metadata": {},
   "outputs": [
    {
     "output_type": "stream",
     "name": "stdout",
     "text": [
      "num2.strip(abc): -abc-\nnum2.strip(cba): -abc-\nnum2.strip(ab): cc-abc-aabbcc\n"
     ]
    }
   ],
   "source": [
    "num2 = 'aabbcc-abc-aabbcc'\n",
    "\n",
    "print(f\"num2.strip(abc): {num2.strip('abc')}\")\n",
    "print(f\"num2.strip(cba): {num2.strip('cba')}\")\n",
    "print(f\"num2.strip(ab): {num2.strip('ab')}\")"
   ]
  },
  {
   "source": [
    "# lstrip()\n",
    "### 先頭(左側)の文字を削除"
   ],
   "cell_type": "markdown",
   "metadata": {}
  },
  {
   "cell_type": "code",
   "execution_count": 32,
   "metadata": {},
   "outputs": [
    {
     "output_type": "stream",
     "name": "stdout",
     "text": [
      "num3: \t a b c d  \n\nnum3.lstrip(): a b c d  \n\nnum4.lstrip(): -abc-aabbcc\n"
     ]
    }
   ],
   "source": [
    "num3 = '\\t a b c d  \\n'\n",
    "num4 = 'aabbcc-abc-aabbcc'\n",
    "\n",
    "print(f\"num3: {num3}\")\n",
    "print(f\"num3.lstrip(): {num3.lstrip()}\")\n",
    "print(f\"num4.lstrip(): {num4.lstrip('abc')}\")"
   ]
  },
  {
   "source": [
    "# rstrip()\n",
    "### 末尾(右側)の文字を削除"
   ],
   "cell_type": "markdown",
   "metadata": {}
  },
  {
   "source": [
    "num5 = '\\t a b c d  \\n'\n",
    "num6 = 'aabbcc-abc-aabbcc'\n",
    "\n",
    "print(f\"num5: {num3}\")\n",
    "print(f\"num5.rstrip(): {num5.rstrip()}\")\n",
    "print(f\"num6.rstrip(): {num6.rstrip('abc')}\")"
   ],
   "cell_type": "code",
   "metadata": {},
   "execution_count": 33,
   "outputs": [
    {
     "output_type": "stream",
     "name": "stdout",
     "text": [
      "num5: \t a b c d  \n\nnum5.rstrip(): \t a b c d\nnum6.rstrip(): aabbcc-abc-\n"
     ]
    }
   ]
  },
  {
   "source": [
    "# split()\n",
    "### 区切り文字で分割して、リストにする。\n",
    "### 文字を指定しない場合は、半角スペース、全角スペース、改行、改ページ、タブなどの「空白文字」で分割。"
   ],
   "cell_type": "markdown",
   "metadata": {}
  },
  {
   "cell_type": "code",
   "execution_count": 39,
   "metadata": {},
   "outputs": [
    {
     "output_type": "stream",
     "name": "stdout",
     "text": [
      "num7: one two     three\nfour\tfive\nnum7.split(): ['one', 'two', 'three', 'four', 'five']\nnum8.split(','): ['one', 'two', 'three', 'four', 'five']\nnum8.split('three'): ['one,two,', ',four,five']\n"
     ]
    }
   ],
   "source": [
    "num7 = 'one two     three\\nfour\\tfive'\n",
    "num8 = 'one,two,three,four,five'\n",
    "\n",
    "print(f\"num7: {num7}\")\n",
    "print(f\"num7.split(): {num7.split()}\")\n",
    "print(f\"num8.split(','): {num8.split(',')}\")\n",
    "print(f\"num8.split('three'): {num8.split('three')}\")"
   ]
  },
  {
   "source": [
    "# splitlines()\n",
    "### 改行で分割"
   ],
   "cell_type": "markdown",
   "metadata": {}
  },
  {
   "cell_type": "code",
   "execution_count": null,
   "metadata": {},
   "outputs": [],
   "source": []
  },
  {
   "source": [
    "# re.split()\n",
    "### 正規表現にマッチした部分で分割"
   ],
   "cell_type": "markdown",
   "metadata": {}
  },
  {
   "cell_type": "code",
   "execution_count": null,
   "metadata": {},
   "outputs": [],
   "source": []
  },
  {
   "source": [
    "# join()\n",
    "### 文字列のリストを一つの文字列に結合\n",
    "### '間に挿入する文字列'でjoin()メソッドを呼び出し、引数として連結したい文字列のリストを渡す"
   ],
   "cell_type": "markdown",
   "metadata": {}
  },
  {
   "cell_type": "code",
   "execution_count": null,
   "metadata": {},
   "outputs": [],
   "source": []
  }
 ]
}