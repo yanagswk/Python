{
 "metadata": {
  "language_info": {
   "codemirror_mode": {
    "name": "ipython",
    "version": 3
   },
   "file_extension": ".py",
   "mimetype": "text/x-python",
   "name": "python",
   "nbconvert_exporter": "python",
   "pygments_lexer": "ipython3",
   "version": "3.6.3-final"
  },
  "orig_nbformat": 2,
  "kernelspec": {
   "name": "python3",
   "display_name": "Python 3",
   "language": "python"
  }
 },
 "nbformat": 4,
 "nbformat_minor": 2,
 "cells": [
  {
   "source": [
    "## str・・・われわれ人間にとってわかりやすく表示する。\n",
    "## repr・・・pythonオブジェクトで表示する。"
   ],
   "cell_type": "markdown",
   "metadata": {}
  },
  {
   "cell_type": "code",
   "execution_count": 8,
   "metadata": {},
   "outputs": [
    {
     "output_type": "stream",
     "name": "stdout",
     "text": [
      "2020-12-19 16:03:04.248831\nstr: 2020-12-19 16:03:04.248831\nrepr: datetime.datetime(2020, 12, 19, 16, 3, 4, 248831)\n"
     ]
    }
   ],
   "source": [
    "import datetime\n",
    "\n",
    "d = datetime.datetime.now()\n",
    "print(d)\n",
    "print(f'str: {str(d)}')\n",
    "print(f'repr: {repr(d)}')"
   ]
  },
  {
   "cell_type": "code",
   "execution_count": 21,
   "metadata": {},
   "outputs": [
    {
     "output_type": "stream",
     "name": "stdout",
     "text": [
      "repr: 'test'\nstr : test2\ntest1\n"
     ]
    }
   ],
   "source": [
    "# フォーマットを使って、reprを表示\n",
    "print('repr: {!r}'.format('test'))\n",
    "print('str : {!s}'.format('test2'))\n",
    "print('{}'.format('test1'))"
   ]
  },
  {
   "cell_type": "code",
   "execution_count": 20,
   "metadata": {},
   "outputs": [
    {
     "output_type": "stream",
     "name": "stdout",
     "text": [
      "repr: Point<object>\nstr : Point (10, 200)\nPoint (10, 200)\n"
     ]
    }
   ],
   "source": [
    "class Point(object):\n",
    "    def __init__(self, x, y):\n",
    "        self.x = x\n",
    "        self.y = y\n",
    "\n",
    "    def __repr__(self):\n",
    "        return 'Point<object>'\n",
    "\n",
    "    def __str__(self):\n",
    "        return 'Point ({}, {})'.format(self.x, self.y)\n",
    "\n",
    "p = Point(10, 200)\n",
    "print('repr: {!r}'.format(p))\n",
    "print('str : {!s}'.format(p))\n",
    "print('{}'.format(p))"
   ]
  },
  {
   "cell_type": "code",
   "execution_count": null,
   "metadata": {},
   "outputs": [],
   "source": []
  }
 ]
}