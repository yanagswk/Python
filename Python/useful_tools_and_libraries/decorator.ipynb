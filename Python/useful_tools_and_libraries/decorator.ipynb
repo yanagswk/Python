{
 "metadata": {
  "language_info": {
   "codemirror_mode": {
    "name": "ipython",
    "version": 3
   },
   "file_extension": ".py",
   "mimetype": "text/x-python",
   "name": "python",
   "nbconvert_exporter": "python",
   "pygments_lexer": "ipython3",
   "version": "3.6.3-final"
  },
  "orig_nbformat": 2,
  "kernelspec": {
   "name": "python3",
   "display_name": "Python 3",
   "language": "python"
  }
 },
 "nbformat": 4,
 "nbformat_minor": 2,
 "cells": [
  {
   "source": [
    "## デコレーター\n",
    "### 関数やクラスの前後に、任意の処理を追加できる。"
   ],
   "cell_type": "markdown",
   "metadata": {}
  },
  {
   "cell_type": "code",
   "execution_count": 1,
   "metadata": {},
   "outputs": [],
   "source": [
    "# デコレート対象の関数fの呼び出し前後でログを出力するデコレータ\n",
    "def deco1(f):\n",
    "    print('deco1 called')\n",
    "    def wrapper():\n",
    "        print('before exec')\n",
    "        # 元の関数が実行\n",
    "        v = f()\n",
    "        print('after exec')\n",
    "        return v\n",
    "    return wrapper"
   ]
  },
  {
   "cell_type": "code",
   "execution_count": 2,
   "metadata": {},
   "outputs": [
    {
     "output_type": "stream",
     "name": "stdout",
     "text": [
      "deco1 called\nbefore exec\nexec\nafter exec\n"
     ]
    },
    {
     "output_type": "execute_result",
     "data": {
      "text/plain": [
       "1"
      ]
     },
     "metadata": {},
     "execution_count": 2
    }
   ],
   "source": [
    "@deco1\n",
    "def func():\n",
    "    print('exec')\n",
    "    return 1\n",
    "\n",
    "func()"
   ]
  },
  {
   "source": [
    "元の関数を引数なしで呼び出すことしか想定してないので、デコレート対象の関数が引数を必要都する場合は、以下のようにエラーが出る。"
   ],
   "cell_type": "markdown",
   "metadata": {}
  },
  {
   "cell_type": "code",
   "execution_count": 3,
   "metadata": {},
   "outputs": [
    {
     "output_type": "stream",
     "name": "stdout",
     "text": [
      "deco1 called\n"
     ]
    },
    {
     "output_type": "error",
     "ename": "TypeError",
     "evalue": "wrapper() takes 0 positional arguments but 2 were given",
     "traceback": [
      "\u001b[1;31m---------------------------------------------------------------------------\u001b[0m",
      "\u001b[1;31mTypeError\u001b[0m                                 Traceback (most recent call last)",
      "\u001b[1;32m<ipython-input-3-258c3dbc1a87>\u001b[0m in \u001b[0;36m<module>\u001b[1;34m\u001b[0m\n\u001b[0;32m      4\u001b[0m     \u001b[1;32mreturn\u001b[0m \u001b[0mx\u001b[0m\u001b[1;33m,\u001b[0m \u001b[0my\u001b[0m\u001b[1;33m\u001b[0m\u001b[0m\n\u001b[0;32m      5\u001b[0m \u001b[1;33m\u001b[0m\u001b[0m\n\u001b[1;32m----> 6\u001b[1;33m \u001b[0mfunc\u001b[0m\u001b[1;33m(\u001b[0m\u001b[1;36m1\u001b[0m\u001b[1;33m,\u001b[0m \u001b[1;36m2\u001b[0m\u001b[1;33m)\u001b[0m\u001b[1;33m\u001b[0m\u001b[0m\n\u001b[0m",
      "\u001b[1;31mTypeError\u001b[0m: wrapper() takes 0 positional arguments but 2 were given"
     ]
    }
   ],
   "source": [
    "@deco1\n",
    "def func(x, y):\n",
    "    print('exec')\n",
    "    return x, y\n",
    "\n",
    "func(1, 2)"
   ]
  },
  {
   "source": [
    "実際に呼び出される関数は、wrapper()だから、wrapper()が任意の引数を受け取り、元の関数を呼び出す際に受け取った引数をそのまま渡してあげる。"
   ],
   "cell_type": "markdown",
   "metadata": {}
  },
  {
   "cell_type": "code",
   "execution_count": 4,
   "metadata": {},
   "outputs": [],
   "source": [
    "def deco2(f):\n",
    "    def wrapper(*args, **kwargs):\n",
    "        print('before exec')\n",
    "        # 引数を渡して元の関数を実行\n",
    "        v = f(*args, **kwargs)\n",
    "        print('after exec')\n",
    "        return v\n",
    "    return wrapper"
   ]
  },
  {
   "source": [
    "func(1, 2)を呼び出すと、実際はwrapper(1, 2)が実行される。"
   ],
   "cell_type": "markdown",
   "metadata": {}
  },
  {
   "cell_type": "code",
   "execution_count": 5,
   "metadata": {},
   "outputs": [
    {
     "output_type": "stream",
     "name": "stdout",
     "text": [
      "before exec\nexec\nafter exec\n"
     ]
    },
    {
     "output_type": "execute_result",
     "data": {
      "text/plain": [
       "(1, 2)"
      ]
     },
     "metadata": {},
     "execution_count": 5
    }
   ],
   "source": [
    "@deco2\n",
    "def func(x,y):\n",
    "    print('exec')\n",
    "    return x, y\n",
    "\n",
    "func(1, 2)"
   ]
  },
  {
   "source": [
    "次に、デコレータ自身が引数を受け取るデコレータを実装"
   ],
   "cell_type": "markdown",
   "metadata": {}
  },
  {
   "cell_type": "code",
   "execution_count": 11,
   "metadata": {},
   "outputs": [],
   "source": [
    "def deco3(z):\n",
    "    # deco2()と同様\n",
    "    def _deco3(f):\n",
    "        def wrapper(*args, **kwargs):\n",
    "            # ここでzを参照できる\n",
    "            print('before exec', z)\n",
    "            v = f(*args, **kwargs)\n",
    "            print('after exec', z)\n",
    "            return v\n",
    "        return wrapper\n",
    "    # デコレータを返す\n",
    "    return _deco3"
   ]
  },
  {
   "cell_type": "code",
   "execution_count": 14,
   "metadata": {},
   "outputs": [
    {
     "output_type": "stream",
     "name": "stdout",
     "text": [
      "before exec 3\nexec\nafter exec 3\n"
     ]
    },
    {
     "output_type": "execute_result",
     "data": {
      "text/plain": [
       "(1, 2)"
      ]
     },
     "metadata": {},
     "execution_count": 14
    }
   ],
   "source": [
    "@deco3(z=3)\n",
    "def func(x, y):\n",
    "    print('exec')\n",
    "    return x, y\n",
    "\n",
    "# zに渡した値は保持されている\n",
    "func(1, 2)"
   ]
  },
  {
   "source": [
    "デコレータを使うときは、functools.wraps()を使い、実際に実行される関数の名前やDocstringを、もとの関数のものに置き換えるのが一般的"
   ],
   "cell_type": "markdown",
   "metadata": {}
  },
  {
   "cell_type": "code",
   "execution_count": 9,
   "metadata": {},
   "outputs": [],
   "source": [
    "from functools import wraps\n",
    "def deco4(f):\n",
    "    # 元の関数を引数にとるデコレーター\n",
    "    @wraps(f)\n",
    "    def wrapper(*args, **kwargs):\n",
    "        print('before exec')\n",
    "        v = f(*args, **kwargs)\n",
    "        print('after exec')\n",
    "        return v\n",
    "    return wrapper"
   ]
  },
  {
   "cell_type": "code",
   "execution_count": 26,
   "metadata": {},
   "outputs": [
    {
     "output_type": "stream",
     "name": "stdout",
     "text": [
      "__name__: func\n__doc__: funcです\n"
     ]
    }
   ],
   "source": [
    "@deco4\n",
    "def func():\n",
    "    \"\"\"funcです\"\"\"\n",
    "    print('exec')\n",
    "\n",
    "print(f'__name__: {func.__name__}')\n",
    "print(f'__doc__: {func.__doc__}')"
   ]
  },
  {
   "source": [
    "functools.wraps()を使わないと、上記の例だとwrapperになり、複数個所で同じデコレータを使うと、同じ関数名が複数存在することになっていしまう。"
   ],
   "cell_type": "markdown",
   "metadata": {}
  },
  {
   "cell_type": "code",
   "execution_count": 27,
   "metadata": {},
   "outputs": [],
   "source": [
    "def deco4(f):\n",
    "    def wrapper(*args, **kwargs):\n",
    "        print('before exec')\n",
    "        v = f(*args, **kwargs)\n",
    "        print('after exec')\n",
    "        return v\n",
    "    return wrapper"
   ]
  },
  {
   "cell_type": "code",
   "execution_count": 28,
   "metadata": {},
   "outputs": [
    {
     "output_type": "stream",
     "name": "stdout",
     "text": [
      "__name__: wrapper\n__doc__: None\n"
     ]
    }
   ],
   "source": [
    "@deco4\n",
    "def func():\n",
    "    \"\"\"funcです\"\"\"\n",
    "    print('exec')\n",
    "\n",
    "print(f'__name__: {func.__name__}')\n",
    "print(f'__doc__: {func.__doc__}')"
   ]
  },
  {
   "source": [
    "デコレータの実例として、関数の処理時間を計測できるデコレータ"
   ],
   "cell_type": "markdown",
   "metadata": {}
  },
  {
   "cell_type": "code",
   "execution_count": 17,
   "metadata": {},
   "outputs": [],
   "source": [
    "import time\n",
    "\n",
    "def elapsed_time(f):\n",
    "    @wraps(f)\n",
    "    def wrapper(*args, **kwrags):\n",
    "        start = time.time()\n",
    "        v = f(*args, **kwrags)\n",
    "        print(f\"{f.__name__}: {time.time() - start}\")\n",
    "        return v\n",
    "    return wrapper"
   ]
  },
  {
   "cell_type": "code",
   "execution_count": 22,
   "metadata": {},
   "outputs": [
    {
     "output_type": "stream",
     "name": "stdout",
     "text": [
      "func: 0.056643009185791016\n",
      "func(1000000)=:499999500000\n",
      "func: 0.5320947170257568\n",
      "func(10000000)=:49999995000000\n"
     ]
    }
   ],
   "source": [
    "@elapsed_time\n",
    "def func(n):\n",
    "    return sum(i for i in range(n))\n",
    "\n",
    "print(f'func(1000000)=:{func(1000000)}')\n",
    "print(f'func(10000000)=:{func(10000000)}')"
   ]
  },
  {
   "source": [
    "## functools.lru_cache()  \n",
    "関数の結果をキャッシュする関数デコレータ。同じ引数での呼び出し結果がすでにキャッシュされてる場合は、  \n",
    "関数を実行することなくキャッシュ済みの結果を返してくれる。"
   ],
   "cell_type": "markdown",
   "metadata": {}
  },
  {
   "cell_type": "code",
   "execution_count": 29,
   "metadata": {},
   "outputs": [],
   "source": [
    "from functools import lru_cache\n",
    "from time import sleep\n",
    "\n",
    "# 最近の呼び出し最大32回分までをキャッシュ\n",
    "@lru_cache(maxsize=32)\n",
    "def heavy_function(n):\n",
    "    sleep(3)\n",
    "    return n + 1"
   ]
  },
  {
   "cell_type": "code",
   "execution_count": 30,
   "metadata": {},
   "outputs": [
    {
     "output_type": "execute_result",
     "data": {
      "text/plain": [
       "3"
      ]
     },
     "metadata": {},
     "execution_count": 30
    }
   ],
   "source": [
    "# 初回なので時間がかかる\n",
    "heavy_function(2)"
   ]
  },
  {
   "cell_type": "code",
   "execution_count": null,
   "metadata": {},
   "outputs": [],
   "source": [
    "# キャッシュにヒットするのですぐに結果を得られる。\n",
    "heavy_function(2)"
   ]
  },
  {
   "source": [
    "## dataclasses.dataclass()"
   ],
   "cell_type": "markdown",
   "metadata": {}
  },
  {
   "cell_type": "code",
   "execution_count": null,
   "metadata": {},
   "outputs": [],
   "source": []
  },
  {
   "source": [
    "## プロパティ\n",
    "インスタンスメソッドに@propetyをつけると、そのインスタンスメソッドは()を付けずに呼び出せる。  \n",
    "setterをつけると、インスタンスメソッドに値の変更があった場合に呼ばれる。"
   ],
   "cell_type": "markdown",
   "metadata": {}
  },
  {
   "cell_type": "code",
   "execution_count": 1,
   "metadata": {},
   "outputs": [],
   "source": [
    "# ECサイトなどで、値引率が価格に反映されることや、値引率に不正な値を設定できないようにするコード\n",
    "class Book:\n",
    "    def __init__(self, raw_price):\n",
    "        if raw_price < 0:\n",
    "            raise ValueError('price must be positive')\n",
    "        self.raw_price = raw_price\n",
    "        self._discounts = 0\n",
    "\n",
    "    @property\n",
    "    def discounts(self):\n",
    "        return self._discounts\n",
    "    \n",
    "    @discounts.setter\n",
    "    def discounts(self, value):\n",
    "        if value < 0 or 100 < value:\n",
    "            raise ValueError('discounts must be between 0 and 100')\n",
    "        self._discounts = value\n",
    "\n",
    "    @property\n",
    "    def price(self):\n",
    "        multi = 100 - self._discounts\n",
    "        return int(self.raw_price * multi / 100)"
   ]
  },
  {
   "cell_type": "code",
   "execution_count": 2,
   "metadata": {},
   "outputs": [
    {
     "output_type": "stream",
     "name": "stdout",
     "text": [
      "初期の値引率  : 0\n価格        : 2000\n値引き後の価格: 1600\n"
     ]
    }
   ],
   "source": [
    "book = Book(2000)\n",
    "print(f'初期の値引率  : {book.discounts}')\n",
    "print(f'価格        : {book.price}')\n",
    "# 値引率を設定。値を設定しているため、setterが呼ばれる。\n",
    "book.discounts = 20\n",
    "print(f'値引き後の価格: {book.price}')"
   ]
  },
  {
   "source": [
    "## classmethod\n",
    "### Class.method()で呼び出すことができ、引数clsには、Classが入る。\n",
    "メリットとしては、  \n",
    "* 第一引数でクラスが取得できる。  \n",
    "* クラスの中にあるので、クラスをインポートすれば使える。"
   ],
   "cell_type": "markdown",
   "metadata": {}
  },
  {
   "cell_type": "code",
   "execution_count": 1,
   "metadata": {},
   "outputs": [
    {
     "output_type": "execute_result",
     "data": {
      "text/plain": [
       "1"
      ]
     },
     "metadata": {},
     "execution_count": 1
    }
   ],
   "source": [
    "# classmethodの場合は、第一引数にclsを使うことが推奨される\n",
    "class ClassTest:\n",
    "    class_variable = 0\n",
    "\n",
    "    @classmethod\n",
    "    def this_is_class_method(cls):\n",
    "        cls.class_variable += 1\n",
    "        return cls.class_variable\n",
    "\n",
    "ClassTest.this_is_class_method()"
   ]
  },
  {
   "cell_type": "code",
   "execution_count": 2,
   "metadata": {},
   "outputs": [
    {
     "output_type": "stream",
     "name": "stdout",
     "text": [
      "太郎\n殿馬\n"
     ]
    }
   ],
   "source": [
    "class Person:\n",
    "    def __init__(self, first, last):\n",
    "        self.first = first\n",
    "        self.last = last\n",
    "\n",
    "    @classmethod\n",
    "    def from_str(cls, str):\n",
    "        first, last = str.split('-')\n",
    "        # cls(first, last)はPerson(first, last)と同じになり、インスタンスが生成される\n",
    "        return cls(first, last)\n",
    "\n",
    "str_1 = \"太郎-山田\"\n",
    "str_2 = \"一人-殿馬\"\n",
    "\n",
    "person1 = Person.from_str(str_1)\n",
    "person2 = Person.from_str(str_2)\n",
    "print(person1.first)\n",
    "print(person2.last)"
   ]
  },
  {
   "source": [
    "## staticmethod\n",
    "### staticmethodは、毎回同じ結果を出力したいときによく使われる。第一引数を取る必要がない。\n",
    "### インスタンス変数やインスタンスメソッドにアクセスしないときにも使われる。"
   ],
   "cell_type": "markdown",
   "metadata": {}
  },
  {
   "cell_type": "code",
   "execution_count": 4,
   "metadata": {},
   "outputs": [
    {
     "output_type": "stream",
     "name": "stdout",
     "text": [
      "Hello\nHello\n"
     ]
    }
   ],
   "source": [
    "class Person:\n",
    "    def __init__(self, first, last):\n",
    "        self.first = first\n",
    "        self.last = last\n",
    "\n",
    "    # selfなどの第一引数なし\n",
    "    @staticmethod\n",
    "    def hello():\n",
    "        print (\"Hello\")\n",
    "\n",
    "# 2つのインスタンスを生成\n",
    "person1 = Person(\"太郎\", \"山田\")\n",
    "person2 = Person(\"一人\", \"殿馬\")\n",
    "\n",
    "# person1でもperson2でも出力結果は同じである。\n",
    "person1.hello()\n",
    "person2.hello()"
   ]
  }
 ]
}