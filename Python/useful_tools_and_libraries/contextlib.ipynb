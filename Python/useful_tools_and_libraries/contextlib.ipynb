{
 "metadata": {
  "language_info": {
   "codemirror_mode": {
    "name": "ipython",
    "version": 3
   },
   "file_extension": ".py",
   "mimetype": "text/x-python",
   "name": "python",
   "nbconvert_exporter": "python",
   "pygments_lexer": "ipython3",
   "version": "3.6.3-final"
  },
  "orig_nbformat": 2,
  "kernelspec": {
   "name": "python3",
   "display_name": "Python 3",
   "language": "python"
  }
 },
 "nbformat": 4,
 "nbformat_minor": 2,
 "cells": [
  {
   "source": [
    "## contextlib.contextmanager\n",
    "### デコレータに関連したライブラリ。"
   ],
   "cell_type": "markdown",
   "metadata": {}
  },
  {
   "cell_type": "code",
   "execution_count": 5,
   "metadata": {},
   "outputs": [
    {
     "output_type": "stream",
     "name": "stdout",
     "text": [
      "<h2>\ntest\n</h2>\n"
     ]
    }
   ],
   "source": [
    "## まずはデコレーターの復習\n",
    "def tag(f):\n",
    "    def _wrapper(content):\n",
    "        print('<h2>')\n",
    "        r = f(content)\n",
    "        print('</h2>')\n",
    "        return r\n",
    "    return _wrapper\n",
    "\n",
    "@tag\n",
    "def f(content):\n",
    "    print(content)\n",
    "\n",
    "f('test')"
   ]
  },
  {
   "cell_type": "code",
   "execution_count": 9,
   "metadata": {},
   "outputs": [
    {
     "output_type": "stream",
     "name": "stdout",
     "text": [
      "<h3>\ntest\n</h3>\n"
     ]
    }
   ],
   "source": [
    "# ここからデコレーションを施す関数tagに引数を渡したい場合には、以下のように記述する。\n",
    "def tag(name):\n",
    "    def _tag(f):\n",
    "        def _wrapper(content):\n",
    "            print('<{}>'.format(name))\n",
    "            r = f(content)\n",
    "            print('</{}>'.format(name))\n",
    "            return r\n",
    "        return _wrapper\n",
    "    return _tag\n",
    "\n",
    "@tag('h3')\n",
    "def f(content):\n",
    "    print(content)\n",
    "\n",
    "f('test')"
   ]
  },
  {
   "cell_type": "code",
   "execution_count": 2,
   "metadata": {},
   "outputs": [
    {
     "output_type": "stream",
     "name": "stdout",
     "text": [
      "<h4>\ntest\n</h4>\n"
     ]
    }
   ],
   "source": [
    "# これをわかりやすくするために、contextlib.contextmanager\n",
    "import contextlib\n",
    "\n",
    "@contextlib.contextmanager\n",
    "def tag(name):\n",
    "    print('<{}>'.format(name))\n",
    "    # yieldを使ってデコレーション対象の関数fを呼び出す。\n",
    "    yield\n",
    "    print('</{}>'.format(name))\n",
    "\n",
    "@tag('h4')\n",
    "def f(content):\n",
    "    print(content)\n",
    "\n",
    "f('test')"
   ]
  },
  {
   "cell_type": "code",
   "execution_count": 13,
   "metadata": {},
   "outputs": [
    {
     "output_type": "stream",
     "name": "stdout",
     "text": [
      "<h4>\ntest\n</h4>\n"
     ]
    }
   ],
   "source": [
    "# 関数fを使わずに、withステートメントを使うことができる。\n",
    "@contextlib.contextmanager\n",
    "def tag(name):\n",
    "    print('<{}>'.format(name))\n",
    "    # yieldを使ってデコレーション対象の関数fを呼び出す。\n",
    "    yield\n",
    "    print('</{}>'.format(name))\n",
    "\n",
    "with tag('h4'):\n",
    "    print('test')\n"
   ]
  },
  {
   "cell_type": "code",
   "execution_count": 15,
   "metadata": {},
   "outputs": [
    {
     "output_type": "stream",
     "name": "stdout",
     "text": [
      "test0\n<h4>\ntest\n<h5>\ntest2\n</h5>\n</h4>\n"
     ]
    }
   ],
   "source": [
    "# withステートメントでネストのような形も作れる。\n",
    "@contextlib.contextmanager\n",
    "def tag(name):\n",
    "    print('<{}>'.format(name))\n",
    "    # yieldを使ってデコレーション対象の関数fを呼び出す。\n",
    "    yield\n",
    "    print('</{}>'.format(name))\n",
    "\n",
    "def f():\n",
    "    print('test0')\n",
    "    with tag('h4'):\n",
    "        print('test')\n",
    "        with tag('h5'):\n",
    "            print('test2')\n",
    "\n",
    "f()"
   ]
  },
  {
   "source": [
    "## contextlib.ContextDecorator\n",
    "### 用途はcontextlib.contextmanagerとが、実装方法が異なる。ContextDecoratorを継承したクラスを定義して利用する。"
   ],
   "cell_type": "markdown",
   "metadata": {}
  },
  {
   "cell_type": "code",
   "execution_count": 8,
   "metadata": {},
   "outputs": [
    {
     "output_type": "stream",
     "name": "stdout",
     "text": [
      "<h4>\ntest\n</h4>\n"
     ]
    }
   ],
   "source": [
    "# contextlib.ContextDecoratorを継承したクラスを定義\n",
    "class tag(contextlib.ContextDecorator):\n",
    "    def __init__(self, name):\n",
    "        self.name = name\n",
    "        self.start_tag = '<{}>'.format(name)\n",
    "        self.end_tag = '</{}>'.format(name)\n",
    "\n",
    "    # デコレーターに入った時の動作を定義\n",
    "    def __enter__(self):\n",
    "        print(self.start_tag)\n",
    "\n",
    "    # デコレーターを抜けたときの動作を定義\n",
    "    def __exit__(self, exc_type, exc_val, exc_tb):\n",
    "        print(self.end_tag)\n",
    "\n",
    "with tag('h4'):\n",
    "    print('test')"
   ]
  },
  {
   "cell_type": "code",
   "execution_count": 10,
   "metadata": {},
   "outputs": [
    {
     "output_type": "stream",
     "name": "stdout",
     "text": [
      "<h4>\nexc_type : <class 'Exception'>\nexc_val  : error\nexc_tb   : <traceback object at 0x0000020498C19988>\n</h4>\n"
     ]
    },
    {
     "output_type": "error",
     "ename": "Exception",
     "evalue": "error",
     "traceback": [
      "\u001b[1;31m---------------------------------------------------------------------------\u001b[0m",
      "\u001b[1;31mException\u001b[0m                                 Traceback (most recent call last)",
      "\u001b[1;32m<ipython-input-10-67d56da42203>\u001b[0m in \u001b[0;36m<module>\u001b[1;34m\u001b[0m\n\u001b[0;32m     17\u001b[0m \u001b[1;33m\u001b[0m\u001b[0m\n\u001b[0;32m     18\u001b[0m \u001b[1;32mwith\u001b[0m \u001b[0mtag\u001b[0m\u001b[1;33m(\u001b[0m\u001b[1;34m'h4'\u001b[0m\u001b[1;33m)\u001b[0m\u001b[1;33m:\u001b[0m\u001b[1;33m\u001b[0m\u001b[0m\n\u001b[1;32m---> 19\u001b[1;33m     \u001b[1;32mraise\u001b[0m \u001b[0mException\u001b[0m\u001b[1;33m(\u001b[0m\u001b[1;34m'error'\u001b[0m\u001b[1;33m)\u001b[0m\u001b[1;33m\u001b[0m\u001b[0m\n\u001b[0m\u001b[0;32m     20\u001b[0m     \u001b[0mprint\u001b[0m\u001b[1;33m(\u001b[0m\u001b[1;34m'test'\u001b[0m\u001b[1;33m)\u001b[0m\u001b[1;33m\u001b[0m\u001b[0m\n",
      "\u001b[1;31mException\u001b[0m: error"
     ]
    }
   ],
   "source": [
    "class tag(contextlib.ContextDecorator):\n",
    "    def __init__(self, name):\n",
    "        self.name = name\n",
    "        self.start_tag = '<{}>'.format(name)\n",
    "        self.end_tag = '</{}>'.format(name)\n",
    "\n",
    "    def __enter__(self):\n",
    "        print(self.start_tag)\n",
    "\n",
    "    # Exceptionなどの情報が引数に入っている\n",
    "    def __exit__(self, exc_type, exc_val, exc_tb):\n",
    "        print(f'exc_type : {exc_type}')\n",
    "        print(f'exc_val  : {exc_val}')\n",
    "        print(f'exc_tb   : {exc_tb}')\n",
    "        print(self.end_tag)\n",
    "\n",
    "with tag('h4'):\n",
    "    raise Exception('error')\n",
    "    print('test')"
   ]
  },
  {
   "source": [
    "## contextlib.supress"
   ],
   "cell_type": "markdown",
   "metadata": {}
  },
  {
   "cell_type": "code",
   "execution_count": 11,
   "metadata": {},
   "outputs": [],
   "source": [
    "import os\n",
    "\n",
    "try:\n",
    "    # 存在しないファイル\n",
    "    os.remove('somefile.tmp')\n",
    "except FileNotFoundError:\n",
    "    pass"
   ]
  },
  {
   "cell_type": "code",
   "execution_count": 12,
   "metadata": {},
   "outputs": [],
   "source": [
    "# contextlib.suppressを使ってwithステートメントで、try-exceptと同じコードが書ける。\n",
    "with contextlib.suppress(FileNotFoundError):\n",
    "    os.remove('somefile.tmp')"
   ]
  },
  {
   "source": [
    "## contextlib.exitstack"
   ],
   "cell_type": "markdown",
   "metadata": {}
  },
  {
   "cell_type": "code",
   "execution_count": 19,
   "metadata": {},
   "outputs": [
    {
     "output_type": "stream",
     "name": "stdout",
     "text": [
      "do something\nmore task\nclean up\n"
     ]
    }
   ],
   "source": [
    "def is_ok_job():\n",
    "    try:\n",
    "        print('do something')\n",
    "        raise Exception('error')\n",
    "        return True\n",
    "    except:\n",
    "        return False\n",
    "\n",
    "def cleanup():\n",
    "    print('clean up')\n",
    "\n",
    "try:\n",
    "    is_ok = is_ok_job()\n",
    "    print('more task')\n",
    "finally:\n",
    "    # is_okがTrueでなかった場合にcleanupの処理を実行する\n",
    "    if not is_ok:\n",
    "        cleanup()"
   ]
  },
  {
   "source": [
    "このtry~finallyを置き換えるのが、contextlib.ExitStack  \n",
    "以下のように使う。"
   ],
   "cell_type": "markdown",
   "metadata": {}
  },
  {
   "cell_type": "code",
   "execution_count": 1,
   "metadata": {},
   "outputs": [
    {
     "output_type": "stream",
     "name": "stdout",
     "text": [
      "do something\nmore more more\nclean up\n"
     ]
    }
   ],
   "source": [
    "import contextlib\n",
    "\n",
    "def is_ok_job():\n",
    "    try:\n",
    "        print('do something')\n",
    "        raise Exception('Error!')\n",
    "        return True\n",
    "    except Exception:\n",
    "        return False\n",
    "\n",
    "\n",
    "def cleanup():\n",
    "    print('clean up')\n",
    "\n",
    "\n",
    "with contextlib.ExitStack() as stack:\n",
    "    # cleanupをスタックしておく。\n",
    "    stack.callback(cleanup)\n",
    "\n",
    "    is_ok = is_ok_job()\n",
    "    print('more more more')\n",
    "\n",
    "    # is_okがTrueの場合にpop_allでスタックを空にする。\n",
    "    # もしFalseの場合はstackされたcleanupがコールバックされる。\n",
    "    if is_ok:\n",
    "        stack.pop_all()"
   ]
  },
  {
   "source": [
    "cleanup関数が引数を持っていて引数を渡す場合は、以下のように書ける。"
   ],
   "cell_type": "markdown",
   "metadata": {}
  },
  {
   "cell_type": "code",
   "execution_count": 2,
   "metadata": {},
   "outputs": [
    {
     "output_type": "stream",
     "name": "stdout",
     "text": [
      "do something\nmore more more\nhello\n('good', 'ng')\n{'mysql': '3306', 'postgres': '5432'}\n"
     ]
    }
   ],
   "source": [
    "import contextlib\n",
    "\n",
    "def is_ok_job():\n",
    "    try:\n",
    "        print('do something')\n",
    "        raise Exception('Error!')\n",
    "        return True\n",
    "    except Exception:\n",
    "        return False\n",
    "\n",
    "\n",
    "def cleanup(msg, *args, **kwargs):\n",
    "    print(msg)\n",
    "    print(args)\n",
    "    print(kwargs)\n",
    "\n",
    "\n",
    "with contextlib.ExitStack() as stack:\n",
    "    # 引数を渡す場合は、以下のように渡す。\n",
    "    stack.callback(cleanup, 'hello', 'good', 'ng', mysql='3306',\n",
    "                   postgres='5432')\n",
    "\n",
    "    is_ok = is_ok_job()\n",
    "    print('more more more')\n",
    "\n",
    "    if is_ok:\n",
    "        stack.pop_all()"
   ]
  },
  {
   "source": [
    "また、withステートメントの中でインナー関数としてcleanup関数を記述できる。  \n",
    "@stack.callbackをインナー関数に記述する"
   ],
   "cell_type": "markdown",
   "metadata": {}
  },
  {
   "cell_type": "code",
   "execution_count": 3,
   "metadata": {},
   "outputs": [
    {
     "output_type": "stream",
     "name": "stdout",
     "text": [
      "do something\nmore more more\ninner cleanup\n"
     ]
    }
   ],
   "source": [
    "with contextlib.ExitStack() as stack:\n",
    "    @stack.callback\n",
    "    def inner_cleanup():\n",
    "        print('inner cleanup')\n",
    "\n",
    "\n",
    "    is_ok = is_ok_job()\n",
    "    print('more more more')\n",
    "\n",
    "    if is_ok:\n",
    "        stack.pop_all()"
   ]
  },
  {
   "cell_type": "code",
   "execution_count": null,
   "metadata": {},
   "outputs": [],
   "source": []
  }
 ]
}