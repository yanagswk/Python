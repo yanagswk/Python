{
 "metadata": {
  "language_info": {
   "codemirror_mode": {
    "name": "ipython",
    "version": 3
   },
   "file_extension": ".py",
   "mimetype": "text/x-python",
   "name": "python",
   "nbconvert_exporter": "python",
   "pygments_lexer": "ipython3",
   "version": "3.8.3-final"
  },
  "orig_nbformat": 2,
  "kernelspec": {
   "name": "python3",
   "display_name": "Python 3"
  }
 },
 "nbformat": 4,
 "nbformat_minor": 2,
 "cells": [
  {
   "cell_type": "markdown",
   "metadata": {},
   "source": [
    "## __new\\__()  \n",
    "インスタンス化をした時に__new__()が呼ばれて、その戻り値が__init__()の第一引数に入る。"
   ]
  },
  {
   "cell_type": "code",
   "execution_count": 3,
   "metadata": {},
   "outputs": [],
   "source": [
    "class Klass:\n",
    "    # コンストラクタ\n",
    "    def __new__(cls, *args):\n",
    "        print(f'{cls=}')\n",
    "        print('new', args)\n",
    "        # インスタンスを生成して返す\n",
    "        return super().__new__(cls)\n",
    "    \n",
    "    def __init__(self, *args):\n",
    "        # イニシャライザ\n",
    "        # インスタンスの初期化はここで行う。\n",
    "        print('init', *args)"
   ]
  },
  {
   "cell_type": "code",
   "execution_count": 4,
   "metadata": {},
   "outputs": [
    {
     "name": "stdout",
     "output_type": "stream",
     "text": "cls=<class '__main__.Klass'>\nnew (1, 2, 3)\ninit 1 2 3\n"
    }
   ],
   "source": [
    "# インスタンス化\n",
    "kis = Klass(1, 2, 3)"
   ]
  },
  {
   "cell_type": "markdown",
   "metadata": {},
   "source": [
    "## シングルトン\n",
    "### インスタンスが一つしか作成できないようにする\n",
    "### 絶対にアプリケーション全体で統一しなければならない仕組みの実装に使用される"
   ]
  },
  {
   "cell_type": "code",
   "execution_count": 1,
   "metadata": {},
   "outputs": [
    {
     "name": "stdout",
     "output_type": "stream",
     "text": [
      "one.input=1\none.input=2, two.input=2\none.input=0, two.input=0\n"
     ]
    }
   ],
   "source": [
    "class Singleton(object):\n",
    "    # __new__はインスタンスが生成する前に呼ばれる\n",
    "    def __new__(cls, *args, **kargs):\n",
    "        # hasattrは第一引数のオブジェクトが、第二引数の属性名(文字列)を持っているかを判定\n",
    "        if not hasattr(cls, \"_instance\"):\n",
    "            cls._instance = super(Singleton, cls).__new__(cls)\n",
    "        return cls._instance\n",
    "\n",
    "class Myclass(Singleton):\n",
    "    def __init__(self, input):\n",
    "        self.input = input\n",
    "\n",
    "if __name__ == '__main__':\n",
    "    one = Myclass(1)\n",
    "    print(\"one.input={0}\".format(one.input))\n",
    "    two = Myclass(2)\n",
    "    print(\"one.input={0}, two.input={1}\".format(one.input, two.input))\n",
    "    one.input = 0\n",
    "    print(\"one.input={0}, two.input={1}\".format(one.input, two.input))"
   ]
  },
  {
   "cell_type": "code",
   "execution_count": 3,
   "metadata": {},
   "outputs": [
    {
     "name": "stdout",
     "output_type": "stream",
     "text": [
      "spam spam spam\n"
     ]
    }
   ],
   "source": [
    "class Sandwich:\n",
    "    __singleton = None\n",
    "\n",
    "    def __new__(cls, *args, **kwargs):\n",
    "        if not cls.__singleton:\n",
    "            cls.__singleton = super(Sandwich, cls).__new__(cls)\n",
    "        return cls.__singleton\n",
    "\n",
    "    def set_spam(self, spam=None):\n",
    "        self.__spam = spam\n",
    "\n",
    "    def get_spam(self):\n",
    "        return print(self.__spam)\n",
    "\n",
    "# sw1 と sw2 は同じものだということがわかる。\n",
    "sw1 = Sandwich()\n",
    "sw2 = Sandwich()\n",
    "sw1.set_spam('spam spam spam')\n",
    "sw2.get_spam()"
   ]
  },
  {
   "cell_type": "markdown",
   "metadata": {},
   "source": [
    "## 特殊メソッド\n",
    "### いろいろある"
   ]
  },
  {
   "cell_type": "code",
   "execution_count": 4,
   "metadata": {},
   "outputs": [
    {
     "name": "stdout",
     "output_type": "stream",
     "text": [
      "__str__: Word!!!!!!!\n__len__: 4\n__add__: test#########\n"
     ]
    }
   ],
   "source": [
    "class Word:\n",
    "\n",
    "    # 初期化\n",
    "    def __init__(self, text):\n",
    "        self.text = text\n",
    "\n",
    "    # 文字列として読み込まれたときに呼ばれる\n",
    "    def __str__(self):\n",
    "        return 'Word!!!!!!!'\n",
    "\n",
    "    # 文字の長さ。リストや辞書型利用時などに使われる\n",
    "    def __len__(self):\n",
    "        return len(self.text)\n",
    "    \n",
    "    # 足し算のメソッド\n",
    "    def __add__(self, word):\n",
    "        return self.text.lower() + word.text.lower()\n",
    "\n",
    "w = Word('test')\n",
    "w2 = Word('#########')\n",
    "print(f'__str__: {w}')\n",
    "print(f'__len__: {len(w)}')\n",
    "print(f'__add__: {w + w2}')"
   ]
  },
  {
   "cell_type": "markdown",
   "metadata": {},
   "source": []
  },
  {
   "cell_type": "markdown",
   "metadata": {},
   "source": []
  },
  {
   "cell_type": "markdown",
   "metadata": {},
   "source": [
    "## デストラクタ"
   ]
  },
  {
   "cell_type": "markdown",
   "metadata": {},
   "source": [
    "## 抽象class (metaclass)"
   ]
  }
 ]
}