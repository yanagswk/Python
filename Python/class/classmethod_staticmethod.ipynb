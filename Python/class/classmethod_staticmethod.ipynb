{
 "metadata": {
  "language_info": {
   "codemirror_mode": {
    "name": "ipython",
    "version": 3
   },
   "file_extension": ".py",
   "mimetype": "text/x-python",
   "name": "python",
   "nbconvert_exporter": "python",
   "pygments_lexer": "ipython3",
   "version": "3.7.6-final"
  },
  "orig_nbformat": 2,
  "kernelspec": {
   "name": "python3",
   "display_name": "Python 3"
  }
 },
 "nbformat": 4,
 "nbformat_minor": 2,
 "cells": [
  {
   "source": [
    "## classmethod\n",
    "### Class.method()で呼び出すことができ、引数clsには、Classが入る。"
   ],
   "cell_type": "markdown",
   "metadata": {}
  },
  {
   "cell_type": "code",
   "execution_count": 14,
   "metadata": {},
   "outputs": [
    {
     "output_type": "execute_result",
     "data": {
      "text/plain": [
       "1"
      ]
     },
     "metadata": {},
     "execution_count": 14
    }
   ],
   "source": [
    "# classmethodの場合は、第一引数にclsを使うことが推奨される\n",
    "class ClassTest:\n",
    "    class_variable = 0\n",
    "\n",
    "    @classmethod\n",
    "    def this_is_class_method(cls):\n",
    "        cls.class_variable += 1\n",
    "        return cls.class_variable\n",
    "\n",
    "ClassTest.this_is_class_method()"
   ]
  },
  {
   "cell_type": "code",
   "execution_count": 23,
   "metadata": {},
   "outputs": [
    {
     "output_type": "stream",
     "name": "stdout",
     "text": [
      "太郎\n殿馬\n"
     ]
    }
   ],
   "source": [
    "class Person:\n",
    "    def __init__(self, first, last):\n",
    "        self.first = first\n",
    "        self.last = last\n",
    "\n",
    "    @classmethod\n",
    "    def from_str(cls, str):\n",
    "        first, last = str.split('-')\n",
    "        # cls(first, last)はPerson(first, last)と同じになり、インスタンスが生成される\n",
    "        return cls(first, last)\n",
    "\n",
    "str_1 = \"太郎-山田\"\n",
    "str_2 = \"一人-殿馬\"\n",
    "\n",
    "person1 = Person.from_str(str_1)\n",
    "person2 = Person.from_str(str_2)\n",
    "print(person1.first)\n",
    "print(person2.last)"
   ]
  },
  {
   "source": [
    "## staticmethod\n",
    "### staticmethodは、毎回同じ結果を出力したいときによく使われる。第一引数を取る必要がない。\n",
    "### インスタンス変数やインスタンスメソッドにアクセスしないときにも使われる。"
   ],
   "cell_type": "markdown",
   "metadata": {}
  },
  {
   "cell_type": "code",
   "execution_count": 18,
   "metadata": {},
   "outputs": [
    {
     "output_type": "stream",
     "name": "stdout",
     "text": [
      "Hello\nHello\n"
     ]
    }
   ],
   "source": [
    "class Person:\n",
    "    def __init__(self, first, last):\n",
    "        self.first = first\n",
    "        self.last = last\n",
    "\n",
    "    # selfなどの第一引数なし\n",
    "    @staticmethod\n",
    "    def hello():\n",
    "        print (\"Hello\")\n",
    "\n",
    "# 2つのインスタンスを生成\n",
    "person1 = Person(\"太郎\", \"山田\")\n",
    "person2 = Person(\"一人\", \"殿馬\")\n",
    "\n",
    "# person1でもperson2でも出力結果は同じである。\n",
    "person1.hello()\n",
    "person2.hello()"
   ]
  },
  {
   "cell_type": "code",
   "execution_count": null,
   "metadata": {},
   "outputs": [],
   "source": []
  }
 ]
}