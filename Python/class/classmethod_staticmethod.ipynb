{
 "metadata": {
  "language_info": {
   "codemirror_mode": {
    "name": "ipython",
    "version": 3
   },
   "file_extension": ".py",
   "mimetype": "text/x-python",
   "name": "python",
   "nbconvert_exporter": "python",
   "pygments_lexer": "ipython3",
   "version": "3.8.3-final"
  },
  "orig_nbformat": 2,
  "kernelspec": {
   "name": "python3",
   "display_name": "Python 3"
  }
 },
 "nbformat": 4,
 "nbformat_minor": 2,
 "cells": [
  {
   "cell_type": "markdown",
   "metadata": {},
   "source": [
    "## classmethod\n",
    "### Class.method()で呼び出すことができ、引数clsには、Classが入る。"
   ]
  },
  {
   "cell_type": "code",
   "execution_count": 14,
   "metadata": {},
   "outputs": [
    {
     "data": {
      "text/plain": [
       "1"
      ]
     },
     "execution_count": 14,
     "metadata": {},
     "output_type": "execute_result"
    }
   ],
   "source": [
    "# classmethodの場合は、第一引数にclsを使うことが推奨される\n",
    "class ClassTest:\n",
    "    class_variable = 0\n",
    "\n",
    "    @classmethod\n",
    "    def this_is_class_method(cls):\n",
    "        cls.class_variable += 1\n",
    "        return cls.class_variable\n",
    "\n",
    "ClassTest.this_is_class_method()"
   ]
  },
  {
   "cell_type": "code",
   "execution_count": 23,
   "metadata": {},
   "outputs": [
    {
     "name": "stdout",
     "output_type": "stream",
     "text": [
      "太郎\n殿馬\n"
     ]
    }
   ],
   "source": [
    "class Person:\n",
    "    def __init__(self, first, last):\n",
    "        self.first = first\n",
    "        self.last = last\n",
    "\n",
    "    @classmethod\n",
    "    def from_str(cls, str):\n",
    "        first, last = str.split('-')\n",
    "        # cls(first, last)はPerson(first, last)と同じになり、インスタンスが生成される\n",
    "        return cls(first, last)\n",
    "\n",
    "str_1 = \"太郎-山田\"\n",
    "str_2 = \"一人-殿馬\"\n",
    "\n",
    "person1 = Person.from_str(str_1)\n",
    "person2 = Person.from_str(str_2)\n",
    "print(person1.first)\n",
    "print(person2.last)"
   ]
  },
  {
   "cell_type": "markdown",
   "metadata": {},
   "source": [
    "メリットとしては、  \n",
    "* 第一引数でクラスが取得できる。  \n",
    "* クラスの中にあるので、クラスをインポートすれば使える。"
   ]
  },
  {
   "cell_type": "markdown",
   "metadata": {},
   "source": [
    "## staticmethod\n",
    "### staticmethodは、毎回同じ結果を出力したいときによく使われる。第一引数を取る必要がない。\n",
    "### インスタンス変数やインスタンスメソッドにアクセスしないときにも使われる。"
   ]
  },
  {
   "cell_type": "code",
   "execution_count": 18,
   "metadata": {},
   "outputs": [
    {
     "name": "stdout",
     "output_type": "stream",
     "text": [
      "Hello\nHello\n"
     ]
    }
   ],
   "source": [
    "class Person:\n",
    "    def __init__(self, first, last):\n",
    "        self.first = first\n",
    "        self.last = last\n",
    "\n",
    "    # selfなどの第一引数なし\n",
    "    @staticmethod\n",
    "    def hello():\n",
    "        print (\"Hello\")\n",
    "\n",
    "# 2つのインスタンスを生成\n",
    "person1 = Person(\"太郎\", \"山田\")\n",
    "person2 = Person(\"一人\", \"殿馬\")\n",
    "\n",
    "# person1でもperson2でも出力結果は同じである。\n",
    "person1.hello()\n",
    "person2.hello()"
   ]
  },
  {
   "cell_type": "markdown",
   "metadata": {},
   "source": [
    "## デコレーター\n",
    "### 関数やクラスの前後に、任意の処理を追加できる。"
   ]
  },
  {
   "cell_type": "code",
   "execution_count": 1,
   "metadata": {},
   "outputs": [],
   "source": [
    "# デコレート対象の関数fの呼び出し前後でログを出力するデコレータ\n",
    "def deco1(f):\n",
    "    print('deco1 called')\n",
    "    def wrapper():\n",
    "        print('before exec')\n",
    "        # 元の関数が実行\n",
    "        v = f()\n",
    "        print('after exec')\n",
    "        return v\n",
    "    return wrapper"
   ]
  },
  {
   "cell_type": "code",
   "execution_count": 3,
   "metadata": {},
   "outputs": [
    {
     "name": "stdout",
     "output_type": "stream",
     "text": "deco1 called\nbefore exec\nexec\nafter exec\n"
    },
    {
     "data": {
      "text/plain": "1"
     },
     "execution_count": 3,
     "metadata": {},
     "output_type": "execute_result"
    }
   ],
   "source": [
    "@deco1\n",
    "def func():\n",
    "    print('exec')\n",
    "    return 1\n",
    "\n",
    "func()"
   ]
  },
  {
   "cell_type": "code",
   "execution_count": null,
   "metadata": {},
   "outputs": [],
   "source": [
    "元の関数を引数なしで呼び出すことしか想定してないので、デコレート対象の関数が引数を必要都する場合は、以下のようにエラーが出る。"
   ]
  },
  {
   "cell_type": "code",
   "execution_count": 6,
   "metadata": {},
   "outputs": [
    {
     "name": "stdout",
     "output_type": "stream",
     "text": "deco1 called\n"
    },
    {
     "ename": "TypeError",
     "evalue": "wrapper() takes 0 positional arguments but 2 were given",
     "output_type": "error",
     "traceback": [
      "\u001b[0;31m---------------------------------------------------------------------------\u001b[0m",
      "\u001b[0;31mTypeError\u001b[0m                                 Traceback (most recent call last)",
      "\u001b[0;32m<ipython-input-6-258c3dbc1a87>\u001b[0m in \u001b[0;36m<module>\u001b[0;34m\u001b[0m\n\u001b[1;32m      4\u001b[0m     \u001b[0;32mreturn\u001b[0m \u001b[0mx\u001b[0m\u001b[0;34m,\u001b[0m \u001b[0my\u001b[0m\u001b[0;34m\u001b[0m\u001b[0;34m\u001b[0m\u001b[0m\n\u001b[1;32m      5\u001b[0m \u001b[0;34m\u001b[0m\u001b[0m\n\u001b[0;32m----> 6\u001b[0;31m \u001b[0mfunc\u001b[0m\u001b[0;34m(\u001b[0m\u001b[0;36m1\u001b[0m\u001b[0;34m,\u001b[0m \u001b[0;36m2\u001b[0m\u001b[0;34m)\u001b[0m\u001b[0;34m\u001b[0m\u001b[0;34m\u001b[0m\u001b[0m\n\u001b[0m",
      "\u001b[0;31mTypeError\u001b[0m: wrapper() takes 0 positional arguments but 2 were given"
     ]
    }
   ],
   "source": [
    "@deco1\n",
    "def func(x, y):\n",
    "    print('exec')\n",
    "    return x, y\n",
    "\n",
    "func(1, 2)"
   ]
  },
  {
   "cell_type": "markdown",
   "metadata": {},
   "source": [
    "実際に呼び出される関数は、wrapper()だから、wrapper()が任意の引数を受け取り、元の関数を呼び出す際に受け取った引数をそのまま渡してあげる。"
   ]
  },
  {
   "cell_type": "code",
   "execution_count": 8,
   "metadata": {},
   "outputs": [],
   "source": [
    "def deco2(f):\n",
    "    def wrapper(*args, **kwargs):\n",
    "        print('before exec')\n",
    "        # 引数を渡して元の関数を実行\n",
    "        v = f(*args, **kwargs)\n",
    "        print('after exec')\n",
    "        return v\n",
    "    return wrapper"
   ]
  },
  {
   "cell_type": "markdown",
   "metadata": {},
   "source": [
    "func(1, 2)を呼び出すと、実際はwrapper(1, 2)が実行される。"
   ]
  },
  {
   "cell_type": "code",
   "execution_count": 9,
   "metadata": {},
   "outputs": [
    {
     "name": "stdout",
     "output_type": "stream",
     "text": "before exec\nexec\nafter exec\n"
    },
    {
     "data": {
      "text/plain": "(1, 2)"
     },
     "execution_count": 9,
     "metadata": {},
     "output_type": "execute_result"
    }
   ],
   "source": [
    "@deco2\n",
    "def func(x,y):\n",
    "    print('exec')\n",
    "    return x, y\n",
    "\n",
    "func(1, 2)"
   ]
  },
  {
   "cell_type": "code",
   "execution_count": null,
   "metadata": {},
   "outputs": [],
   "source": []
  }
 ]
}