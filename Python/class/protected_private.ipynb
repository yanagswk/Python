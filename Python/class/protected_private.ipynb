{
 "metadata": {
  "language_info": {
   "codemirror_mode": {
    "name": "ipython",
    "version": 3
   },
   "file_extension": ".py",
   "mimetype": "text/x-python",
   "name": "python",
   "nbconvert_exporter": "python",
   "pygments_lexer": "ipython3",
   "version": "3.7.6-final"
  },
  "orig_nbformat": 2,
  "kernelspec": {
   "name": "python3",
   "display_name": "Python 3"
  }
 },
 "nbformat": 4,
 "nbformat_minor": 2,
 "cells": [
  {
   "source": [
    "## protected変数 (変数の前に(_)アンダースコアをつける)\n",
    "### そのクラス自身、そのクラスを継承したクラスと親クラスからのみアクセスできる変数\n",
    "### 外部から直接いじってほしくないとき"
   ],
   "cell_type": "markdown",
   "metadata": {}
  },
  {
   "cell_type": "code",
   "execution_count": 30,
   "metadata": {},
   "outputs": [
    {
     "output_type": "stream",
     "name": "stdout",
     "text": [
      "Hello name = Jiro, age = 18\nTaro\n"
     ]
    }
   ],
   "source": [
    "class Human:\n",
    "    # クラス変数のProtected変数\n",
    "    _msg = \"Hello\"\n",
    "\n",
    "    def __init__(self, name, age):\n",
    "        self._name = name\n",
    "        self._age = age\n",
    "    \n",
    "    def print_msg(self):\n",
    "        print(\"{} name = {}, age = {}\".format(self._msg, self._name, self._age))\n",
    "    \n",
    "taro = Human(\"Taro\", 20)\n",
    "jiro = Human('Jiro', 18)\n",
    "jiro.print_msg()\n",
    "\n",
    "# Protected変数だが、クラス外でもアクセスできてしまう。\n",
    "# protected変数は、暗黙の了解で成り立っている。\n",
    "print(taro._name)\n"
   ]
  },
  {
   "source": [
    "## private (変数の前に(__)アンダースコアを２つける)\n",
    "### クラス内部からのみアクセスが可能"
   ],
   "cell_type": "markdown",
   "metadata": {}
  },
  {
   "cell_type": "code",
   "execution_count": 38,
   "metadata": {},
   "outputs": [
    {
     "output_type": "error",
     "ename": "AttributeError",
     "evalue": "'Human' object has no attribute '__name'",
     "traceback": [
      "\u001b[1;31m---------------------------------------------------------------------------\u001b[0m",
      "\u001b[1;31mAttributeError\u001b[0m                            Traceback (most recent call last)",
      "\u001b[1;32m<ipython-input-38-ac4f17a6da83>\u001b[0m in \u001b[0;36m<module>\u001b[1;34m\u001b[0m\n\u001b[0;32m     18\u001b[0m \u001b[1;33m\u001b[0m\u001b[0m\n\u001b[0;32m     19\u001b[0m \u001b[1;31m#これだとアクセスできずエラーになる\u001b[0m\u001b[1;33m\u001b[0m\u001b[1;33m\u001b[0m\u001b[1;33m\u001b[0m\u001b[0m\n\u001b[1;32m---> 20\u001b[1;33m \u001b[0mprint\u001b[0m\u001b[1;33m(\u001b[0m\u001b[0mtaro\u001b[0m\u001b[1;33m.\u001b[0m\u001b[0m__name\u001b[0m\u001b[1;33m)\u001b[0m\u001b[1;33m\u001b[0m\u001b[1;33m\u001b[0m\u001b[0m\n\u001b[0m\u001b[0;32m     21\u001b[0m \u001b[1;33m\u001b[0m\u001b[0m\n\u001b[0;32m     22\u001b[0m \u001b[1;31m# Private変数ですが、クラス外からも普通にアクセスできる。\u001b[0m\u001b[1;33m\u001b[0m\u001b[1;33m\u001b[0m\u001b[1;33m\u001b[0m\u001b[0m\n",
      "\u001b[1;31mAttributeError\u001b[0m: 'Human' object has no attribute '__name'"
     ]
    }
   ],
   "source": [
    "class HumanThree:\n",
    "    # クラス変数のPrivate変数です。\n",
    "    __msg = \"Hello\"\n",
    "\n",
    "    def __init__(self, name, age, gender):\n",
    "        #インスタンス変数のPrivate変数です。\n",
    "        self.__name = name\n",
    "        self.__age = age\n",
    "        #Protectedの変数\n",
    "        self._gender = gender\n",
    "\n",
    "    def print_msg(self):\n",
    "        print(\"{} name = {}, age = {}\".format(self.__msg, self.__name, self.__age))\n",
    "\n",
    "taro = Human(\"Taro\", 20, 'Man')\n",
    "jiro = Human(\"Jiro\", 18, 'Man')\n",
    "\n",
    "#クラス内部からしかアクセスできないためエラーになる\n",
    "print(taro.__name)\n",
    "\n",
    "# Private変数ですが、クラス外からも普通にアクセスできる。\n",
    "# Private暗黙の了解のもと成り立っている。\n",
    "print(taro._Human__name)\n",
    "\n",
    "# Private変数の書き換えもできます\n",
    "jiro._Human__name = \"saburo\"\n",
    "\n",
    "print(jiro._Human__name)\n",
    "jiro._Human__msg = \"GoodBye\"\n",
    "print(jiro._Human__msg)\n",
    "\n",
    "class HumanThreeSub(HumanThree):\n",
    "    def __init__(self, name, age, gender):\n",
    "        super().__init__(name, age, gender)\n",
    "\n",
    "    def print_name(self):\n",
    "        #↑Protected変数は継承先でも参照できる。\n",
    "        print(self._gender)\n",
    "        #↑Private変数は、継承先だとこのままアクセスできず、エラーになる。\n",
    "        print(self.__name)\n",
    "        #↑クラス外のアクセスと同様のアクセス方法でアクセスできる。\n",
    "        print(self._Human__name)\n",
    "\n",
    "sample = HumanThreeSub(\"Shiro\", 24, \"man\")\n",
    "sample.print_name()"
   ]
  },
  {
   "cell_type": "code",
   "execution_count": null,
   "metadata": {},
   "outputs": [],
   "source": []
  }
 ]
}