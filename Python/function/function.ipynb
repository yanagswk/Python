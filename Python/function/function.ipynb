{
 "metadata": {
  "language_info": {
   "codemirror_mode": {
    "name": "ipython",
    "version": 3
   },
   "file_extension": ".py",
   "mimetype": "text/x-python",
   "name": "python",
   "nbconvert_exporter": "python",
   "pygments_lexer": "ipython3",
   "version": "3.8.3-final"
  },
  "orig_nbformat": 2,
  "kernelspec": {
   "name": "python3",
   "display_name": "Python 3"
  }
 },
 "nbformat": 4,
 "nbformat_minor": 2,
 "cells": [
  {
   "cell_type": "markdown",
   "metadata": {},
   "source": [
    "## 組み込み関数"
   ]
  },
  {
   "cell_type": "markdown",
   "metadata": {},
   "source": [
    "# map(関数, 配列オブジェクト)\n",
    "### タプル、辞書、セット、文字列といった複数の要素を持つ配列オブジェクト内のすべての要素に、\n",
    "### 引数で渡す関数の処理を適用してイテレータを返す関数"
   ]
  },
  {
   "cell_type": "code",
   "execution_count": 6,
   "metadata": {},
   "outputs": [
    {
     "name": "stdout",
     "output_type": "stream",
     "text": [
      "python\ncss\nhtml\njavascript\nmap_type: <class 'map'>\n"
     ]
    }
   ],
   "source": [
    "words = ['Python', 'CSS', 'HTML', 'JavaScript']\n",
    "\n",
    "def text_lower(word):\n",
    "    # 小文字にする\n",
    "    return word.lower()\n",
    "\n",
    "map_word = map(text_lower, words)\n",
    "for word in map_word:\n",
    "    print(word)\n",
    "    \n",
    "# map関数から返される値はリストではなくイテレータ\n",
    "print(f'map_type: {type(map_word)}')"
   ]
  },
  {
   "cell_type": "code",
   "execution_count": 7,
   "metadata": {},
   "outputs": [
    {
     "name": "stdout",
     "output_type": "stream",
     "text": [
      "['python', 'css', 'html', 'javascript']\nlist_map: <class 'list'>\n"
     ]
    }
   ],
   "source": [
    "# listに置き換えることもできる\n",
    "list_map = list(map(text_lower, words))\n",
    "print(list_map)\n",
    "print(f'list_map: {type(list_map)}')"
   ]
  },
  {
   "cell_type": "code",
   "execution_count": 10,
   "metadata": {},
   "outputs": [
    {
     "name": "stdout",
     "output_type": "stream",
     "text": [
      "python\ncss\nhtml\njavascript\n"
     ]
    }
   ],
   "source": [
    "# lambdaとの相性が良い\n",
    "lambda_map = map(lambda word:word.lower(), words)\n",
    "\n",
    "# イテレータなのでnext関数で取り出せる\n",
    "print(next(lambda_map))\n",
    "print(next(lambda_map))\n",
    "print(next(lambda_map))\n",
    "print(next(lambda_map))"
   ]
  },
  {
   "cell_type": "markdown",
   "metadata": {},
   "source": [
    "# hasattr(対象オブジェクト, 属性名の文字列)\n",
    "### 属性を持つかどうかを判定"
   ]
  },
  {
   "cell_type": "code",
   "execution_count": 18,
   "metadata": {},
   "outputs": [
    {
     "name": "stdout",
     "output_type": "stream",
     "text": [
      "user: False\nname: True\nuser: True\nname: True\n"
     ]
    }
   ],
   "source": [
    "class User():\n",
    "    def __init__(self, name=\"\"):\n",
    "        self.name = name\n",
    " \n",
    "user = User(\"Kuro\")\n",
    " \n",
    "# age属性とname属性を持つかどうかを判定する\n",
    "print(f'user: {hasattr(user, \"age\")}')\n",
    "print(f'name: {hasattr(user, \"name\")}')\n",
    " \n",
    "# ageという属性を追加する\n",
    "user.age = 30\n",
    " \n",
    "# 再度判定する\n",
    "print(f'user: {hasattr(user, \"age\")}')\n",
    "print(f'name: {hasattr(user, \"name\")}')"
   ]
  },
  {
   "cell_type": "markdown",
   "metadata": {},
   "source": [
    "# isinstance(インスタンスオブジェクト, 対象オブジェクト)\n",
    "### 第一引数に渡したインスタンスオブジェクトが、第二引数に渡したクラスに属していれば、Trueを返す"
   ]
  },
  {
   "cell_type": "code",
   "execution_count": 2,
   "metadata": {},
   "outputs": [
    {
     "name": "stdout",
     "output_type": "stream",
     "text": "True\nTrue\n"
    }
   ],
   "source": [
    "d = {}\n",
    "print(f'{isinstance(d, dict)}')\n",
    "print(f'{isinstance(d, object)}')"
   ]
  },
  {
   "cell_type": "markdown",
   "metadata": {},
   "source": [
    "複数のクラスで比較する場合は、いずれかのクラスに属していればTrueとなる。"
   ]
  },
  {
   "cell_type": "code",
   "execution_count": 3,
   "metadata": {},
   "outputs": [
    {
     "name": "stdout",
     "output_type": "stream",
     "text": "True\n"
    }
   ],
   "source": [
    "print(f'{isinstance(d, (list, int, dict))}')"
   ]
  },
  {
   "cell_type": "markdown",
   "metadata": {},
   "source": [
    "## all() ・・・すべての要素が真の場合、Trueを返す\n",
    "## any() ・・・真となる要素が1つでもあれば、Trueを返す"
   ]
  },
  {
   "cell_type": "code",
   "execution_count": 6,
   "metadata": {},
   "outputs": [
    {
     "name": "stdout",
     "output_type": "stream",
     "text": "all() :True\nall() :False\n"
    }
   ],
   "source": [
    "print(f\"all() :{all(['Python', 'javascript', 'php'])}\")\n",
    "# 文字列が空だからFalse\n",
    "print(f\"all() :{all(['Python', 'javascript', ''])}\")"
   ]
  },
  {
   "cell_type": "code",
   "execution_count": 7,
   "metadata": {},
   "outputs": [
    {
     "name": "stdout",
     "output_type": "stream",
     "text": "any() :True\nany() :False\n"
    }
   ],
   "source": [
    "print(f\"any() :{any(['Python', '', ''])}\")\n",
    "print(f\"any() :{any(['', '', ''])}\")"
   ]
  },
  {
   "cell_type": "code",
   "execution_count": null,
   "metadata": {},
   "outputs": [],
   "source": []
  }
 ]
}