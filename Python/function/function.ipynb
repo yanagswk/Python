{
 "metadata": {
  "language_info": {
   "codemirror_mode": {
    "name": "ipython",
    "version": 3
   },
   "file_extension": ".py",
   "mimetype": "text/x-python",
   "name": "python",
   "nbconvert_exporter": "python",
   "pygments_lexer": "ipython3",
   "version": "3.7.6-final"
  },
  "orig_nbformat": 2,
  "kernelspec": {
   "name": "python3",
   "display_name": "Python 3"
  }
 },
 "nbformat": 4,
 "nbformat_minor": 2,
 "cells": [
  {
   "source": [
    "## 組み込み関数"
   ],
   "cell_type": "markdown",
   "metadata": {}
  },
  {
   "source": [
    "# map(関数, 配列オブジェクト)\n",
    "### タプル、辞書、セット、文字列といった複数の要素を持つ配列オブジェクト内のすべての要素に、\n",
    "### 引数で渡す関数の処理を適用してイテレータを返す関数"
   ],
   "cell_type": "markdown",
   "metadata": {}
  },
  {
   "cell_type": "code",
   "execution_count": 6,
   "metadata": {},
   "outputs": [
    {
     "output_type": "stream",
     "name": "stdout",
     "text": [
      "python\ncss\nhtml\njavascript\nmap_type: <class 'map'>\n"
     ]
    }
   ],
   "source": [
    "words = ['Python', 'CSS', 'HTML', 'JavaScript']\n",
    "\n",
    "def text_lower(word):\n",
    "    # 小文字にする\n",
    "    return word.lower()\n",
    "\n",
    "map_word = map(text_lower, words)\n",
    "for word in map_word:\n",
    "    print(word)\n",
    "    \n",
    "# map関数から返される値はリストではなくイテレータ\n",
    "print(f'map_type: {type(map_word)}')"
   ]
  },
  {
   "cell_type": "code",
   "execution_count": 7,
   "metadata": {},
   "outputs": [
    {
     "output_type": "stream",
     "name": "stdout",
     "text": [
      "['python', 'css', 'html', 'javascript']\nlist_map: <class 'list'>\n"
     ]
    }
   ],
   "source": [
    "# listに置き換えることもできる\n",
    "list_map = list(map(text_lower, words))\n",
    "print(list_map)\n",
    "print(f'list_map: {type(list_map)}')"
   ]
  },
  {
   "cell_type": "code",
   "execution_count": 10,
   "metadata": {},
   "outputs": [
    {
     "output_type": "stream",
     "name": "stdout",
     "text": [
      "python\ncss\nhtml\njavascript\n"
     ]
    }
   ],
   "source": [
    "# lambdaとの相性が良い\n",
    "lambda_map = map(lambda word:word.lower(), words)\n",
    "\n",
    "# イテレータなのでnext関数で取り出せる\n",
    "print(next(lambda_map))\n",
    "print(next(lambda_map))\n",
    "print(next(lambda_map))\n",
    "print(next(lambda_map))"
   ]
  },
  {
   "source": [
    "# hasattr(対象オブジェクト, 属性名の文字列)\n",
    "### 属性を持つかどうかを判定"
   ],
   "cell_type": "markdown",
   "metadata": {}
  },
  {
   "cell_type": "code",
   "execution_count": 18,
   "metadata": {},
   "outputs": [
    {
     "output_type": "stream",
     "name": "stdout",
     "text": [
      "user: False\nname: True\nuser: True\nname: True\n"
     ]
    }
   ],
   "source": [
    "class User():\n",
    "    def __init__(self, name=\"\"):\n",
    "        self.name = name\n",
    " \n",
    "user = User(\"Kuro\")\n",
    " \n",
    "# age属性とname属性を持つかどうかを判定する\n",
    "print(f'user: {hasattr(user, \"age\")}')\n",
    "print(f'name: {hasattr(user, \"name\")}')\n",
    " \n",
    "# ageという属性を追加する\n",
    "user.age = 30\n",
    " \n",
    "# 再度判定する\n",
    "print(f'user: {hasattr(user, \"age\")}')\n",
    "print(f'name: {hasattr(user, \"name\")}')"
   ]
  },
  {
   "source": [
    "## isinstance()"
   ],
   "cell_type": "markdown",
   "metadata": {}
  },
  {
   "cell_type": "code",
   "execution_count": null,
   "metadata": {},
   "outputs": [],
   "source": []
  }
 ]
}