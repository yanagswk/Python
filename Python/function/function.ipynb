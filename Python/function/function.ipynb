{
 "metadata": {
  "language_info": {
   "codemirror_mode": {
    "name": "ipython",
    "version": 3
   },
   "file_extension": ".py",
   "mimetype": "text/x-python",
   "name": "python",
   "nbconvert_exporter": "python",
   "pygments_lexer": "ipython3",
   "version": "3.6.3-final"
  },
  "orig_nbformat": 2,
  "kernelspec": {
   "name": "python3",
   "display_name": "Python 3",
   "language": "python"
  }
 },
 "nbformat": 4,
 "nbformat_minor": 2,
 "cells": [
  {
   "cell_type": "markdown",
   "metadata": {},
   "source": [
    "## 組み込み関数"
   ]
  },
  {
   "cell_type": "markdown",
   "metadata": {},
   "source": [
    "# map(関数, 配列オブジェクト)\n",
    "### タプル、辞書、セット、文字列といった複数の要素を持つ配列オブジェクト内のすべての要素に、\n",
    "### 引数で渡す関数の処理を適用してイテレータを返す関数"
   ]
  },
  {
   "cell_type": "code",
   "execution_count": 6,
   "metadata": {},
   "outputs": [
    {
     "name": "stdout",
     "output_type": "stream",
     "text": [
      "python\ncss\nhtml\njavascript\nmap_type: <class 'map'>\n"
     ]
    }
   ],
   "source": [
    "words = ['Python', 'CSS', 'HTML', 'JavaScript']\n",
    "\n",
    "def text_lower(word):\n",
    "    # 小文字にする\n",
    "    return word.lower()\n",
    "\n",
    "map_word = map(text_lower, words)\n",
    "for word in map_word:\n",
    "    print(word)\n",
    "    \n",
    "# map関数から返される値はリストではなくイテレータ\n",
    "print(f'map_type: {type(map_word)}')"
   ]
  },
  {
   "cell_type": "code",
   "execution_count": 7,
   "metadata": {},
   "outputs": [
    {
     "name": "stdout",
     "output_type": "stream",
     "text": [
      "['python', 'css', 'html', 'javascript']\nlist_map: <class 'list'>\n"
     ]
    }
   ],
   "source": [
    "# listに置き換えることもできる\n",
    "list_map = list(map(text_lower, words))\n",
    "print(list_map)\n",
    "print(f'list_map: {type(list_map)}')"
   ]
  },
  {
   "cell_type": "code",
   "execution_count": 10,
   "metadata": {},
   "outputs": [
    {
     "name": "stdout",
     "output_type": "stream",
     "text": [
      "python\ncss\nhtml\njavascript\n"
     ]
    }
   ],
   "source": [
    "# lambdaとの相性が良い\n",
    "lambda_map = map(lambda word:word.lower(), words)\n",
    "\n",
    "# イテレータなのでnext関数で取り出せる\n",
    "print(next(lambda_map))\n",
    "print(next(lambda_map))\n",
    "print(next(lambda_map))\n",
    "print(next(lambda_map))"
   ]
  },
  {
   "cell_type": "markdown",
   "metadata": {},
   "source": [
    "# hasattr(対象オブジェクト, 属性名の文字列)\n",
    "### 属性を持つかどうかを判定"
   ]
  },
  {
   "cell_type": "code",
   "execution_count": 18,
   "metadata": {},
   "outputs": [
    {
     "name": "stdout",
     "output_type": "stream",
     "text": [
      "user: False\nname: True\nuser: True\nname: True\n"
     ]
    }
   ],
   "source": [
    "class User():\n",
    "    def __init__(self, name=\"\"):\n",
    "        self.name = name\n",
    " \n",
    "user = User(\"Kuro\")\n",
    " \n",
    "# age属性とname属性を持つかどうかを判定する\n",
    "print(f'user: {hasattr(user, \"age\")}')\n",
    "print(f'name: {hasattr(user, \"name\")}')\n",
    " \n",
    "# ageという属性を追加する\n",
    "user.age = 30\n",
    " \n",
    "# 再度判定する\n",
    "print(f'user: {hasattr(user, \"age\")}')\n",
    "print(f'name: {hasattr(user, \"name\")}')"
   ]
  },
  {
   "cell_type": "markdown",
   "metadata": {},
   "source": [
    "# isinstance(インスタンスオブジェクト, 対象オブジェクト)\n",
    "### 第一引数に渡したインスタンスオブジェクトが、第二引数に渡したクラスに属していれば、Trueを返す"
   ]
  },
  {
   "cell_type": "code",
   "execution_count": 2,
   "metadata": {},
   "outputs": [
    {
     "name": "stdout",
     "output_type": "stream",
     "text": "True\nTrue\n"
    }
   ],
   "source": [
    "d = {}\n",
    "print(f'{isinstance(d, dict)}')\n",
    "print(f'{isinstance(d, object)}')"
   ]
  },
  {
   "cell_type": "markdown",
   "metadata": {},
   "source": [
    "複数のクラスで比較する場合は、いずれかのクラスに属していればTrueとなる。"
   ]
  },
  {
   "cell_type": "code",
   "execution_count": 3,
   "metadata": {},
   "outputs": [
    {
     "name": "stdout",
     "output_type": "stream",
     "text": "True\n"
    }
   ],
   "source": [
    "print(f'{isinstance(d, (list, int, dict))}')"
   ]
  },
  {
   "cell_type": "markdown",
   "metadata": {},
   "source": [
    "## all() ・・・すべての要素が真の場合、Trueを返す\n",
    "## any() ・・・真となる要素が1つでもあれば、Trueを返す"
   ]
  },
  {
   "cell_type": "code",
   "execution_count": 6,
   "metadata": {},
   "outputs": [
    {
     "name": "stdout",
     "output_type": "stream",
     "text": "all() :True\nall() :False\n"
    }
   ],
   "source": [
    "print(f\"all() :{all(['Python', 'javascript', 'php'])}\")\n",
    "# 文字列が空だからFalse\n",
    "print(f\"all() :{all(['Python', 'javascript', ''])}\")"
   ]
  },
  {
   "cell_type": "code",
   "execution_count": 7,
   "metadata": {},
   "outputs": [
    {
     "name": "stdout",
     "output_type": "stream",
     "text": "any() :True\nany() :False\n"
    }
   ],
   "source": [
    "print(f\"any() :{any(['Python', '', ''])}\")\n",
    "print(f\"any() :{any(['', '', ''])}\")"
   ]
  },
  {
   "source": [
    "## setattr(対象オブジェクト, 属性名, 属性値)・・・属性を追加できる。\n",
    "## getattr(対象オブジェクト, 属性名, デフォルト値)・・・引数の属性を取得できる。\n",
    "## delattr(対象オブジェクト, 属性名) ・・・属性を削除できる。"
   ],
   "cell_type": "markdown",
   "metadata": {}
  },
  {
   "source": [
    "よく見かけるテクニックとして、インスタンス生成時に属性が多くなる場合、引数をdictにして属性を追加する、という方法がある。"
   ],
   "cell_type": "markdown",
   "metadata": {}
  },
  {
   "cell_type": "code",
   "execution_count": 15,
   "metadata": {},
   "outputs": [],
   "source": [
    "class User():\n",
    "    def __init__(self, attrs):\n",
    "        for k, v in attrs.items():\n",
    "            setattr(self, k, v)"
   ]
  },
  {
   "cell_type": "code",
   "execution_count": 17,
   "metadata": {},
   "outputs": [
    {
     "output_type": "stream",
     "name": "stdout",
     "text": [
      "setattr: Kuro\ngetattr: 30\n"
     ]
    },
    {
     "output_type": "error",
     "ename": "AttributeError",
     "evalue": "'User' object has no attribute 'name'",
     "traceback": [
      "\u001b[1;31m---------------------------------------------------------------------------\u001b[0m",
      "\u001b[1;31mAttributeError\u001b[0m                            Traceback (most recent call last)",
      "\u001b[1;32m<ipython-input-17-2f8f032921ce>\u001b[0m in \u001b[0;36m<module>\u001b[1;34m\u001b[0m\n\u001b[0;32m      8\u001b[0m \u001b[1;31m# del m.aと同じ\u001b[0m\u001b[1;33m\u001b[0m\u001b[1;33m\u001b[0m\u001b[0m\n\u001b[0;32m      9\u001b[0m \u001b[0mdelattr\u001b[0m\u001b[1;33m(\u001b[0m\u001b[0mobj\u001b[0m\u001b[1;33m,\u001b[0m \u001b[1;34m'name'\u001b[0m\u001b[1;33m)\u001b[0m\u001b[1;33m\u001b[0m\u001b[0m\n\u001b[1;32m---> 10\u001b[1;33m \u001b[0mobj\u001b[0m\u001b[1;33m.\u001b[0m\u001b[0mname\u001b[0m\u001b[1;33m\u001b[0m\u001b[0m\n\u001b[0m",
      "\u001b[1;31mAttributeError\u001b[0m: 'User' object has no attribute 'name'"
     ]
    }
   ],
   "source": [
    "obj = User({\"name\": \"Kuro\", \"age\": 30, \"memo\": \"very cool!\"})\n",
    "print(f'setattr: {obj.name}')\n",
    "\n",
    "# obj.ageと同じ\n",
    "attr = 'age'\n",
    "print(f'getattr: {getattr(obj, attr)}')\n",
    "\n",
    "# del m.aと同じ\n",
    "delattr(obj, 'name')\n",
    "obj.name"
   ]
  },
  {
   "source": [
    "属性が多岐にわたる場合、引数で指定すると膨大になりますが、この方法ならば可変で様々な属性を付加することができる。"
   ],
   "cell_type": "markdown",
   "metadata": {}
  }
 ]
}