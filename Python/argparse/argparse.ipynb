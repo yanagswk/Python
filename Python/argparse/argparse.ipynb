{
 "metadata": {
  "language_info": {
   "codemirror_mode": {
    "name": "ipython",
    "version": 3
   },
   "file_extension": ".py",
   "mimetype": "text/x-python",
   "name": "python",
   "nbconvert_exporter": "python",
   "pygments_lexer": "ipython3",
   "version": "3.7.6-final"
  },
  "orig_nbformat": 2,
  "kernelspec": {
   "name": "python3",
   "display_name": "Python 3"
  }
 },
 "nbformat": 4,
 "nbformat_minor": 2,
 "cells": [
  {
   "source": [
    "## ArgumentParser (argparse)\n",
    "### python実行時に、コマンドライン引数をとれる"
   ],
   "cell_type": "markdown",
   "metadata": {}
  },
  {
   "cell_type": "code",
   "execution_count": 2,
   "metadata": {},
   "outputs": [
    {
     "output_type": "stream",
     "name": "stderr",
     "text": [
      "usage: ipykernel_launcher [-h] [--args2 ARGS2] args1\nipykernel_launcher: error: the following arguments are required: args1\n"
     ]
    },
    {
     "output_type": "error",
     "ename": "SystemExit",
     "evalue": "2",
     "traceback": [
      "An exception has occurred, use %tb to see the full traceback.\n",
      "\u001b[1;31mSystemExit\u001b[0m\u001b[1;31m:\u001b[0m 2\n"
     ]
    }
   ],
   "source": [
    "import argparse\n",
    "\n",
    "# パーサーをつくる\n",
    "parser = argparse.ArgumentParser(description=\"プログラムの説明\")\n",
    "\n",
    "# parser.add_argumentで受け取る引数を追加していく\n",
    "parser.add_argument('args1', help=\"引数の説明\")   # 必須引数\n",
    "parser.add_argument('--args2', help=\"引数の説明\") # --をつけるとオプション引数\n",
    "\n",
    "# 引数を解析\n",
    "args = parser.parse_args()\n",
    "\n",
    "print(args.args1)\n",
    "print(args.args2)\n",
    "\n"
   ]
  },
  {
   "cell_type": "code",
   "execution_count": null,
   "metadata": {},
   "outputs": [],
   "source": []
  }
 ]
}